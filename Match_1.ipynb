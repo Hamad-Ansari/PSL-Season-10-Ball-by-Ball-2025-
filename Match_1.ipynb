{
 "cells": [
  {
   "cell_type": "markdown",
   "id": "1db8b188",
   "metadata": {},
   "source": [
    "# **PSL Season 10 Ball-by-Ball (2025)**"
   ]
  },
  {
   "cell_type": "markdown",
   "id": "54cc0bc8",
   "metadata": {},
   "source": [
    "## **Match first**\n",
    "### *Lahoer Qulander & Islamabad United*\n",
    "**Rawelpindi Cricket Stadium**"
   ]
  },
  {
   "cell_type": "code",
   "execution_count": 25,
   "id": "cda89931",
   "metadata": {},
   "outputs": [],
   "source": [
    "import pandas as pd\n",
    "import plotly.express as px\n",
    "import matplotlib.pyplot as plt"
   ]
  },
  {
   "cell_type": "code",
   "execution_count": 1,
   "id": "b8c7a9e2",
   "metadata": {},
   "outputs": [
    {
     "name": "stdout",
     "output_type": "stream",
     "text": [
      "{'meta': {'data_version': 0.92, 'created': '2025-04-11', 'revision': 1}, 'info': {'balls_per_over': 6, 'city': 'Rawalpindi', 'competition': 'Pakistan Super League', 'dates': ['2025-04-11'], 'gender': 'male', 'match_type': 'T20', 'outcome': {'winner': 'Islamabad United', 'by': {'wickets': 8}}, 'overs': 20, 'player_of_match': ['JO Holder'], 'players': {'Lahore Qalandars': ['Fakhar Zaman', 'Muhammad Naeem', 'Abdullah Shafique', 'DJ Mitchell', 'SW Billings', 'Sikandar Raza', 'Jahandad Khan', 'D Wiese', 'Shaheen Shah Afridi', 'Haris Rauf', 'Asif Afridi'], 'Islamabad United': ['Sahibzada Farhan', 'AGS Gous', 'C Munro', 'Agha Salman', 'Azam Khan', 'Shadab Khan', 'JO Holder', 'Imad Wasim', 'Muhammad Shahzad', 'Naseem Shah', 'RP Meredith']}, 'registry': {'people': {'AGS Gous': 'd1305df0', 'Abdullah Shafique': 'fc2fffb5', 'Agha Salman': '89c16049', 'Ahsan Raza': 'e0e5b209', 'Asif Afridi': '9489623e', 'Azam Khan': 'ee8f1a6d', 'C Munro': 'af2c687b', 'CM Brown': '448f4f1c', 'D Wiese': 'aa8d28ae', 'DJ Mitchell': 'eade4650', 'Fakhar Zaman': '1777c020', 'Haris Rauf': '24bb1c2f', 'Imad Wasim': '9cb8d7a6', 'JO Holder': '0f721006', 'Jahandad Khan': '22d73540', 'Muhammad Naeem': 'e35b7b91', 'Muhammad Shahzad': 'f59b2121', 'Naseem Shah': '9c9af282', 'RP Meredith': '64775749', 'RS Madugalle': '766b5798', 'Rashid Riaz': 'fb82725e', 'SW Billings': 'c16d4035', 'Sahibzada Farhan': '1aba45cd', 'Shadab Khan': '9de62878', 'Shaheen Shah Afridi': '45a7e761', 'Sikandar Raza': '26d041c4', 'Zulfiqar Jan': '006de9ca'}}, 'teams': ['Lahore Qalandars', 'Islamabad United'], 'toss': {'winner': 'Islamabad United', 'decision': 'field'}, 'umpires': ['Ahsan Raza', 'CM Brown'], 'venue': 'Rawalpindi Cricket Stadium'}, 'innings': [{'1st innings': {'team': 'Lahore Qalandars', 'deliveries': [{0.1: {'non_striker': 'Muhammad Naeem', 'bowler': 'Naseem Shah', 'runs': {'extras': 0, 'total': 0, 'batsman': 0}, 'batsman': 'Fakhar Zaman'}}, {0.2: {'non_striker': 'Muhammad Naeem', 'bowler': 'Naseem Shah', 'runs': {'extras': 0, 'total': 0, 'batsman': 0}, 'batsman': 'Fakhar Zaman'}}, {0.3: {'non_striker': 'Muhammad Naeem', 'bowler': 'Naseem Shah', 'runs': {'extras': 0, 'total': 1, 'batsman': 1}, 'batsman': 'Fakhar Zaman'}}, {0.4: {'non_striker': 'Fakhar Zaman', 'bowler': 'Naseem Shah', 'runs': {'extras': 0, 'total': 0, 'batsman': 0}, 'batsman': 'Muhammad Naeem'}}, {0.5: {'non_striker': 'Fakhar Zaman', 'bowler': 'Naseem Shah', 'runs': {'extras': 0, 'total': 0, 'batsman': 0}, 'batsman': 'Muhammad Naeem'}}, {0.6: {'non_striker': 'Fakhar Zaman', 'bowler': 'Naseem Shah', 'runs': {'extras': 0, 'total': 0, 'batsman': 0}, 'batsman': 'Muhammad Naeem'}}, {1.1: {'non_striker': 'Muhammad Naeem', 'bowler': 'RP Meredith', 'runs': {'extras': 1, 'total': 1, 'batsman': 0}, 'extras': {'legbyes': 1}, 'batsman': 'Fakhar Zaman'}}, {1.2: {'non_striker': 'Fakhar Zaman', 'bowler': 'RP Meredith', 'runs': {'extras': 0, 'total': 1, 'batsman': 1}, 'batsman': 'Muhammad Naeem'}}, {1.3: {'non_striker': 'Muhammad Naeem', 'bowler': 'RP Meredith', 'runs': {'extras': 0, 'total': 0, 'batsman': 0}, 'batsman': 'Fakhar Zaman'}}, {1.4: {'non_striker': 'Muhammad Naeem', 'bowler': 'RP Meredith', 'runs': {'extras': 1, 'total': 1, 'batsman': 0}, 'extras': {'wides': 1}, 'batsman': 'Fakhar Zaman'}}, {1.5: {'non_striker': 'Muhammad Naeem', 'bowler': 'RP Meredith', 'runs': {'extras': 0, 'total': 0, 'batsman': 0}, 'batsman': 'Fakhar Zaman', 'wicket': {'player_out': 'Fakhar Zaman', 'fielders': ['Azam Khan'], 'kind': 'caught'}}}, {1.6: {'non_striker': 'Muhammad Naeem', 'bowler': 'RP Meredith', 'runs': {'extras': 0, 'total': 1, 'batsman': 1}, 'batsman': 'Abdullah Shafique'}}, {1.7: {'non_striker': 'Abdullah Shafique', 'bowler': 'RP Meredith', 'runs': {'extras': 0, 'total': 0, 'batsman': 0}, 'batsman': 'Muhammad Naeem'}}, {2.1: {'non_striker': 'Muhammad Naeem', 'bowler': 'Naseem Shah', 'runs': {'extras': 0, 'total': 2, 'batsman': 2}, 'batsman': 'Abdullah Shafique'}}, {2.2: {'non_striker': 'Muhammad Naeem', 'bowler': 'Naseem Shah', 'runs': {'extras': 0, 'total': 4, 'batsman': 4}, 'batsman': 'Abdullah Shafique'}}, {2.3: {'non_striker': 'Muhammad Naeem', 'bowler': 'Naseem Shah', 'runs': {'extras': 0, 'total': 0, 'batsman': 0}, 'batsman': 'Abdullah Shafique'}}, {2.4: {'non_striker': 'Muhammad Naeem', 'bowler': 'Naseem Shah', 'runs': {'extras': 0, 'total': 4, 'batsman': 4}, 'batsman': 'Abdullah Shafique'}}, {2.5: {'non_striker': 'Muhammad Naeem', 'bowler': 'Naseem Shah', 'runs': {'extras': 0, 'total': 1, 'batsman': 1}, 'batsman': 'Abdullah Shafique'}}, {2.6: {'non_striker': 'Abdullah Shafique', 'bowler': 'Naseem Shah', 'runs': {'extras': 0, 'total': 6, 'batsman': 6}, 'batsman': 'Muhammad Naeem'}}, {3.1: {'non_striker': 'Muhammad Naeem', 'bowler': 'RP Meredith', 'runs': {'extras': 0, 'total': 0, 'batsman': 0}, 'batsman': 'Abdullah Shafique'}}, {3.2: {'non_striker': 'Muhammad Naeem', 'bowler': 'RP Meredith', 'runs': {'extras': 0, 'total': 4, 'batsman': 4}, 'batsman': 'Abdullah Shafique'}}, {3.3: {'non_striker': 'Muhammad Naeem', 'bowler': 'RP Meredith', 'runs': {'extras': 0, 'total': 1, 'batsman': 1}, 'batsman': 'Abdullah Shafique'}}, {3.4: {'non_striker': 'Abdullah Shafique', 'bowler': 'RP Meredith', 'runs': {'extras': 1, 'total': 1, 'batsman': 0}, 'extras': {'legbyes': 1}, 'batsman': 'Muhammad Naeem'}}, {3.5: {'non_striker': 'Muhammad Naeem', 'bowler': 'RP Meredith', 'runs': {'extras': 0, 'total': 1, 'batsman': 1}, 'batsman': 'Abdullah Shafique'}}, {3.6: {'non_striker': 'Abdullah Shafique', 'bowler': 'RP Meredith', 'runs': {'extras': 0, 'total': 1, 'batsman': 1}, 'batsman': 'Muhammad Naeem'}}, {4.1: {'non_striker': 'Abdullah Shafique', 'bowler': 'JO Holder', 'runs': {'extras': 0, 'total': 0, 'batsman': 0}, 'batsman': 'Muhammad Naeem'}}, {4.2: {'non_striker': 'Abdullah Shafique', 'bowler': 'JO Holder', 'runs': {'extras': 0, 'total': 0, 'batsman': 0}, 'batsman': 'Muhammad Naeem'}}, {4.3: {'non_striker': 'Abdullah Shafique', 'bowler': 'JO Holder', 'runs': {'extras': 0, 'total': 0, 'batsman': 0}, 'batsman': 'Muhammad Naeem', 'wicket': {'player_out': 'Muhammad Naeem', 'fielders': ['Azam Khan'], 'kind': 'caught'}}}, {4.4: {'non_striker': 'Abdullah Shafique', 'bowler': 'JO Holder', 'runs': {'extras': 0, 'total': 1, 'batsman': 1}, 'batsman': 'DJ Mitchell'}}, {4.5: {'non_striker': 'DJ Mitchell', 'bowler': 'JO Holder', 'runs': {'extras': 0, 'total': 1, 'batsman': 1}, 'batsman': 'Abdullah Shafique'}}, {4.6: {'non_striker': 'Abdullah Shafique', 'bowler': 'JO Holder', 'runs': {'extras': 0, 'total': 0, 'batsman': 0}, 'batsman': 'DJ Mitchell'}}, {5.1: {'non_striker': 'DJ Mitchell', 'bowler': 'Imad Wasim', 'runs': {'extras': 0, 'total': 0, 'batsman': 0}, 'batsman': 'Abdullah Shafique'}}, {5.2: {'non_striker': 'DJ Mitchell', 'bowler': 'Imad Wasim', 'runs': {'extras': 0, 'total': 1, 'batsman': 1}, 'batsman': 'Abdullah Shafique'}}, {5.3: {'non_striker': 'Abdullah Shafique', 'bowler': 'Imad Wasim', 'runs': {'extras': 0, 'total': 1, 'batsman': 1}, 'batsman': 'DJ Mitchell'}}, {5.4: {'non_striker': 'DJ Mitchell', 'bowler': 'Imad Wasim', 'runs': {'extras': 0, 'total': 1, 'batsman': 1}, 'batsman': 'Abdullah Shafique'}}, {5.5: {'non_striker': 'Abdullah Shafique', 'bowler': 'Imad Wasim', 'runs': {'extras': 0, 'total': 0, 'batsman': 0}, 'batsman': 'DJ Mitchell'}}, {5.6: {'non_striker': 'Abdullah Shafique', 'bowler': 'Imad Wasim', 'runs': {'extras': 0, 'total': 1, 'batsman': 1}, 'batsman': 'DJ Mitchell'}}, {6.1: {'non_striker': 'Abdullah Shafique', 'bowler': 'JO Holder', 'runs': {'extras': 0, 'total': 0, 'batsman': 0}, 'batsman': 'DJ Mitchell'}}, {6.2: {'non_striker': 'Abdullah Shafique', 'bowler': 'JO Holder', 'runs': {'extras': 0, 'total': 0, 'batsman': 0}, 'batsman': 'DJ Mitchell'}}, {6.3: {'non_striker': 'Abdullah Shafique', 'bowler': 'JO Holder', 'runs': {'extras': 0, 'total': 4, 'batsman': 4}, 'batsman': 'DJ Mitchell'}}, {6.4: {'non_striker': 'Abdullah Shafique', 'bowler': 'JO Holder', 'runs': {'extras': 0, 'total': 0, 'batsman': 0}, 'batsman': 'DJ Mitchell'}}, {6.5: {'non_striker': 'Abdullah Shafique', 'bowler': 'JO Holder', 'runs': {'extras': 0, 'total': 1, 'batsman': 1}, 'batsman': 'DJ Mitchell'}}, {6.6: {'non_striker': 'DJ Mitchell', 'bowler': 'JO Holder', 'runs': {'extras': 0, 'total': 4, 'batsman': 4}, 'batsman': 'Abdullah Shafique'}}, {7.1: {'non_striker': 'Abdullah Shafique', 'bowler': 'Imad Wasim', 'runs': {'extras': 0, 'total': 4, 'batsman': 4}, 'batsman': 'DJ Mitchell'}}, {7.2: {'non_striker': 'Abdullah Shafique', 'bowler': 'Imad Wasim', 'runs': {'extras': 0, 'total': 0, 'batsman': 0}, 'batsman': 'DJ Mitchell'}}, {7.3: {'non_striker': 'Abdullah Shafique', 'bowler': 'Imad Wasim', 'runs': {'extras': 0, 'total': 1, 'batsman': 1}, 'batsman': 'DJ Mitchell'}}, {7.4: {'non_striker': 'DJ Mitchell', 'bowler': 'Imad Wasim', 'runs': {'extras': 0, 'total': 1, 'batsman': 1}, 'batsman': 'Abdullah Shafique'}}, {7.5: {'non_striker': 'Abdullah Shafique', 'bowler': 'Imad Wasim', 'runs': {'extras': 0, 'total': 0, 'batsman': 0}, 'batsman': 'DJ Mitchell', 'wicket': {'player_out': 'DJ Mitchell', 'fielders': ['Shadab Khan'], 'kind': 'caught'}}}, {7.6: {'non_striker': 'Abdullah Shafique', 'bowler': 'Imad Wasim', 'runs': {'extras': 0, 'total': 0, 'batsman': 0}, 'batsman': 'SW Billings'}}, {8.1: {'non_striker': 'SW Billings', 'bowler': 'Shadab Khan', 'runs': {'extras': 0, 'total': 6, 'batsman': 6}, 'batsman': 'Abdullah Shafique'}}, {8.2: {'non_striker': 'SW Billings', 'bowler': 'Shadab Khan', 'runs': {'extras': 0, 'total': 0, 'batsman': 0}, 'batsman': 'Abdullah Shafique'}}, {8.3: {'non_striker': 'SW Billings', 'bowler': 'Shadab Khan', 'runs': {'extras': 0, 'total': 1, 'batsman': 1}, 'batsman': 'Abdullah Shafique'}}, {8.4: {'non_striker': 'Abdullah Shafique', 'bowler': 'Shadab Khan', 'runs': {'extras': 0, 'total': 0, 'batsman': 0}, 'batsman': 'SW Billings'}}, {8.5: {'non_striker': 'Abdullah Shafique', 'bowler': 'Shadab Khan', 'runs': {'extras': 0, 'total': 0, 'batsman': 0}, 'batsman': 'SW Billings', 'wicket': {'player_out': 'SW Billings', 'fielders': ['Agha Salman'], 'kind': 'caught'}}}, {8.6: {'non_striker': 'Abdullah Shafique', 'bowler': 'Shadab Khan', 'runs': {'extras': 0, 'total': 0, 'batsman': 0}, 'batsman': 'Sikandar Raza'}}, {9.1: {'non_striker': 'Sikandar Raza', 'bowler': 'Imad Wasim', 'runs': {'extras': 0, 'total': 1, 'batsman': 1}, 'batsman': 'Abdullah Shafique'}}, {9.2: {'non_striker': 'Abdullah Shafique', 'bowler': 'Imad Wasim', 'runs': {'extras': 0, 'total': 0, 'batsman': 0}, 'batsman': 'Sikandar Raza'}}, {9.3: {'non_striker': 'Abdullah Shafique', 'bowler': 'Imad Wasim', 'runs': {'extras': 0, 'total': 1, 'batsman': 1}, 'batsman': 'Sikandar Raza'}}, {9.4: {'non_striker': 'Sikandar Raza', 'bowler': 'Imad Wasim', 'runs': {'extras': 0, 'total': 1, 'batsman': 1}, 'batsman': 'Abdullah Shafique'}}, {9.5: {'non_striker': 'Abdullah Shafique', 'bowler': 'Imad Wasim', 'runs': {'extras': 0, 'total': 1, 'batsman': 1}, 'batsman': 'Sikandar Raza'}}, {9.6: {'non_striker': 'Sikandar Raza', 'bowler': 'Imad Wasim', 'runs': {'extras': 0, 'total': 6, 'batsman': 6}, 'batsman': 'Abdullah Shafique'}}, {10.1: {'non_striker': 'Abdullah Shafique', 'bowler': 'Shadab Khan', 'runs': {'extras': 0, 'total': 0, 'batsman': 0}, 'batsman': 'Sikandar Raza'}}, {10.2: {'non_striker': 'Abdullah Shafique', 'bowler': 'Shadab Khan', 'runs': {'extras': 0, 'total': 2, 'batsman': 2}, 'batsman': 'Sikandar Raza'}}, {10.3: {'non_striker': 'Abdullah Shafique', 'bowler': 'Shadab Khan', 'runs': {'extras': 0, 'total': 4, 'batsman': 4}, 'batsman': 'Sikandar Raza'}}, {10.4: {'non_striker': 'Abdullah Shafique', 'bowler': 'Shadab Khan', 'runs': {'extras': 0, 'total': 6, 'batsman': 6}, 'batsman': 'Sikandar Raza'}}, {10.5: {'non_striker': 'Abdullah Shafique', 'bowler': 'Shadab Khan', 'runs': {'extras': 0, 'total': 1, 'batsman': 1}, 'batsman': 'Sikandar Raza'}}, {10.6: {'non_striker': 'Sikandar Raza', 'bowler': 'Shadab Khan', 'runs': {'extras': 0, 'total': 1, 'batsman': 1}, 'batsman': 'Abdullah Shafique'}}, {11.1: {'non_striker': 'Sikandar Raza', 'bowler': 'Imad Wasim', 'runs': {'extras': 0, 'total': 1, 'batsman': 1}, 'batsman': 'Abdullah Shafique'}}, {11.2: {'non_striker': 'Abdullah Shafique', 'bowler': 'Imad Wasim', 'runs': {'extras': 0, 'total': 0, 'batsman': 0}, 'batsman': 'Sikandar Raza'}}, {11.3: {'non_striker': 'Abdullah Shafique', 'bowler': 'Imad Wasim', 'runs': {'extras': 0, 'total': 0, 'batsman': 0}, 'batsman': 'Sikandar Raza'}}, {11.4: {'non_striker': 'Abdullah Shafique', 'bowler': 'Imad Wasim', 'runs': {'extras': 0, 'total': 0, 'batsman': 0}, 'batsman': 'Sikandar Raza'}}, {11.5: {'non_striker': 'Abdullah Shafique', 'bowler': 'Imad Wasim', 'runs': {'extras': 0, 'total': 0, 'batsman': 0}, 'batsman': 'Sikandar Raza'}}, {11.6: {'non_striker': 'Abdullah Shafique', 'bowler': 'Imad Wasim', 'runs': {'extras': 0, 'total': 0, 'batsman': 0}, 'batsman': 'Sikandar Raza'}}, {12.1: {'non_striker': 'Sikandar Raza', 'bowler': 'RP Meredith', 'runs': {'extras': 0, 'total': 1, 'batsman': 1}, 'batsman': 'Abdullah Shafique'}}, {12.2: {'non_striker': 'Abdullah Shafique', 'bowler': 'RP Meredith', 'runs': {'extras': 0, 'total': 0, 'batsman': 0}, 'batsman': 'Sikandar Raza'}}, {12.3: {'non_striker': 'Abdullah Shafique', 'bowler': 'RP Meredith', 'runs': {'extras': 0, 'total': 0, 'batsman': 0}, 'batsman': 'Sikandar Raza'}}, {12.4: {'non_striker': 'Abdullah Shafique', 'bowler': 'RP Meredith', 'runs': {'extras': 0, 'total': 0, 'batsman': 0}, 'batsman': 'Sikandar Raza'}}, {12.5: {'non_striker': 'Abdullah Shafique', 'bowler': 'RP Meredith', 'runs': {'extras': 0, 'total': 4, 'batsman': 4}, 'batsman': 'Sikandar Raza'}}, {12.6: {'non_striker': 'Abdullah Shafique', 'bowler': 'RP Meredith', 'runs': {'extras': 0, 'total': 4, 'batsman': 4}, 'batsman': 'Sikandar Raza'}}, {13.1: {'non_striker': 'Sikandar Raza', 'bowler': 'Shadab Khan', 'runs': {'extras': 0, 'total': 0, 'batsman': 0}, 'batsman': 'Abdullah Shafique'}}, {13.2: {'non_striker': 'Sikandar Raza', 'bowler': 'Shadab Khan', 'runs': {'extras': 0, 'total': 1, 'batsman': 1}, 'batsman': 'Abdullah Shafique'}}, {13.3: {'non_striker': 'Abdullah Shafique', 'bowler': 'Shadab Khan', 'runs': {'extras': 0, 'total': 0, 'batsman': 0}, 'batsman': 'Sikandar Raza'}}, {13.4: {'non_striker': 'Abdullah Shafique', 'bowler': 'Shadab Khan', 'runs': {'extras': 0, 'total': 0, 'batsman': 0}, 'batsman': 'Sikandar Raza', 'wicket': {'player_out': 'Sikandar Raza', 'fielders': ['Muhammad Shahzad'], 'kind': 'caught'}}}, {13.5: {'non_striker': 'Abdullah Shafique', 'bowler': 'Shadab Khan', 'runs': {'extras': 0, 'total': 0, 'batsman': 0}, 'batsman': 'Jahandad Khan'}}, {13.6: {'non_striker': 'Abdullah Shafique', 'bowler': 'Shadab Khan', 'runs': {'extras': 1, 'total': 1, 'batsman': 0}, 'extras': {'wides': 1}, 'batsman': 'Jahandad Khan'}}, {13.7: {'non_striker': 'Abdullah Shafique', 'bowler': 'Shadab Khan', 'runs': {'extras': 0, 'total': 0, 'batsman': 0}, 'batsman': 'Jahandad Khan'}}, {14.1: {'non_striker': 'Jahandad Khan', 'bowler': 'JO Holder', 'runs': {'extras': 0, 'total': 0, 'batsman': 0}, 'batsman': 'Abdullah Shafique'}}, {14.2: {'non_striker': 'Jahandad Khan', 'bowler': 'JO Holder', 'runs': {'extras': 0, 'total': 1, 'batsman': 1}, 'batsman': 'Abdullah Shafique'}}, {14.3: {'non_striker': 'Abdullah Shafique', 'bowler': 'JO Holder', 'runs': {'extras': 0, 'total': 0, 'batsman': 0}, 'batsman': 'Jahandad Khan', 'wicket': {'player_out': 'Jahandad Khan', 'fielders': ['RP Meredith'], 'kind': 'caught'}}}, {14.4: {'non_striker': 'Abdullah Shafique', 'bowler': 'JO Holder', 'runs': {'extras': 0, 'total': 0, 'batsman': 0}, 'batsman': 'D Wiese', 'wicket': {'player_out': 'D Wiese', 'kind': 'bowled'}}}, {14.5: {'non_striker': 'Abdullah Shafique', 'bowler': 'JO Holder', 'runs': {'extras': 0, 'total': 0, 'batsman': 0}, 'batsman': 'Shaheen Shah Afridi'}}, {14.6: {'non_striker': 'Abdullah Shafique', 'bowler': 'JO Holder', 'runs': {'extras': 0, 'total': 0, 'batsman': 0}, 'batsman': 'Shaheen Shah Afridi'}}, {15.1: {'non_striker': 'Shaheen Shah Afridi', 'bowler': 'Naseem Shah', 'runs': {'extras': 0, 'total': 4, 'batsman': 4}, 'batsman': 'Abdullah Shafique'}}, {15.2: {'non_striker': 'Shaheen Shah Afridi', 'bowler': 'Naseem Shah', 'runs': {'extras': 0, 'total': 4, 'batsman': 4}, 'batsman': 'Abdullah Shafique'}}, {15.3: {'non_striker': 'Shaheen Shah Afridi', 'bowler': 'Naseem Shah', 'runs': {'extras': 5, 'total': 5, 'batsman': 0}, 'extras': {'wides': 5}, 'batsman': 'Abdullah Shafique'}}, {15.4: {'non_striker': 'Shaheen Shah Afridi', 'bowler': 'Naseem Shah', 'runs': {'extras': 0, 'total': 1, 'batsman': 1}, 'batsman': 'Abdullah Shafique'}}, {15.5: {'non_striker': 'Abdullah Shafique', 'bowler': 'Naseem Shah', 'runs': {'extras': 0, 'total': 0, 'batsman': 0}, 'batsman': 'Shaheen Shah Afridi'}}, {15.6: {'non_striker': 'Abdullah Shafique', 'bowler': 'Naseem Shah', 'runs': {'extras': 0, 'total': 1, 'batsman': 1}, 'batsman': 'Shaheen Shah Afridi'}}, {15.7: {'non_striker': 'Shaheen Shah Afridi', 'bowler': 'Naseem Shah', 'runs': {'extras': 0, 'total': 2, 'batsman': 2}, 'batsman': 'Abdullah Shafique'}}, {16.1: {'non_striker': 'Abdullah Shafique', 'bowler': 'JO Holder', 'runs': {'extras': 0, 'total': 1, 'batsman': 1}, 'batsman': 'Shaheen Shah Afridi'}}, {16.2: {'non_striker': 'Shaheen Shah Afridi', 'bowler': 'JO Holder', 'runs': {'extras': 0, 'total': 6, 'batsman': 6}, 'batsman': 'Abdullah Shafique'}}, {16.3: {'non_striker': 'Shaheen Shah Afridi', 'bowler': 'JO Holder', 'runs': {'extras': 0, 'total': 1, 'batsman': 1}, 'batsman': 'Abdullah Shafique'}}, {16.4: {'non_striker': 'Abdullah Shafique', 'bowler': 'JO Holder', 'runs': {'extras': 0, 'total': 0, 'batsman': 0}, 'batsman': 'Shaheen Shah Afridi'}}, {16.5: {'non_striker': 'Abdullah Shafique', 'bowler': 'JO Holder', 'runs': {'extras': 0, 'total': 0, 'batsman': 0}, 'batsman': 'Shaheen Shah Afridi', 'wicket': {'player_out': 'Shaheen Shah Afridi', 'kind': 'bowled'}}}, {16.6: {'non_striker': 'Abdullah Shafique', 'bowler': 'JO Holder', 'runs': {'extras': 1, 'total': 1, 'batsman': 0}, 'extras': {'noballs': 1}, 'batsman': 'Haris Rauf'}}, {16.7: {'non_striker': 'Abdullah Shafique', 'bowler': 'JO Holder', 'runs': {'extras': 1, 'total': 1, 'batsman': 0}, 'extras': {'wides': 1}, 'batsman': 'Haris Rauf'}}, {16.8: {'non_striker': 'Abdullah Shafique', 'bowler': 'JO Holder', 'runs': {'extras': 0, 'total': 4, 'batsman': 4}, 'batsman': 'Haris Rauf'}}, {17.1: {'non_striker': 'Haris Rauf', 'bowler': 'RP Meredith', 'runs': {'extras': 0, 'total': 1, 'batsman': 1}, 'batsman': 'Abdullah Shafique'}}, {17.2: {'non_striker': 'Abdullah Shafique', 'bowler': 'RP Meredith', 'runs': {'extras': 0, 'total': 0, 'batsman': 0}, 'batsman': 'Haris Rauf'}}, {17.3: {'non_striker': 'Abdullah Shafique', 'bowler': 'RP Meredith', 'runs': {'extras': 0, 'total': 4, 'batsman': 4}, 'batsman': 'Haris Rauf'}}, {17.4: {'non_striker': 'Abdullah Shafique', 'bowler': 'RP Meredith', 'runs': {'extras': 0, 'total': 0, 'batsman': 0}, 'batsman': 'Haris Rauf'}}, {17.5: {'non_striker': 'Abdullah Shafique', 'bowler': 'RP Meredith', 'runs': {'extras': 0, 'total': 1, 'batsman': 1}, 'batsman': 'Haris Rauf'}}, {17.6: {'non_striker': 'Haris Rauf', 'bowler': 'RP Meredith', 'runs': {'extras': 0, 'total': 1, 'batsman': 1}, 'batsman': 'Abdullah Shafique'}}, {18.1: {'non_striker': 'Haris Rauf', 'bowler': 'Naseem Shah', 'runs': {'extras': 0, 'total': 0, 'batsman': 0}, 'batsman': 'Abdullah Shafique', 'wicket': {'player_out': 'Abdullah Shafique', 'fielders': ['C Munro'], 'kind': 'caught'}}}, {18.2: {'non_striker': 'Haris Rauf', 'bowler': 'Naseem Shah', 'runs': {'extras': 0, 'total': 0, 'batsman': 0}, 'batsman': 'Asif Afridi'}}, {18.3: {'non_striker': 'Haris Rauf', 'bowler': 'Naseem Shah', 'runs': {'extras': 0, 'total': 1, 'batsman': 1}, 'batsman': 'Asif Afridi'}}, {18.4: {'non_striker': 'Asif Afridi', 'bowler': 'Naseem Shah', 'runs': {'extras': 0, 'total': 1, 'batsman': 1}, 'batsman': 'Haris Rauf'}}, {18.5: {'non_striker': 'Haris Rauf', 'bowler': 'Naseem Shah', 'runs': {'extras': 0, 'total': 1, 'batsman': 1}, 'batsman': 'Asif Afridi'}}, {18.6: {'non_striker': 'Asif Afridi', 'bowler': 'Naseem Shah', 'runs': {'extras': 1, 'total': 1, 'batsman': 0}, 'extras': {'byes': 1}, 'batsman': 'Haris Rauf'}}, {19.1: {'non_striker': 'Asif Afridi', 'bowler': 'Shadab Khan', 'runs': {'extras': 1, 'total': 1, 'batsman': 0}, 'extras': {'wides': 1}, 'batsman': 'Haris Rauf'}}, {19.2: {'non_striker': 'Asif Afridi', 'bowler': 'Shadab Khan', 'runs': {'extras': 0, 'total': 0, 'batsman': 0}, 'batsman': 'Haris Rauf'}}, {19.3: {'non_striker': 'Asif Afridi', 'bowler': 'Shadab Khan', 'runs': {'extras': 0, 'total': 0, 'batsman': 0}, 'batsman': 'Haris Rauf'}}, {19.4: {'non_striker': 'Asif Afridi', 'bowler': 'Shadab Khan', 'runs': {'extras': 1, 'total': 1, 'batsman': 0}, 'extras': {'wides': 1}, 'batsman': 'Haris Rauf', 'wicket': {'player_out': 'Haris Rauf', 'fielders': ['Azam Khan'], 'kind': 'stumped'}}}]}}, {'2nd innings': {'team': 'Islamabad United', 'deliveries': [{0.1: {'non_striker': 'AGS Gous', 'bowler': 'Shaheen Shah Afridi', 'runs': {'extras': 0, 'total': 0, 'batsman': 0}, 'batsman': 'Sahibzada Farhan'}}, {0.2: {'non_striker': 'AGS Gous', 'bowler': 'Shaheen Shah Afridi', 'runs': {'extras': 0, 'total': 0, 'batsman': 0}, 'batsman': 'Sahibzada Farhan'}}, {0.3: {'non_striker': 'AGS Gous', 'bowler': 'Shaheen Shah Afridi', 'runs': {'extras': 1, 'total': 1, 'batsman': 0}, 'extras': {'wides': 1}, 'batsman': 'Sahibzada Farhan'}}, {0.4: {'non_striker': 'AGS Gous', 'bowler': 'Shaheen Shah Afridi', 'runs': {'extras': 0, 'total': 0, 'batsman': 0}, 'batsman': 'Sahibzada Farhan'}}, {0.5: {'non_striker': 'AGS Gous', 'bowler': 'Shaheen Shah Afridi', 'runs': {'extras': 0, 'total': 1, 'batsman': 1}, 'batsman': 'Sahibzada Farhan'}}, {0.6: {'non_striker': 'Sahibzada Farhan', 'bowler': 'Shaheen Shah Afridi', 'runs': {'extras': 1, 'total': 1, 'batsman': 0}, 'extras': {'wides': 1}, 'batsman': 'AGS Gous'}}, {0.7: {'non_striker': 'Sahibzada Farhan', 'bowler': 'Shaheen Shah Afridi', 'runs': {'extras': 0, 'total': 0, 'batsman': 0}, 'batsman': 'AGS Gous'}}, {0.8: {'non_striker': 'Sahibzada Farhan', 'bowler': 'Shaheen Shah Afridi', 'runs': {'extras': 0, 'total': 4, 'batsman': 4}, 'batsman': 'AGS Gous'}}, {1.1: {'non_striker': 'AGS Gous', 'bowler': 'Asif Afridi', 'runs': {'extras': 0, 'total': 1, 'batsman': 1}, 'batsman': 'Sahibzada Farhan'}}, {1.2: {'non_striker': 'Sahibzada Farhan', 'bowler': 'Asif Afridi', 'runs': {'extras': 0, 'total': 0, 'batsman': 0}, 'batsman': 'AGS Gous'}}, {1.3: {'non_striker': 'Sahibzada Farhan', 'bowler': 'Asif Afridi', 'runs': {'extras': 0, 'total': 0, 'batsman': 0}, 'batsman': 'AGS Gous'}}, {1.4: {'non_striker': 'Sahibzada Farhan', 'bowler': 'Asif Afridi', 'runs': {'extras': 0, 'total': 0, 'batsman': 0}, 'batsman': 'AGS Gous'}}, {1.5: {'non_striker': 'Sahibzada Farhan', 'bowler': 'Asif Afridi', 'runs': {'extras': 0, 'total': 0, 'batsman': 0}, 'batsman': 'AGS Gous', 'wicket': {'player_out': 'AGS Gous', 'kind': 'bowled'}}}, {1.6: {'non_striker': 'Sahibzada Farhan', 'bowler': 'Asif Afridi', 'runs': {'extras': 0, 'total': 0, 'batsman': 0}, 'batsman': 'C Munro'}}, {2.1: {'non_striker': 'C Munro', 'bowler': 'Shaheen Shah Afridi', 'runs': {'extras': 0, 'total': 0, 'batsman': 0}, 'batsman': 'Sahibzada Farhan'}}, {2.2: {'non_striker': 'C Munro', 'bowler': 'Shaheen Shah Afridi', 'runs': {'extras': 0, 'total': 1, 'batsman': 1}, 'batsman': 'Sahibzada Farhan'}}, {2.3: {'non_striker': 'Sahibzada Farhan', 'bowler': 'Shaheen Shah Afridi', 'runs': {'extras': 0, 'total': 4, 'batsman': 4}, 'batsman': 'C Munro'}}, {2.4: {'non_striker': 'Sahibzada Farhan', 'bowler': 'Shaheen Shah Afridi', 'runs': {'extras': 0, 'total': 0, 'batsman': 0}, 'batsman': 'C Munro'}}, {2.5: {'non_striker': 'Sahibzada Farhan', 'bowler': 'Shaheen Shah Afridi', 'runs': {'extras': 0, 'total': 0, 'batsman': 0}, 'batsman': 'C Munro'}}, {2.6: {'non_striker': 'Sahibzada Farhan', 'bowler': 'Shaheen Shah Afridi', 'runs': {'extras': 0, 'total': 4, 'batsman': 4}, 'batsman': 'C Munro'}}, {3.1: {'non_striker': 'C Munro', 'bowler': 'Asif Afridi', 'runs': {'extras': 0, 'total': 1, 'batsman': 1}, 'batsman': 'Sahibzada Farhan'}}, {3.2: {'non_striker': 'Sahibzada Farhan', 'bowler': 'Asif Afridi', 'runs': {'extras': 0, 'total': 1, 'batsman': 1}, 'batsman': 'C Munro'}}, {3.3: {'non_striker': 'C Munro', 'bowler': 'Asif Afridi', 'runs': {'extras': 0, 'total': 0, 'batsman': 0}, 'batsman': 'Sahibzada Farhan'}}, {3.4: {'non_striker': 'C Munro', 'bowler': 'Asif Afridi', 'runs': {'extras': 0, 'total': 0, 'batsman': 0}, 'batsman': 'Sahibzada Farhan'}}, {3.5: {'non_striker': 'C Munro', 'bowler': 'Asif Afridi', 'runs': {'extras': 0, 'total': 0, 'batsman': 0}, 'batsman': 'Sahibzada Farhan'}}, {3.6: {'non_striker': 'C Munro', 'bowler': 'Asif Afridi', 'runs': {'extras': 0, 'total': 0, 'batsman': 0}, 'batsman': 'Sahibzada Farhan'}}, {4.1: {'non_striker': 'Sahibzada Farhan', 'bowler': 'Jahandad Khan', 'runs': {'extras': 0, 'total': 4, 'batsman': 4}, 'batsman': 'C Munro'}}, {4.2: {'non_striker': 'Sahibzada Farhan', 'bowler': 'Jahandad Khan', 'runs': {'extras': 0, 'total': 1, 'batsman': 1}, 'batsman': 'C Munro'}}, {4.3: {'non_striker': 'C Munro', 'bowler': 'Jahandad Khan', 'runs': {'extras': 0, 'total': 0, 'batsman': 0}, 'batsman': 'Sahibzada Farhan'}}, {4.4: {'non_striker': 'C Munro', 'bowler': 'Jahandad Khan', 'runs': {'extras': 1, 'total': 1, 'batsman': 0}, 'extras': {'legbyes': 1}, 'batsman': 'Sahibzada Farhan'}}, {4.5: {'non_striker': 'Sahibzada Farhan', 'bowler': 'Jahandad Khan', 'runs': {'extras': 0, 'total': 1, 'batsman': 1}, 'batsman': 'C Munro'}}, {4.6: {'non_striker': 'C Munro', 'bowler': 'Jahandad Khan', 'runs': {'extras': 0, 'total': 6, 'batsman': 6}, 'batsman': 'Sahibzada Farhan'}}, {5.1: {'non_striker': 'Sahibzada Farhan', 'bowler': 'Asif Afridi', 'runs': {'extras': 0, 'total': 0, 'batsman': 0}, 'batsman': 'C Munro'}}, {5.2: {'non_striker': 'Sahibzada Farhan', 'bowler': 'Asif Afridi', 'runs': {'extras': 0, 'total': 0, 'batsman': 0}, 'batsman': 'C Munro'}}, {5.3: {'non_striker': 'Sahibzada Farhan', 'bowler': 'Asif Afridi', 'runs': {'extras': 0, 'total': 4, 'batsman': 4}, 'batsman': 'C Munro'}}, {5.4: {'non_striker': 'Sahibzada Farhan', 'bowler': 'Asif Afridi', 'runs': {'extras': 0, 'total': 1, 'batsman': 1}, 'batsman': 'C Munro'}}, {5.5: {'non_striker': 'C Munro', 'bowler': 'Asif Afridi', 'runs': {'extras': 0, 'total': 0, 'batsman': 0}, 'batsman': 'Sahibzada Farhan'}}, {5.6: {'non_striker': 'C Munro', 'bowler': 'Asif Afridi', 'runs': {'extras': 0, 'total': 0, 'batsman': 0}, 'batsman': 'Sahibzada Farhan'}}, {6.1: {'non_striker': 'Sahibzada Farhan', 'bowler': 'Haris Rauf', 'runs': {'extras': 0, 'total': 4, 'batsman': 4}, 'batsman': 'C Munro'}}, {6.2: {'non_striker': 'Sahibzada Farhan', 'bowler': 'Haris Rauf', 'runs': {'extras': 0, 'total': 1, 'batsman': 1}, 'batsman': 'C Munro'}}, {6.3: {'non_striker': 'C Munro', 'bowler': 'Haris Rauf', 'runs': {'extras': 0, 'total': 0, 'batsman': 0}, 'batsman': 'Sahibzada Farhan'}}, {6.4: {'non_striker': 'C Munro', 'bowler': 'Haris Rauf', 'runs': {'extras': 1, 'total': 1, 'batsman': 0}, 'extras': {'wides': 1}, 'batsman': 'Sahibzada Farhan'}}, {6.5: {'non_striker': 'C Munro', 'bowler': 'Haris Rauf', 'runs': {'extras': 0, 'total': 1, 'batsman': 1}, 'batsman': 'Sahibzada Farhan'}}, {6.6: {'non_striker': 'Sahibzada Farhan', 'bowler': 'Haris Rauf', 'runs': {'extras': 0, 'total': 1, 'batsman': 1}, 'batsman': 'C Munro'}}, {6.7: {'non_striker': 'C Munro', 'bowler': 'Haris Rauf', 'runs': {'extras': 0, 'total': 6, 'batsman': 6}, 'batsman': 'Sahibzada Farhan'}}, {7.1: {'non_striker': 'Sahibzada Farhan', 'bowler': 'Sikandar Raza', 'runs': {'extras': 0, 'total': 1, 'batsman': 1}, 'batsman': 'C Munro'}}, {7.2: {'non_striker': 'C Munro', 'bowler': 'Sikandar Raza', 'runs': {'extras': 0, 'total': 6, 'batsman': 6}, 'batsman': 'Sahibzada Farhan'}}, {7.3: {'non_striker': 'C Munro', 'bowler': 'Sikandar Raza', 'runs': {'extras': 0, 'total': 1, 'batsman': 1}, 'batsman': 'Sahibzada Farhan'}}, {7.4: {'non_striker': 'Sahibzada Farhan', 'bowler': 'Sikandar Raza', 'runs': {'extras': 0, 'total': 1, 'batsman': 1}, 'batsman': 'C Munro'}}, {7.5: {'non_striker': 'C Munro', 'bowler': 'Sikandar Raza', 'runs': {'extras': 0, 'total': 1, 'batsman': 1}, 'batsman': 'Sahibzada Farhan'}}, {7.6: {'non_striker': 'Sahibzada Farhan', 'bowler': 'Sikandar Raza', 'runs': {'extras': 0, 'total': 1, 'batsman': 1}, 'batsman': 'C Munro'}}, {8.1: {'non_striker': 'Sahibzada Farhan', 'bowler': 'Haris Rauf', 'runs': {'extras': 0, 'total': 1, 'batsman': 1}, 'batsman': 'C Munro'}}, {8.2: {'non_striker': 'C Munro', 'bowler': 'Haris Rauf', 'runs': {'extras': 0, 'total': 0, 'batsman': 0}, 'batsman': 'Sahibzada Farhan', 'wicket': {'player_out': 'Sahibzada Farhan', 'fielders': ['Sikandar Raza'], 'kind': 'caught'}}}, {8.3: {'non_striker': 'C Munro', 'bowler': 'Haris Rauf', 'runs': {'extras': 0, 'total': 2, 'batsman': 2}, 'batsman': 'Agha Salman'}}, {8.4: {'non_striker': 'C Munro', 'bowler': 'Haris Rauf', 'runs': {'extras': 0, 'total': 0, 'batsman': 0}, 'batsman': 'Agha Salman'}}, {8.5: {'non_striker': 'C Munro', 'bowler': 'Haris Rauf', 'runs': {'extras': 0, 'total': 0, 'batsman': 0}, 'batsman': 'Agha Salman'}}, {8.6: {'non_striker': 'C Munro', 'bowler': 'Haris Rauf', 'runs': {'extras': 0, 'total': 0, 'batsman': 0}, 'batsman': 'Agha Salman'}}, {9.1: {'non_striker': 'Agha Salman', 'bowler': 'Jahandad Khan', 'runs': {'extras': 0, 'total': 0, 'batsman': 0}, 'batsman': 'C Munro'}}, {9.2: {'non_striker': 'Agha Salman', 'bowler': 'Jahandad Khan', 'runs': {'extras': 0, 'total': 1, 'batsman': 1}, 'batsman': 'C Munro'}}, {9.3: {'non_striker': 'C Munro', 'bowler': 'Jahandad Khan', 'runs': {'extras': 0, 'total': 0, 'batsman': 0}, 'batsman': 'Agha Salman'}}, {9.4: {'non_striker': 'C Munro', 'bowler': 'Jahandad Khan', 'runs': {'extras': 0, 'total': 1, 'batsman': 1}, 'batsman': 'Agha Salman'}}, {9.5: {'non_striker': 'Agha Salman', 'bowler': 'Jahandad Khan', 'runs': {'extras': 0, 'total': 2, 'batsman': 2}, 'batsman': 'C Munro'}}, {9.6: {'non_striker': 'Agha Salman', 'bowler': 'Jahandad Khan', 'runs': {'extras': 0, 'total': 0, 'batsman': 0}, 'batsman': 'C Munro'}}, {10.1: {'non_striker': 'C Munro', 'bowler': 'Sikandar Raza', 'runs': {'extras': 0, 'total': 2, 'batsman': 2}, 'batsman': 'Agha Salman'}}, {10.2: {'non_striker': 'C Munro', 'bowler': 'Sikandar Raza', 'runs': {'extras': 1, 'total': 1, 'batsman': 0}, 'extras': {'legbyes': 1}, 'batsman': 'Agha Salman'}}, {10.3: {'non_striker': 'Agha Salman', 'bowler': 'Sikandar Raza', 'runs': {'extras': 0, 'total': 1, 'batsman': 1}, 'batsman': 'C Munro'}}, {10.4: {'non_striker': 'C Munro', 'bowler': 'Sikandar Raza', 'runs': {'extras': 0, 'total': 0, 'batsman': 0}, 'batsman': 'Agha Salman'}}, {10.5: {'non_striker': 'C Munro', 'bowler': 'Sikandar Raza', 'runs': {'extras': 0, 'total': 0, 'batsman': 0}, 'batsman': 'Agha Salman'}}, {10.6: {'non_striker': 'C Munro', 'bowler': 'Sikandar Raza', 'runs': {'extras': 0, 'total': 1, 'batsman': 1}, 'batsman': 'Agha Salman'}}, {11.1: {'non_striker': 'C Munro', 'bowler': 'D Wiese', 'runs': {'extras': 0, 'total': 6, 'batsman': 6}, 'batsman': 'Agha Salman'}}, {11.2: {'non_striker': 'C Munro', 'bowler': 'D Wiese', 'runs': {'extras': 5, 'total': 5, 'batsman': 0}, 'extras': {'wides': 5}, 'batsman': 'Agha Salman'}}, {11.3: {'non_striker': 'C Munro', 'bowler': 'D Wiese', 'runs': {'extras': 0, 'total': 2, 'batsman': 2}, 'batsman': 'Agha Salman'}}, {11.4: {'non_striker': 'C Munro', 'bowler': 'D Wiese', 'runs': {'extras': 1, 'total': 1, 'batsman': 0}, 'extras': {'wides': 1}, 'batsman': 'Agha Salman'}}, {11.5: {'non_striker': 'C Munro', 'bowler': 'D Wiese', 'runs': {'extras': 0, 'total': 1, 'batsman': 1}, 'batsman': 'Agha Salman'}}, {11.6: {'non_striker': 'Agha Salman', 'bowler': 'D Wiese', 'runs': {'extras': 0, 'total': 1, 'batsman': 1}, 'batsman': 'C Munro'}}, {11.7: {'non_striker': 'C Munro', 'bowler': 'D Wiese', 'runs': {'extras': 0, 'total': 0, 'batsman': 0}, 'batsman': 'Agha Salman'}}, {11.8: {'non_striker': 'C Munro', 'bowler': 'D Wiese', 'runs': {'extras': 0, 'total': 1, 'batsman': 1}, 'batsman': 'Agha Salman'}}, {12.1: {'non_striker': 'C Munro', 'bowler': 'Haris Rauf', 'runs': {'extras': 0, 'total': 4, 'batsman': 4}, 'batsman': 'Agha Salman'}}, {12.2: {'non_striker': 'C Munro', 'bowler': 'Haris Rauf', 'runs': {'extras': 0, 'total': 2, 'batsman': 2}, 'batsman': 'Agha Salman'}}, {12.3: {'non_striker': 'C Munro', 'bowler': 'Haris Rauf', 'runs': {'extras': 0, 'total': 2, 'batsman': 2}, 'batsman': 'Agha Salman'}}, {12.4: {'non_striker': 'C Munro', 'bowler': 'Haris Rauf', 'runs': {'extras': 0, 'total': 0, 'batsman': 0}, 'batsman': 'Agha Salman'}}, {12.5: {'non_striker': 'C Munro', 'bowler': 'Haris Rauf', 'runs': {'extras': 1, 'total': 1, 'batsman': 0}, 'extras': {'wides': 1}, 'batsman': 'Agha Salman'}}, {12.6: {'non_striker': 'C Munro', 'bowler': 'Haris Rauf', 'runs': {'extras': 0, 'total': 1, 'batsman': 1}, 'batsman': 'Agha Salman'}}, {12.7: {'non_striker': 'Agha Salman', 'bowler': 'Haris Rauf', 'runs': {'extras': 0, 'total': 0, 'batsman': 0}, 'batsman': 'C Munro'}}, {13.1: {'non_striker': 'C Munro', 'bowler': 'Asif Afridi', 'runs': {'extras': 0, 'total': 0, 'batsman': 0}, 'batsman': 'Agha Salman'}}, {13.2: {'non_striker': 'C Munro', 'bowler': 'Asif Afridi', 'runs': {'extras': 0, 'total': 2, 'batsman': 2}, 'batsman': 'Agha Salman'}}, {13.3: {'non_striker': 'C Munro', 'bowler': 'Asif Afridi', 'runs': {'extras': 0, 'total': 1, 'batsman': 1}, 'batsman': 'Agha Salman'}}, {13.4: {'non_striker': 'Agha Salman', 'bowler': 'Asif Afridi', 'runs': {'extras': 0, 'total': 1, 'batsman': 1}, 'batsman': 'C Munro'}}, {13.5: {'non_striker': 'C Munro', 'bowler': 'Asif Afridi', 'runs': {'extras': 0, 'total': 1, 'batsman': 1}, 'batsman': 'Agha Salman'}}, {13.6: {'non_striker': 'Agha Salman', 'bowler': 'Asif Afridi', 'runs': {'extras': 0, 'total': 2, 'batsman': 2}, 'batsman': 'C Munro'}}, {14.1: {'non_striker': 'C Munro', 'bowler': 'Shaheen Shah Afridi', 'runs': {'extras': 0, 'total': 1, 'batsman': 1}, 'batsman': 'Agha Salman'}}, {14.2: {'non_striker': 'Agha Salman', 'bowler': 'Shaheen Shah Afridi', 'runs': {'extras': 0, 'total': 4, 'batsman': 4}, 'batsman': 'C Munro'}}, {14.3: {'non_striker': 'Agha Salman', 'bowler': 'Shaheen Shah Afridi', 'runs': {'extras': 1, 'total': 1, 'batsman': 0}, 'extras': {'wides': 1}, 'batsman': 'C Munro'}}, {14.4: {'non_striker': 'Agha Salman', 'bowler': 'Shaheen Shah Afridi', 'runs': {'extras': 0, 'total': 1, 'batsman': 1}, 'batsman': 'C Munro'}}, {14.5: {'non_striker': 'C Munro', 'bowler': 'Shaheen Shah Afridi', 'runs': {'extras': 0, 'total': 0, 'batsman': 0}, 'batsman': 'Agha Salman'}}, {14.6: {'non_striker': 'C Munro', 'bowler': 'Shaheen Shah Afridi', 'runs': {'extras': 0, 'total': 1, 'batsman': 1}, 'batsman': 'Agha Salman'}}, {14.7: {'non_striker': 'Agha Salman', 'bowler': 'Shaheen Shah Afridi', 'runs': {'extras': 0, 'total': 1, 'batsman': 1}, 'batsman': 'C Munro'}}, {15.1: {'non_striker': 'Agha Salman', 'bowler': 'Haris Rauf', 'runs': {'extras': 0, 'total': 1, 'batsman': 1}, 'batsman': 'C Munro'}}, {15.2: {'non_striker': 'C Munro', 'bowler': 'Haris Rauf', 'runs': {'extras': 0, 'total': 0, 'batsman': 0}, 'batsman': 'Agha Salman'}}, {15.3: {'non_striker': 'C Munro', 'bowler': 'Haris Rauf', 'runs': {'extras': 0, 'total': 1, 'batsman': 1}, 'batsman': 'Agha Salman'}}, {15.4: {'non_striker': 'Agha Salman', 'bowler': 'Haris Rauf', 'runs': {'extras': 0, 'total': 4, 'batsman': 4}, 'batsman': 'C Munro'}}, {15.5: {'non_striker': 'Agha Salman', 'bowler': 'Haris Rauf', 'runs': {'extras': 0, 'total': 1, 'batsman': 1}, 'batsman': 'C Munro'}}, {15.6: {'non_striker': 'C Munro', 'bowler': 'Haris Rauf', 'runs': {'extras': 0, 'total': 0, 'batsman': 0}, 'batsman': 'Agha Salman'}}, {16.1: {'non_striker': 'Agha Salman', 'bowler': 'Shaheen Shah Afridi', 'runs': {'extras': 0, 'total': 0, 'batsman': 0}, 'batsman': 'C Munro'}}, {16.2: {'non_striker': 'Agha Salman', 'bowler': 'Shaheen Shah Afridi', 'runs': {'extras': 0, 'total': 1, 'batsman': 1}, 'batsman': 'C Munro'}}, {16.3: {'non_striker': 'C Munro', 'bowler': 'Shaheen Shah Afridi', 'runs': {'extras': 0, 'total': 4, 'batsman': 4}, 'batsman': 'Agha Salman'}}, {16.4: {'non_striker': 'C Munro', 'bowler': 'Shaheen Shah Afridi', 'runs': {'extras': 0, 'total': 1, 'batsman': 1}, 'batsman': 'Agha Salman'}}, {16.5: {'non_striker': 'Agha Salman', 'bowler': 'Shaheen Shah Afridi', 'runs': {'extras': 0, 'total': 6, 'batsman': 6}, 'batsman': 'C Munro'}}, {16.6: {'non_striker': 'Agha Salman', 'bowler': 'Shaheen Shah Afridi', 'runs': {'extras': 0, 'total': 1, 'batsman': 1}, 'batsman': 'C Munro'}}, {17.1: {'non_striker': 'Agha Salman', 'bowler': 'Jahandad Khan', 'runs': {'extras': 0, 'total': 0, 'batsman': 0}, 'batsman': 'C Munro'}}, {17.2: {'non_striker': 'Agha Salman', 'bowler': 'Jahandad Khan', 'runs': {'extras': 0, 'total': 0, 'batsman': 0}, 'batsman': 'C Munro'}}, {17.3: {'non_striker': 'Agha Salman', 'bowler': 'Jahandad Khan', 'runs': {'extras': 0, 'total': 1, 'batsman': 1}, 'batsman': 'C Munro'}}, {17.4: {'non_striker': 'C Munro', 'bowler': 'Jahandad Khan', 'runs': {'extras': 1, 'total': 1, 'batsman': 0}, 'extras': {'wides': 1}, 'batsman': 'Agha Salman'}}, {17.5: {'non_striker': 'C Munro', 'bowler': 'Jahandad Khan', 'runs': {'extras': 0, 'total': 4, 'batsman': 4}, 'batsman': 'Agha Salman'}}]}}]}\n"
     ]
    }
   ],
   "source": [
    "import yaml\n",
    "\n",
    "with open(\"Match 1.yaml\", \"r\") as f:\n",
    "    match_data = yaml.safe_load(f)\n",
    "print(match_data)"
   ]
  },
  {
   "cell_type": "markdown",
   "id": "b4a13ef6",
   "metadata": {},
   "source": [
    "## Explore Match Info"
   ]
  },
  {
   "cell_type": "code",
   "execution_count": 2,
   "id": "65c9750d",
   "metadata": {},
   "outputs": [
    {
     "name": "stdout",
     "output_type": "stream",
     "text": [
      "['Lahore Qalandars', 'Islamabad United']\n",
      "Rawalpindi Cricket Stadium\n"
     ]
    }
   ],
   "source": [
    "# General info\n",
    "print(match_data[\"info\"][\"teams\"])   # Teams playing\n",
    "print(match_data[\"info\"][\"venue\"])   # Venue\n"
   ]
  },
  {
   "cell_type": "markdown",
   "id": "b3272a48",
   "metadata": {},
   "source": [
    "## Get Ball-by-Ball Data\n"
   ]
  },
  {
   "cell_type": "code",
   "execution_count": 3,
   "id": "47cc03f9",
   "metadata": {},
   "outputs": [
    {
     "name": "stdout",
     "output_type": "stream",
     "text": [
      "{0.1: {'non_striker': 'Muhammad Naeem', 'bowler': 'Naseem Shah', 'runs': {'extras': 0, 'total': 0, 'batsman': 0}, 'batsman': 'Fakhar Zaman'}}\n",
      "{0.2: {'non_striker': 'Muhammad Naeem', 'bowler': 'Naseem Shah', 'runs': {'extras': 0, 'total': 0, 'batsman': 0}, 'batsman': 'Fakhar Zaman'}}\n",
      "{0.3: {'non_striker': 'Muhammad Naeem', 'bowler': 'Naseem Shah', 'runs': {'extras': 0, 'total': 1, 'batsman': 1}, 'batsman': 'Fakhar Zaman'}}\n",
      "{0.4: {'non_striker': 'Fakhar Zaman', 'bowler': 'Naseem Shah', 'runs': {'extras': 0, 'total': 0, 'batsman': 0}, 'batsman': 'Muhammad Naeem'}}\n",
      "{0.5: {'non_striker': 'Fakhar Zaman', 'bowler': 'Naseem Shah', 'runs': {'extras': 0, 'total': 0, 'batsman': 0}, 'batsman': 'Muhammad Naeem'}}\n"
     ]
    }
   ],
   "source": [
    "innings = match_data[\"innings\"]\n",
    "\n",
    "# Example: First innings deliveries\n",
    "first_innings = innings[0][\"1st innings\"][\"deliveries\"]\n",
    "\n",
    "# Show first 5 deliveries\n",
    "for ball in first_innings[:5]:\n",
    "    print(ball)\n"
   ]
  },
  {
   "cell_type": "markdown",
   "id": "75698969",
   "metadata": {},
   "source": [
    "## Flatten Into Pandas DataFrame"
   ]
  },
  {
   "cell_type": "code",
   "execution_count": 6,
   "id": "979268c8",
   "metadata": {},
   "outputs": [
    {
     "name": "stdout",
     "output_type": "stream",
     "text": [
      "   ball         batsman       bowler  runs  extras  total_runs\n",
      "0   0.1    Fakhar Zaman  Naseem Shah     0       0           0\n",
      "1   0.2    Fakhar Zaman  Naseem Shah     0       0           0\n",
      "2   0.3    Fakhar Zaman  Naseem Shah     1       0           1\n",
      "3   0.4  Muhammad Naeem  Naseem Shah     0       0           0\n",
      "4   0.5  Muhammad Naeem  Naseem Shah     0       0           0\n",
      "5   0.6  Muhammad Naeem  Naseem Shah     0       0           0\n",
      "6   1.1    Fakhar Zaman  RP Meredith     0       1           1\n",
      "7   1.2  Muhammad Naeem  RP Meredith     1       0           1\n",
      "8   1.3    Fakhar Zaman  RP Meredith     0       0           0\n",
      "9   1.4    Fakhar Zaman  RP Meredith     0       1           1\n"
     ]
    }
   ],
   "source": [
    "import pandas as pd\n",
    "\n",
    "balls = []\n",
    "for delivery in first_innings:\n",
    "    for ball, details in delivery.items():\n",
    "        balls.append({\n",
    "            \"ball\": ball,\n",
    "            \"batsman\": details[\"batsman\"],\n",
    "            \"bowler\": details[\"bowler\"],\n",
    "            \"runs\": details[\"runs\"][\"batsman\"],\n",
    "            \"extras\": details[\"runs\"][\"extras\"],\n",
    "            \"total_runs\": details[\"runs\"][\"total\"]\n",
    "        })\n",
    "\n",
    "df = pd.DataFrame(balls)\n",
    "print(df.head(10))\n"
   ]
  },
  {
   "cell_type": "markdown",
   "id": "4498c20d",
   "metadata": {},
   "source": [
    "## Extract First Innings Data"
   ]
  },
  {
   "cell_type": "code",
   "execution_count": 12,
   "id": "31ec1eb1",
   "metadata": {},
   "outputs": [
    {
     "name": "stdout",
     "output_type": "stream",
     "text": [
      "    ball            batsman       bowler  runs  extras  total_runs  \\\n",
      "0    0.1       Fakhar Zaman  Naseem Shah     0       0           0   \n",
      "1    0.2       Fakhar Zaman  Naseem Shah     0       0           0   \n",
      "2    0.3       Fakhar Zaman  Naseem Shah     1       0           1   \n",
      "3    0.4     Muhammad Naeem  Naseem Shah     0       0           0   \n",
      "4    0.5     Muhammad Naeem  Naseem Shah     0       0           0   \n",
      "5    0.6     Muhammad Naeem  Naseem Shah     0       0           0   \n",
      "6    1.1       Fakhar Zaman  RP Meredith     0       1           1   \n",
      "7    1.2     Muhammad Naeem  RP Meredith     1       0           1   \n",
      "8    1.3       Fakhar Zaman  RP Meredith     0       0           0   \n",
      "9    1.4       Fakhar Zaman  RP Meredith     0       1           1   \n",
      "10   1.5       Fakhar Zaman  RP Meredith     0       0           0   \n",
      "11   1.6  Abdullah Shafique  RP Meredith     1       0           1   \n",
      "12   1.7     Muhammad Naeem  RP Meredith     0       0           0   \n",
      "13   2.1  Abdullah Shafique  Naseem Shah     2       0           2   \n",
      "14   2.2  Abdullah Shafique  Naseem Shah     4       0           4   \n",
      "15   2.3  Abdullah Shafique  Naseem Shah     0       0           0   \n",
      "16   2.4  Abdullah Shafique  Naseem Shah     4       0           4   \n",
      "17   2.5  Abdullah Shafique  Naseem Shah     1       0           1   \n",
      "18   2.6     Muhammad Naeem  Naseem Shah     6       0           6   \n",
      "19   3.1  Abdullah Shafique  RP Meredith     0       0           0   \n",
      "20   3.2  Abdullah Shafique  RP Meredith     4       0           4   \n",
      "21   3.3  Abdullah Shafique  RP Meredith     1       0           1   \n",
      "22   3.4     Muhammad Naeem  RP Meredith     0       1           1   \n",
      "23   3.5  Abdullah Shafique  RP Meredith     1       0           1   \n",
      "24   3.6     Muhammad Naeem  RP Meredith     1       0           1   \n",
      "25   4.1     Muhammad Naeem    JO Holder     0       0           0   \n",
      "26   4.2     Muhammad Naeem    JO Holder     0       0           0   \n",
      "27   4.3     Muhammad Naeem    JO Holder     0       0           0   \n",
      "28   4.4        DJ Mitchell    JO Holder     1       0           1   \n",
      "29   4.5  Abdullah Shafique    JO Holder     1       0           1   \n",
      "\n",
      "                                               wicket  \n",
      "0                                                None  \n",
      "1                                                None  \n",
      "2                                                None  \n",
      "3                                                None  \n",
      "4                                                None  \n",
      "5                                                None  \n",
      "6                                                None  \n",
      "7                                                None  \n",
      "8                                                None  \n",
      "9                                                None  \n",
      "10  {'player_out': 'Fakhar Zaman', 'fielders': ['A...  \n",
      "11                                               None  \n",
      "12                                               None  \n",
      "13                                               None  \n",
      "14                                               None  \n",
      "15                                               None  \n",
      "16                                               None  \n",
      "17                                               None  \n",
      "18                                               None  \n",
      "19                                               None  \n",
      "20                                               None  \n",
      "21                                               None  \n",
      "22                                               None  \n",
      "23                                               None  \n",
      "24                                               None  \n",
      "25                                               None  \n",
      "26                                               None  \n",
      "27  {'player_out': 'Muhammad Naeem', 'fielders': [...  \n",
      "28                                               None  \n",
      "29                                               None  \n"
     ]
    }
   ],
   "source": [
    "\n",
    "\n",
    "# First innings deliveries\n",
    "first_innings = match_data[\"innings\"][0][\"1st innings\"][\"deliveries\"]\n",
    "\n",
    "balls = []\n",
    "for delivery in first_innings:\n",
    "    for ball, details in delivery.items():\n",
    "        row = {\n",
    "            \"ball\": ball,\n",
    "            \"batsman\": details[\"batsman\"],\n",
    "            \"bowler\": details[\"bowler\"],\n",
    "            \"runs\": details[\"runs\"][\"batsman\"],\n",
    "            \"extras\": details[\"runs\"][\"extras\"],\n",
    "            \"total_runs\": details[\"runs\"][\"total\"],\n",
    "            \"wicket\": details.get(\"wicket\", None)\n",
    "        }\n",
    "        balls.append(row)\n",
    "\n",
    "df = pd.DataFrame(balls)\n",
    "first_innings_df = df\n",
    "print(first_innings_df.head(30))\n"
   ]
  },
  {
   "cell_type": "markdown",
   "id": "11b64ecc",
   "metadata": {},
   "source": [
    "## Batting Summary"
   ]
  },
  {
   "cell_type": "code",
   "execution_count": 37,
   "id": "b5829db5",
   "metadata": {},
   "outputs": [
    {
     "data": {
      "application/vnd.plotly.v1+json": {
       "config": {
        "plotlyServerURL": "https://plot.ly"
       },
       "data": [
        {
         "hovertemplate": "<b>%{x}</b><br>Runs: %{y}<extra></extra>",
         "legendgroup": "",
         "marker": {
          "color": {
           "bdata": "QgIADQEKAAgAAhc=",
           "dtype": "i1"
          },
          "coloraxis": "coloraxis",
          "line": {
           "color": "black",
           "width": 1
          },
          "pattern": {
           "shape": ""
          }
         },
         "name": "",
         "orientation": "v",
         "showlegend": false,
         "text": {
          "bdata": "AAAAAACAUEAAAAAAAAAAQAAAAAAAAAAAAAAAAAAAKkAAAAAAAADwPwAAAAAAACRAAAAAAAAAAAAAAAAAAAAgQAAAAAAAAAAAAAAAAAAAAEAAAAAAAAA3QA==",
          "dtype": "f8"
         },
         "textposition": "outside",
         "type": "bar",
         "x": [
          "Abdullah Shafique",
          "Asif Afridi",
          "D Wiese",
          "DJ Mitchell",
          "Fakhar Zaman",
          "Haris Rauf",
          "Jahandad Khan",
          "Muhammad Naeem",
          "SW Billings",
          "Shaheen Shah Afridi",
          "Sikandar Raza"
         ],
         "xaxis": "x",
         "y": {
          "bdata": "QgIADQEKAAgAAhc=",
          "dtype": "i1"
         },
         "yaxis": "y"
        }
       ],
       "layout": {
        "bargap": 0.4,
        "barmode": "relative",
        "coloraxis": {
         "colorbar": {
          "title": {
           "text": "runs"
          }
         },
         "colorscale": [
          [
           0,
           "#440154"
          ],
          [
           0.1111111111111111,
           "#482878"
          ],
          [
           0.2222222222222222,
           "#3e4989"
          ],
          [
           0.3333333333333333,
           "#31688e"
          ],
          [
           0.4444444444444444,
           "#26828e"
          ],
          [
           0.5555555555555556,
           "#1f9e89"
          ],
          [
           0.6666666666666666,
           "#35b779"
          ],
          [
           0.7777777777777778,
           "#6ece58"
          ],
          [
           0.8888888888888888,
           "#b5de2b"
          ],
          [
           1,
           "#fde725"
          ]
         ]
        },
        "font": {
         "family": "Arial Black",
         "size": 14
        },
        "legend": {
         "tracegroupgap": 0
        },
        "plot_bgcolor": "white",
        "template": {
         "data": {
          "bar": [
           {
            "error_x": {
             "color": "#2a3f5f"
            },
            "error_y": {
             "color": "#2a3f5f"
            },
            "marker": {
             "line": {
              "color": "#E5ECF6",
              "width": 0.5
             },
             "pattern": {
              "fillmode": "overlay",
              "size": 10,
              "solidity": 0.2
             }
            },
            "type": "bar"
           }
          ],
          "barpolar": [
           {
            "marker": {
             "line": {
              "color": "#E5ECF6",
              "width": 0.5
             },
             "pattern": {
              "fillmode": "overlay",
              "size": 10,
              "solidity": 0.2
             }
            },
            "type": "barpolar"
           }
          ],
          "carpet": [
           {
            "aaxis": {
             "endlinecolor": "#2a3f5f",
             "gridcolor": "white",
             "linecolor": "white",
             "minorgridcolor": "white",
             "startlinecolor": "#2a3f5f"
            },
            "baxis": {
             "endlinecolor": "#2a3f5f",
             "gridcolor": "white",
             "linecolor": "white",
             "minorgridcolor": "white",
             "startlinecolor": "#2a3f5f"
            },
            "type": "carpet"
           }
          ],
          "choropleth": [
           {
            "colorbar": {
             "outlinewidth": 0,
             "ticks": ""
            },
            "type": "choropleth"
           }
          ],
          "contour": [
           {
            "colorbar": {
             "outlinewidth": 0,
             "ticks": ""
            },
            "colorscale": [
             [
              0,
              "#0d0887"
             ],
             [
              0.1111111111111111,
              "#46039f"
             ],
             [
              0.2222222222222222,
              "#7201a8"
             ],
             [
              0.3333333333333333,
              "#9c179e"
             ],
             [
              0.4444444444444444,
              "#bd3786"
             ],
             [
              0.5555555555555556,
              "#d8576b"
             ],
             [
              0.6666666666666666,
              "#ed7953"
             ],
             [
              0.7777777777777778,
              "#fb9f3a"
             ],
             [
              0.8888888888888888,
              "#fdca26"
             ],
             [
              1,
              "#f0f921"
             ]
            ],
            "type": "contour"
           }
          ],
          "contourcarpet": [
           {
            "colorbar": {
             "outlinewidth": 0,
             "ticks": ""
            },
            "type": "contourcarpet"
           }
          ],
          "heatmap": [
           {
            "colorbar": {
             "outlinewidth": 0,
             "ticks": ""
            },
            "colorscale": [
             [
              0,
              "#0d0887"
             ],
             [
              0.1111111111111111,
              "#46039f"
             ],
             [
              0.2222222222222222,
              "#7201a8"
             ],
             [
              0.3333333333333333,
              "#9c179e"
             ],
             [
              0.4444444444444444,
              "#bd3786"
             ],
             [
              0.5555555555555556,
              "#d8576b"
             ],
             [
              0.6666666666666666,
              "#ed7953"
             ],
             [
              0.7777777777777778,
              "#fb9f3a"
             ],
             [
              0.8888888888888888,
              "#fdca26"
             ],
             [
              1,
              "#f0f921"
             ]
            ],
            "type": "heatmap"
           }
          ],
          "histogram": [
           {
            "marker": {
             "pattern": {
              "fillmode": "overlay",
              "size": 10,
              "solidity": 0.2
             }
            },
            "type": "histogram"
           }
          ],
          "histogram2d": [
           {
            "colorbar": {
             "outlinewidth": 0,
             "ticks": ""
            },
            "colorscale": [
             [
              0,
              "#0d0887"
             ],
             [
              0.1111111111111111,
              "#46039f"
             ],
             [
              0.2222222222222222,
              "#7201a8"
             ],
             [
              0.3333333333333333,
              "#9c179e"
             ],
             [
              0.4444444444444444,
              "#bd3786"
             ],
             [
              0.5555555555555556,
              "#d8576b"
             ],
             [
              0.6666666666666666,
              "#ed7953"
             ],
             [
              0.7777777777777778,
              "#fb9f3a"
             ],
             [
              0.8888888888888888,
              "#fdca26"
             ],
             [
              1,
              "#f0f921"
             ]
            ],
            "type": "histogram2d"
           }
          ],
          "histogram2dcontour": [
           {
            "colorbar": {
             "outlinewidth": 0,
             "ticks": ""
            },
            "colorscale": [
             [
              0,
              "#0d0887"
             ],
             [
              0.1111111111111111,
              "#46039f"
             ],
             [
              0.2222222222222222,
              "#7201a8"
             ],
             [
              0.3333333333333333,
              "#9c179e"
             ],
             [
              0.4444444444444444,
              "#bd3786"
             ],
             [
              0.5555555555555556,
              "#d8576b"
             ],
             [
              0.6666666666666666,
              "#ed7953"
             ],
             [
              0.7777777777777778,
              "#fb9f3a"
             ],
             [
              0.8888888888888888,
              "#fdca26"
             ],
             [
              1,
              "#f0f921"
             ]
            ],
            "type": "histogram2dcontour"
           }
          ],
          "mesh3d": [
           {
            "colorbar": {
             "outlinewidth": 0,
             "ticks": ""
            },
            "type": "mesh3d"
           }
          ],
          "parcoords": [
           {
            "line": {
             "colorbar": {
              "outlinewidth": 0,
              "ticks": ""
             }
            },
            "type": "parcoords"
           }
          ],
          "pie": [
           {
            "automargin": true,
            "type": "pie"
           }
          ],
          "scatter": [
           {
            "fillpattern": {
             "fillmode": "overlay",
             "size": 10,
             "solidity": 0.2
            },
            "type": "scatter"
           }
          ],
          "scatter3d": [
           {
            "line": {
             "colorbar": {
              "outlinewidth": 0,
              "ticks": ""
             }
            },
            "marker": {
             "colorbar": {
              "outlinewidth": 0,
              "ticks": ""
             }
            },
            "type": "scatter3d"
           }
          ],
          "scattercarpet": [
           {
            "marker": {
             "colorbar": {
              "outlinewidth": 0,
              "ticks": ""
             }
            },
            "type": "scattercarpet"
           }
          ],
          "scattergeo": [
           {
            "marker": {
             "colorbar": {
              "outlinewidth": 0,
              "ticks": ""
             }
            },
            "type": "scattergeo"
           }
          ],
          "scattergl": [
           {
            "marker": {
             "colorbar": {
              "outlinewidth": 0,
              "ticks": ""
             }
            },
            "type": "scattergl"
           }
          ],
          "scattermap": [
           {
            "marker": {
             "colorbar": {
              "outlinewidth": 0,
              "ticks": ""
             }
            },
            "type": "scattermap"
           }
          ],
          "scattermapbox": [
           {
            "marker": {
             "colorbar": {
              "outlinewidth": 0,
              "ticks": ""
             }
            },
            "type": "scattermapbox"
           }
          ],
          "scatterpolar": [
           {
            "marker": {
             "colorbar": {
              "outlinewidth": 0,
              "ticks": ""
             }
            },
            "type": "scatterpolar"
           }
          ],
          "scatterpolargl": [
           {
            "marker": {
             "colorbar": {
              "outlinewidth": 0,
              "ticks": ""
             }
            },
            "type": "scatterpolargl"
           }
          ],
          "scatterternary": [
           {
            "marker": {
             "colorbar": {
              "outlinewidth": 0,
              "ticks": ""
             }
            },
            "type": "scatterternary"
           }
          ],
          "surface": [
           {
            "colorbar": {
             "outlinewidth": 0,
             "ticks": ""
            },
            "colorscale": [
             [
              0,
              "#0d0887"
             ],
             [
              0.1111111111111111,
              "#46039f"
             ],
             [
              0.2222222222222222,
              "#7201a8"
             ],
             [
              0.3333333333333333,
              "#9c179e"
             ],
             [
              0.4444444444444444,
              "#bd3786"
             ],
             [
              0.5555555555555556,
              "#d8576b"
             ],
             [
              0.6666666666666666,
              "#ed7953"
             ],
             [
              0.7777777777777778,
              "#fb9f3a"
             ],
             [
              0.8888888888888888,
              "#fdca26"
             ],
             [
              1,
              "#f0f921"
             ]
            ],
            "type": "surface"
           }
          ],
          "table": [
           {
            "cells": {
             "fill": {
              "color": "#EBF0F8"
             },
             "line": {
              "color": "white"
             }
            },
            "header": {
             "fill": {
              "color": "#C8D4E3"
             },
             "line": {
              "color": "white"
             }
            },
            "type": "table"
           }
          ]
         },
         "layout": {
          "annotationdefaults": {
           "arrowcolor": "#2a3f5f",
           "arrowhead": 0,
           "arrowwidth": 1
          },
          "autotypenumbers": "strict",
          "coloraxis": {
           "colorbar": {
            "outlinewidth": 0,
            "ticks": ""
           }
          },
          "colorscale": {
           "diverging": [
            [
             0,
             "#8e0152"
            ],
            [
             0.1,
             "#c51b7d"
            ],
            [
             0.2,
             "#de77ae"
            ],
            [
             0.3,
             "#f1b6da"
            ],
            [
             0.4,
             "#fde0ef"
            ],
            [
             0.5,
             "#f7f7f7"
            ],
            [
             0.6,
             "#e6f5d0"
            ],
            [
             0.7,
             "#b8e186"
            ],
            [
             0.8,
             "#7fbc41"
            ],
            [
             0.9,
             "#4d9221"
            ],
            [
             1,
             "#276419"
            ]
           ],
           "sequential": [
            [
             0,
             "#0d0887"
            ],
            [
             0.1111111111111111,
             "#46039f"
            ],
            [
             0.2222222222222222,
             "#7201a8"
            ],
            [
             0.3333333333333333,
             "#9c179e"
            ],
            [
             0.4444444444444444,
             "#bd3786"
            ],
            [
             0.5555555555555556,
             "#d8576b"
            ],
            [
             0.6666666666666666,
             "#ed7953"
            ],
            [
             0.7777777777777778,
             "#fb9f3a"
            ],
            [
             0.8888888888888888,
             "#fdca26"
            ],
            [
             1,
             "#f0f921"
            ]
           ],
           "sequentialminus": [
            [
             0,
             "#0d0887"
            ],
            [
             0.1111111111111111,
             "#46039f"
            ],
            [
             0.2222222222222222,
             "#7201a8"
            ],
            [
             0.3333333333333333,
             "#9c179e"
            ],
            [
             0.4444444444444444,
             "#bd3786"
            ],
            [
             0.5555555555555556,
             "#d8576b"
            ],
            [
             0.6666666666666666,
             "#ed7953"
            ],
            [
             0.7777777777777778,
             "#fb9f3a"
            ],
            [
             0.8888888888888888,
             "#fdca26"
            ],
            [
             1,
             "#f0f921"
            ]
           ]
          },
          "colorway": [
           "#636efa",
           "#EF553B",
           "#00cc96",
           "#ab63fa",
           "#FFA15A",
           "#19d3f3",
           "#FF6692",
           "#B6E880",
           "#FF97FF",
           "#FECB52"
          ],
          "font": {
           "color": "#2a3f5f"
          },
          "geo": {
           "bgcolor": "white",
           "lakecolor": "white",
           "landcolor": "#E5ECF6",
           "showlakes": true,
           "showland": true,
           "subunitcolor": "white"
          },
          "hoverlabel": {
           "align": "left"
          },
          "hovermode": "closest",
          "mapbox": {
           "style": "light"
          },
          "paper_bgcolor": "white",
          "plot_bgcolor": "#E5ECF6",
          "polar": {
           "angularaxis": {
            "gridcolor": "white",
            "linecolor": "white",
            "ticks": ""
           },
           "bgcolor": "#E5ECF6",
           "radialaxis": {
            "gridcolor": "white",
            "linecolor": "white",
            "ticks": ""
           }
          },
          "scene": {
           "xaxis": {
            "backgroundcolor": "#E5ECF6",
            "gridcolor": "white",
            "gridwidth": 2,
            "linecolor": "white",
            "showbackground": true,
            "ticks": "",
            "zerolinecolor": "white"
           },
           "yaxis": {
            "backgroundcolor": "#E5ECF6",
            "gridcolor": "white",
            "gridwidth": 2,
            "linecolor": "white",
            "showbackground": true,
            "ticks": "",
            "zerolinecolor": "white"
           },
           "zaxis": {
            "backgroundcolor": "#E5ECF6",
            "gridcolor": "white",
            "gridwidth": 2,
            "linecolor": "white",
            "showbackground": true,
            "ticks": "",
            "zerolinecolor": "white"
           }
          },
          "shapedefaults": {
           "line": {
            "color": "#2a3f5f"
           }
          },
          "ternary": {
           "aaxis": {
            "gridcolor": "white",
            "linecolor": "white",
            "ticks": ""
           },
           "baxis": {
            "gridcolor": "white",
            "linecolor": "white",
            "ticks": ""
           },
           "bgcolor": "#E5ECF6",
           "caxis": {
            "gridcolor": "white",
            "linecolor": "white",
            "ticks": ""
           }
          },
          "title": {
           "x": 0.05
          },
          "xaxis": {
           "automargin": true,
           "gridcolor": "white",
           "linecolor": "white",
           "ticks": "",
           "title": {
            "standoff": 15
           },
           "zerolinecolor": "white",
           "zerolinewidth": 2
          },
          "yaxis": {
           "automargin": true,
           "gridcolor": "white",
           "linecolor": "white",
           "ticks": "",
           "title": {
            "standoff": 15
           },
           "zerolinecolor": "white",
           "zerolinewidth": 2
          }
         }
        },
        "title": {
         "font": {
          "color": "darkblue",
          "size": 20
         },
         "text": "🏏 1st Innings Batting Performance"
        },
        "xaxis": {
         "anchor": "y",
         "domain": [
          0,
          1
         ],
         "showgrid": false,
         "title": {
          "text": "Batsman"
         }
        },
        "yaxis": {
         "anchor": "x",
         "domain": [
          0,
          1
         ],
         "gridcolor": "lightgray",
         "showgrid": true,
         "title": {
          "text": "Runs Scored"
         }
        }
       }
      }
     },
     "metadata": {},
     "output_type": "display_data"
    }
   ],
   "source": [
    "\n",
    "\n",
    "# Batting summary (already created)\n",
    "batting_summary = df.groupby(\"batsman\")[\"runs\"].sum().reset_index()\n",
    "\n",
    "# Beautiful & unique chart\n",
    "fig_bat = px.bar(\n",
    "    batting_summary,\n",
    "    x=\"batsman\",\n",
    "    y=\"runs\",\n",
    "    text=\"runs\",\n",
    "    title=\"🏏 1st Innings Batting Performance\",\n",
    "    color=\"runs\",  # gradient color by runs\n",
    "    color_continuous_scale=px.colors.sequential.Viridis\n",
    ")\n",
    "\n",
    "# Style tweaks\n",
    "fig_bat.update_traces(\n",
    "    textposition=\"outside\",\n",
    "    marker=dict(line=dict(width=1, color=\"black\")),\n",
    "    hovertemplate=\"<b>%{x}</b><br>Runs: %{y}<extra></extra>\"\n",
    ")\n",
    "\n",
    "fig_bat.update_layout(\n",
    "    plot_bgcolor=\"white\",\n",
    "    xaxis=dict(title=\"Batsman\", showgrid=False),\n",
    "    yaxis=dict(title=\"Runs Scored\", showgrid=True, gridcolor=\"lightgray\"),\n",
    "    font=dict(family=\"Arial Black\", size=14),\n",
    "    title_font=dict(size=20, color=\"darkblue\"),\n",
    "    bargap=0.4\n",
    ")\n",
    "\n",
    "fig_bat.show()\n",
    "\n"
   ]
  },
  {
   "cell_type": "code",
   "execution_count": 45,
   "id": "3d59ffb6",
   "metadata": {},
   "outputs": [
    {
     "data": {
      "application/vnd.plotly.v1+json": {
       "config": {
        "plotlyServerURL": "https://plot.ly"
       },
       "data": [
        {
         "hovertemplate": "<b>Batsman:</b> %{x}<br>Runs: %{y}<extra></extra>",
         "legendgroup": "",
         "line": {
          "color": "darkblue",
          "dash": "solid",
          "width": 3
         },
         "marker": {
          "color": "orange",
          "line": {
           "color": "black",
           "width": 2
          },
          "size": 10,
          "symbol": "circle"
         },
         "mode": "lines+markers",
         "name": "",
         "orientation": "v",
         "showlegend": false,
         "type": "scatter",
         "x": [
          "Abdullah Shafique",
          "Asif Afridi",
          "D Wiese",
          "DJ Mitchell",
          "Fakhar Zaman",
          "Haris Rauf",
          "Jahandad Khan",
          "Muhammad Naeem",
          "SW Billings",
          "Shaheen Shah Afridi",
          "Sikandar Raza"
         ],
         "xaxis": "x",
         "y": {
          "bdata": "QgIADQEKAAgAAhc=",
          "dtype": "i1"
         },
         "yaxis": "y"
        }
       ],
       "layout": {
        "font": {
         "family": "Verdana",
         "size": 13
        },
        "legend": {
         "tracegroupgap": 0
        },
        "plot_bgcolor": "white",
        "template": {
         "data": {
          "bar": [
           {
            "error_x": {
             "color": "#2a3f5f"
            },
            "error_y": {
             "color": "#2a3f5f"
            },
            "marker": {
             "line": {
              "color": "#E5ECF6",
              "width": 0.5
             },
             "pattern": {
              "fillmode": "overlay",
              "size": 10,
              "solidity": 0.2
             }
            },
            "type": "bar"
           }
          ],
          "barpolar": [
           {
            "marker": {
             "line": {
              "color": "#E5ECF6",
              "width": 0.5
             },
             "pattern": {
              "fillmode": "overlay",
              "size": 10,
              "solidity": 0.2
             }
            },
            "type": "barpolar"
           }
          ],
          "carpet": [
           {
            "aaxis": {
             "endlinecolor": "#2a3f5f",
             "gridcolor": "white",
             "linecolor": "white",
             "minorgridcolor": "white",
             "startlinecolor": "#2a3f5f"
            },
            "baxis": {
             "endlinecolor": "#2a3f5f",
             "gridcolor": "white",
             "linecolor": "white",
             "minorgridcolor": "white",
             "startlinecolor": "#2a3f5f"
            },
            "type": "carpet"
           }
          ],
          "choropleth": [
           {
            "colorbar": {
             "outlinewidth": 0,
             "ticks": ""
            },
            "type": "choropleth"
           }
          ],
          "contour": [
           {
            "colorbar": {
             "outlinewidth": 0,
             "ticks": ""
            },
            "colorscale": [
             [
              0,
              "#0d0887"
             ],
             [
              0.1111111111111111,
              "#46039f"
             ],
             [
              0.2222222222222222,
              "#7201a8"
             ],
             [
              0.3333333333333333,
              "#9c179e"
             ],
             [
              0.4444444444444444,
              "#bd3786"
             ],
             [
              0.5555555555555556,
              "#d8576b"
             ],
             [
              0.6666666666666666,
              "#ed7953"
             ],
             [
              0.7777777777777778,
              "#fb9f3a"
             ],
             [
              0.8888888888888888,
              "#fdca26"
             ],
             [
              1,
              "#f0f921"
             ]
            ],
            "type": "contour"
           }
          ],
          "contourcarpet": [
           {
            "colorbar": {
             "outlinewidth": 0,
             "ticks": ""
            },
            "type": "contourcarpet"
           }
          ],
          "heatmap": [
           {
            "colorbar": {
             "outlinewidth": 0,
             "ticks": ""
            },
            "colorscale": [
             [
              0,
              "#0d0887"
             ],
             [
              0.1111111111111111,
              "#46039f"
             ],
             [
              0.2222222222222222,
              "#7201a8"
             ],
             [
              0.3333333333333333,
              "#9c179e"
             ],
             [
              0.4444444444444444,
              "#bd3786"
             ],
             [
              0.5555555555555556,
              "#d8576b"
             ],
             [
              0.6666666666666666,
              "#ed7953"
             ],
             [
              0.7777777777777778,
              "#fb9f3a"
             ],
             [
              0.8888888888888888,
              "#fdca26"
             ],
             [
              1,
              "#f0f921"
             ]
            ],
            "type": "heatmap"
           }
          ],
          "histogram": [
           {
            "marker": {
             "pattern": {
              "fillmode": "overlay",
              "size": 10,
              "solidity": 0.2
             }
            },
            "type": "histogram"
           }
          ],
          "histogram2d": [
           {
            "colorbar": {
             "outlinewidth": 0,
             "ticks": ""
            },
            "colorscale": [
             [
              0,
              "#0d0887"
             ],
             [
              0.1111111111111111,
              "#46039f"
             ],
             [
              0.2222222222222222,
              "#7201a8"
             ],
             [
              0.3333333333333333,
              "#9c179e"
             ],
             [
              0.4444444444444444,
              "#bd3786"
             ],
             [
              0.5555555555555556,
              "#d8576b"
             ],
             [
              0.6666666666666666,
              "#ed7953"
             ],
             [
              0.7777777777777778,
              "#fb9f3a"
             ],
             [
              0.8888888888888888,
              "#fdca26"
             ],
             [
              1,
              "#f0f921"
             ]
            ],
            "type": "histogram2d"
           }
          ],
          "histogram2dcontour": [
           {
            "colorbar": {
             "outlinewidth": 0,
             "ticks": ""
            },
            "colorscale": [
             [
              0,
              "#0d0887"
             ],
             [
              0.1111111111111111,
              "#46039f"
             ],
             [
              0.2222222222222222,
              "#7201a8"
             ],
             [
              0.3333333333333333,
              "#9c179e"
             ],
             [
              0.4444444444444444,
              "#bd3786"
             ],
             [
              0.5555555555555556,
              "#d8576b"
             ],
             [
              0.6666666666666666,
              "#ed7953"
             ],
             [
              0.7777777777777778,
              "#fb9f3a"
             ],
             [
              0.8888888888888888,
              "#fdca26"
             ],
             [
              1,
              "#f0f921"
             ]
            ],
            "type": "histogram2dcontour"
           }
          ],
          "mesh3d": [
           {
            "colorbar": {
             "outlinewidth": 0,
             "ticks": ""
            },
            "type": "mesh3d"
           }
          ],
          "parcoords": [
           {
            "line": {
             "colorbar": {
              "outlinewidth": 0,
              "ticks": ""
             }
            },
            "type": "parcoords"
           }
          ],
          "pie": [
           {
            "automargin": true,
            "type": "pie"
           }
          ],
          "scatter": [
           {
            "fillpattern": {
             "fillmode": "overlay",
             "size": 10,
             "solidity": 0.2
            },
            "type": "scatter"
           }
          ],
          "scatter3d": [
           {
            "line": {
             "colorbar": {
              "outlinewidth": 0,
              "ticks": ""
             }
            },
            "marker": {
             "colorbar": {
              "outlinewidth": 0,
              "ticks": ""
             }
            },
            "type": "scatter3d"
           }
          ],
          "scattercarpet": [
           {
            "marker": {
             "colorbar": {
              "outlinewidth": 0,
              "ticks": ""
             }
            },
            "type": "scattercarpet"
           }
          ],
          "scattergeo": [
           {
            "marker": {
             "colorbar": {
              "outlinewidth": 0,
              "ticks": ""
             }
            },
            "type": "scattergeo"
           }
          ],
          "scattergl": [
           {
            "marker": {
             "colorbar": {
              "outlinewidth": 0,
              "ticks": ""
             }
            },
            "type": "scattergl"
           }
          ],
          "scattermap": [
           {
            "marker": {
             "colorbar": {
              "outlinewidth": 0,
              "ticks": ""
             }
            },
            "type": "scattermap"
           }
          ],
          "scattermapbox": [
           {
            "marker": {
             "colorbar": {
              "outlinewidth": 0,
              "ticks": ""
             }
            },
            "type": "scattermapbox"
           }
          ],
          "scatterpolar": [
           {
            "marker": {
             "colorbar": {
              "outlinewidth": 0,
              "ticks": ""
             }
            },
            "type": "scatterpolar"
           }
          ],
          "scatterpolargl": [
           {
            "marker": {
             "colorbar": {
              "outlinewidth": 0,
              "ticks": ""
             }
            },
            "type": "scatterpolargl"
           }
          ],
          "scatterternary": [
           {
            "marker": {
             "colorbar": {
              "outlinewidth": 0,
              "ticks": ""
             }
            },
            "type": "scatterternary"
           }
          ],
          "surface": [
           {
            "colorbar": {
             "outlinewidth": 0,
             "ticks": ""
            },
            "colorscale": [
             [
              0,
              "#0d0887"
             ],
             [
              0.1111111111111111,
              "#46039f"
             ],
             [
              0.2222222222222222,
              "#7201a8"
             ],
             [
              0.3333333333333333,
              "#9c179e"
             ],
             [
              0.4444444444444444,
              "#bd3786"
             ],
             [
              0.5555555555555556,
              "#d8576b"
             ],
             [
              0.6666666666666666,
              "#ed7953"
             ],
             [
              0.7777777777777778,
              "#fb9f3a"
             ],
             [
              0.8888888888888888,
              "#fdca26"
             ],
             [
              1,
              "#f0f921"
             ]
            ],
            "type": "surface"
           }
          ],
          "table": [
           {
            "cells": {
             "fill": {
              "color": "#EBF0F8"
             },
             "line": {
              "color": "white"
             }
            },
            "header": {
             "fill": {
              "color": "#C8D4E3"
             },
             "line": {
              "color": "white"
             }
            },
            "type": "table"
           }
          ]
         },
         "layout": {
          "annotationdefaults": {
           "arrowcolor": "#2a3f5f",
           "arrowhead": 0,
           "arrowwidth": 1
          },
          "autotypenumbers": "strict",
          "coloraxis": {
           "colorbar": {
            "outlinewidth": 0,
            "ticks": ""
           }
          },
          "colorscale": {
           "diverging": [
            [
             0,
             "#8e0152"
            ],
            [
             0.1,
             "#c51b7d"
            ],
            [
             0.2,
             "#de77ae"
            ],
            [
             0.3,
             "#f1b6da"
            ],
            [
             0.4,
             "#fde0ef"
            ],
            [
             0.5,
             "#f7f7f7"
            ],
            [
             0.6,
             "#e6f5d0"
            ],
            [
             0.7,
             "#b8e186"
            ],
            [
             0.8,
             "#7fbc41"
            ],
            [
             0.9,
             "#4d9221"
            ],
            [
             1,
             "#276419"
            ]
           ],
           "sequential": [
            [
             0,
             "#0d0887"
            ],
            [
             0.1111111111111111,
             "#46039f"
            ],
            [
             0.2222222222222222,
             "#7201a8"
            ],
            [
             0.3333333333333333,
             "#9c179e"
            ],
            [
             0.4444444444444444,
             "#bd3786"
            ],
            [
             0.5555555555555556,
             "#d8576b"
            ],
            [
             0.6666666666666666,
             "#ed7953"
            ],
            [
             0.7777777777777778,
             "#fb9f3a"
            ],
            [
             0.8888888888888888,
             "#fdca26"
            ],
            [
             1,
             "#f0f921"
            ]
           ],
           "sequentialminus": [
            [
             0,
             "#0d0887"
            ],
            [
             0.1111111111111111,
             "#46039f"
            ],
            [
             0.2222222222222222,
             "#7201a8"
            ],
            [
             0.3333333333333333,
             "#9c179e"
            ],
            [
             0.4444444444444444,
             "#bd3786"
            ],
            [
             0.5555555555555556,
             "#d8576b"
            ],
            [
             0.6666666666666666,
             "#ed7953"
            ],
            [
             0.7777777777777778,
             "#fb9f3a"
            ],
            [
             0.8888888888888888,
             "#fdca26"
            ],
            [
             1,
             "#f0f921"
            ]
           ]
          },
          "colorway": [
           "#636efa",
           "#EF553B",
           "#00cc96",
           "#ab63fa",
           "#FFA15A",
           "#19d3f3",
           "#FF6692",
           "#B6E880",
           "#FF97FF",
           "#FECB52"
          ],
          "font": {
           "color": "#2a3f5f"
          },
          "geo": {
           "bgcolor": "white",
           "lakecolor": "white",
           "landcolor": "#E5ECF6",
           "showlakes": true,
           "showland": true,
           "subunitcolor": "white"
          },
          "hoverlabel": {
           "align": "left"
          },
          "hovermode": "closest",
          "mapbox": {
           "style": "light"
          },
          "paper_bgcolor": "white",
          "plot_bgcolor": "#E5ECF6",
          "polar": {
           "angularaxis": {
            "gridcolor": "white",
            "linecolor": "white",
            "ticks": ""
           },
           "bgcolor": "#E5ECF6",
           "radialaxis": {
            "gridcolor": "white",
            "linecolor": "white",
            "ticks": ""
           }
          },
          "scene": {
           "xaxis": {
            "backgroundcolor": "#E5ECF6",
            "gridcolor": "white",
            "gridwidth": 2,
            "linecolor": "white",
            "showbackground": true,
            "ticks": "",
            "zerolinecolor": "white"
           },
           "yaxis": {
            "backgroundcolor": "#E5ECF6",
            "gridcolor": "white",
            "gridwidth": 2,
            "linecolor": "white",
            "showbackground": true,
            "ticks": "",
            "zerolinecolor": "white"
           },
           "zaxis": {
            "backgroundcolor": "#E5ECF6",
            "gridcolor": "white",
            "gridwidth": 2,
            "linecolor": "white",
            "showbackground": true,
            "ticks": "",
            "zerolinecolor": "white"
           }
          },
          "shapedefaults": {
           "line": {
            "color": "#2a3f5f"
           }
          },
          "ternary": {
           "aaxis": {
            "gridcolor": "white",
            "linecolor": "white",
            "ticks": ""
           },
           "baxis": {
            "gridcolor": "white",
            "linecolor": "white",
            "ticks": ""
           },
           "bgcolor": "#E5ECF6",
           "caxis": {
            "gridcolor": "white",
            "linecolor": "white",
            "ticks": ""
           }
          },
          "title": {
           "x": 0.05
          },
          "xaxis": {
           "automargin": true,
           "gridcolor": "white",
           "linecolor": "white",
           "ticks": "",
           "title": {
            "standoff": 15
           },
           "zerolinecolor": "white",
           "zerolinewidth": 2
          },
          "yaxis": {
           "automargin": true,
           "gridcolor": "white",
           "linecolor": "white",
           "ticks": "",
           "title": {
            "standoff": 15
           },
           "zerolinecolor": "white",
           "zerolinewidth": 2
          }
         }
        },
        "title": {
         "font": {
          "color": "darkblue",
          "size": 20
         },
         "text": "📈 1st Innings Batting Performance (Line Graph)"
        },
        "xaxis": {
         "anchor": "y",
         "domain": [
          0,
          1
         ],
         "showgrid": false,
         "title": {
          "text": "Batsman"
         }
        },
        "yaxis": {
         "anchor": "x",
         "domain": [
          0,
          1
         ],
         "gridcolor": "lightgray",
         "showgrid": true,
         "title": {
          "text": "Runs Scored"
         }
        }
       }
      }
     },
     "metadata": {},
     "output_type": "display_data"
    }
   ],
   "source": [
    "\n",
    "\n",
    "# Line graph for batting performance\n",
    "fig_bat_line = px.line(\n",
    "    batting_summary,\n",
    "    x=\"batsman\",\n",
    "    y=\"runs\",\n",
    "    markers=True,  # adds dots on each point\n",
    "    title=\"📈 1st Innings Batting Performance (Line Graph)\"\n",
    ")\n",
    "\n",
    "# Style improvements\n",
    "fig_bat_line.update_traces(\n",
    "    line=dict(color=\"darkblue\", width=3),\n",
    "    marker=dict(size=10, color=\"orange\", line=dict(width=2, color=\"black\")),\n",
    "    hovertemplate=\"<b>Batsman:</b> %{x}<br>Runs: %{y}<extra></extra>\"\n",
    ")\n",
    "\n",
    "fig_bat_line.update_layout(\n",
    "    plot_bgcolor=\"white\",\n",
    "    xaxis=dict(title=\"Batsman\", showgrid=False),\n",
    "    yaxis=dict(title=\"Runs Scored\", showgrid=True, gridcolor=\"lightgray\"),\n",
    "    font=dict(family=\"Verdana\", size=13),\n",
    "    title_font=dict(size=20, color=\"darkblue\")\n",
    ")\n",
    "\n",
    "fig_bat_line.show()\n"
   ]
  },
  {
   "cell_type": "markdown",
   "id": "9b92a8c8",
   "metadata": {},
   "source": [
    "## Bowling Summary"
   ]
  },
  {
   "cell_type": "code",
   "execution_count": 38,
   "id": "1ec4cf88",
   "metadata": {},
   "outputs": [
    {
     "data": {
      "application/vnd.plotly.v1+json": {
       "config": {
        "plotlyServerURL": "https://plot.ly"
       },
       "data": [
        {
         "customdata": {
          "bdata": "FRonHBk=",
          "dtype": "i1",
          "shape": "5, 1"
         },
         "hovertemplate": "<b>%{x}</b><br>Wickets: %{y}<br>Runs Conceded: %{customdata}<extra></extra>",
         "legendgroup": "",
         "marker": {
          "color": {
           "bdata": "AQQBAQM=",
           "dtype": "i1"
          },
          "coloraxis": "coloraxis",
          "line": {
           "color": "black",
           "width": 1
          },
          "pattern": {
           "shape": ""
          }
         },
         "name": "",
         "orientation": "v",
         "showlegend": false,
         "text": {
          "bdata": "AAAAAAAA8D8AAAAAAAAQQAAAAAAAAPA/AAAAAAAA8D8AAAAAAAAIQA==",
          "dtype": "f8"
         },
         "textposition": "outside",
         "type": "bar",
         "x": [
          "Imad Wasim",
          "JO Holder",
          "Naseem Shah",
          "RP Meredith",
          "Shadab Khan"
         ],
         "xaxis": "x",
         "y": {
          "bdata": "AQQBAQM=",
          "dtype": "i1"
         },
         "yaxis": "y"
        }
       ],
       "layout": {
        "bargap": 0.35,
        "barmode": "relative",
        "coloraxis": {
         "colorbar": {
          "title": {
           "text": "wickets"
          }
         },
         "colorscale": [
          [
           0,
           "#000004"
          ],
          [
           0.1111111111111111,
           "#180f3d"
          ],
          [
           0.2222222222222222,
           "#440f76"
          ],
          [
           0.3333333333333333,
           "#721f81"
          ],
          [
           0.4444444444444444,
           "#9e2f7f"
          ],
          [
           0.5555555555555556,
           "#cd4071"
          ],
          [
           0.6666666666666666,
           "#f1605d"
          ],
          [
           0.7777777777777778,
           "#fd9668"
          ],
          [
           0.8888888888888888,
           "#feca8d"
          ],
          [
           1,
           "#fcfdbf"
          ]
         ]
        },
        "font": {
         "family": "Arial Black",
         "size": 14
        },
        "legend": {
         "tracegroupgap": 0
        },
        "plot_bgcolor": "white",
        "template": {
         "data": {
          "bar": [
           {
            "error_x": {
             "color": "#2a3f5f"
            },
            "error_y": {
             "color": "#2a3f5f"
            },
            "marker": {
             "line": {
              "color": "#E5ECF6",
              "width": 0.5
             },
             "pattern": {
              "fillmode": "overlay",
              "size": 10,
              "solidity": 0.2
             }
            },
            "type": "bar"
           }
          ],
          "barpolar": [
           {
            "marker": {
             "line": {
              "color": "#E5ECF6",
              "width": 0.5
             },
             "pattern": {
              "fillmode": "overlay",
              "size": 10,
              "solidity": 0.2
             }
            },
            "type": "barpolar"
           }
          ],
          "carpet": [
           {
            "aaxis": {
             "endlinecolor": "#2a3f5f",
             "gridcolor": "white",
             "linecolor": "white",
             "minorgridcolor": "white",
             "startlinecolor": "#2a3f5f"
            },
            "baxis": {
             "endlinecolor": "#2a3f5f",
             "gridcolor": "white",
             "linecolor": "white",
             "minorgridcolor": "white",
             "startlinecolor": "#2a3f5f"
            },
            "type": "carpet"
           }
          ],
          "choropleth": [
           {
            "colorbar": {
             "outlinewidth": 0,
             "ticks": ""
            },
            "type": "choropleth"
           }
          ],
          "contour": [
           {
            "colorbar": {
             "outlinewidth": 0,
             "ticks": ""
            },
            "colorscale": [
             [
              0,
              "#0d0887"
             ],
             [
              0.1111111111111111,
              "#46039f"
             ],
             [
              0.2222222222222222,
              "#7201a8"
             ],
             [
              0.3333333333333333,
              "#9c179e"
             ],
             [
              0.4444444444444444,
              "#bd3786"
             ],
             [
              0.5555555555555556,
              "#d8576b"
             ],
             [
              0.6666666666666666,
              "#ed7953"
             ],
             [
              0.7777777777777778,
              "#fb9f3a"
             ],
             [
              0.8888888888888888,
              "#fdca26"
             ],
             [
              1,
              "#f0f921"
             ]
            ],
            "type": "contour"
           }
          ],
          "contourcarpet": [
           {
            "colorbar": {
             "outlinewidth": 0,
             "ticks": ""
            },
            "type": "contourcarpet"
           }
          ],
          "heatmap": [
           {
            "colorbar": {
             "outlinewidth": 0,
             "ticks": ""
            },
            "colorscale": [
             [
              0,
              "#0d0887"
             ],
             [
              0.1111111111111111,
              "#46039f"
             ],
             [
              0.2222222222222222,
              "#7201a8"
             ],
             [
              0.3333333333333333,
              "#9c179e"
             ],
             [
              0.4444444444444444,
              "#bd3786"
             ],
             [
              0.5555555555555556,
              "#d8576b"
             ],
             [
              0.6666666666666666,
              "#ed7953"
             ],
             [
              0.7777777777777778,
              "#fb9f3a"
             ],
             [
              0.8888888888888888,
              "#fdca26"
             ],
             [
              1,
              "#f0f921"
             ]
            ],
            "type": "heatmap"
           }
          ],
          "histogram": [
           {
            "marker": {
             "pattern": {
              "fillmode": "overlay",
              "size": 10,
              "solidity": 0.2
             }
            },
            "type": "histogram"
           }
          ],
          "histogram2d": [
           {
            "colorbar": {
             "outlinewidth": 0,
             "ticks": ""
            },
            "colorscale": [
             [
              0,
              "#0d0887"
             ],
             [
              0.1111111111111111,
              "#46039f"
             ],
             [
              0.2222222222222222,
              "#7201a8"
             ],
             [
              0.3333333333333333,
              "#9c179e"
             ],
             [
              0.4444444444444444,
              "#bd3786"
             ],
             [
              0.5555555555555556,
              "#d8576b"
             ],
             [
              0.6666666666666666,
              "#ed7953"
             ],
             [
              0.7777777777777778,
              "#fb9f3a"
             ],
             [
              0.8888888888888888,
              "#fdca26"
             ],
             [
              1,
              "#f0f921"
             ]
            ],
            "type": "histogram2d"
           }
          ],
          "histogram2dcontour": [
           {
            "colorbar": {
             "outlinewidth": 0,
             "ticks": ""
            },
            "colorscale": [
             [
              0,
              "#0d0887"
             ],
             [
              0.1111111111111111,
              "#46039f"
             ],
             [
              0.2222222222222222,
              "#7201a8"
             ],
             [
              0.3333333333333333,
              "#9c179e"
             ],
             [
              0.4444444444444444,
              "#bd3786"
             ],
             [
              0.5555555555555556,
              "#d8576b"
             ],
             [
              0.6666666666666666,
              "#ed7953"
             ],
             [
              0.7777777777777778,
              "#fb9f3a"
             ],
             [
              0.8888888888888888,
              "#fdca26"
             ],
             [
              1,
              "#f0f921"
             ]
            ],
            "type": "histogram2dcontour"
           }
          ],
          "mesh3d": [
           {
            "colorbar": {
             "outlinewidth": 0,
             "ticks": ""
            },
            "type": "mesh3d"
           }
          ],
          "parcoords": [
           {
            "line": {
             "colorbar": {
              "outlinewidth": 0,
              "ticks": ""
             }
            },
            "type": "parcoords"
           }
          ],
          "pie": [
           {
            "automargin": true,
            "type": "pie"
           }
          ],
          "scatter": [
           {
            "fillpattern": {
             "fillmode": "overlay",
             "size": 10,
             "solidity": 0.2
            },
            "type": "scatter"
           }
          ],
          "scatter3d": [
           {
            "line": {
             "colorbar": {
              "outlinewidth": 0,
              "ticks": ""
             }
            },
            "marker": {
             "colorbar": {
              "outlinewidth": 0,
              "ticks": ""
             }
            },
            "type": "scatter3d"
           }
          ],
          "scattercarpet": [
           {
            "marker": {
             "colorbar": {
              "outlinewidth": 0,
              "ticks": ""
             }
            },
            "type": "scattercarpet"
           }
          ],
          "scattergeo": [
           {
            "marker": {
             "colorbar": {
              "outlinewidth": 0,
              "ticks": ""
             }
            },
            "type": "scattergeo"
           }
          ],
          "scattergl": [
           {
            "marker": {
             "colorbar": {
              "outlinewidth": 0,
              "ticks": ""
             }
            },
            "type": "scattergl"
           }
          ],
          "scattermap": [
           {
            "marker": {
             "colorbar": {
              "outlinewidth": 0,
              "ticks": ""
             }
            },
            "type": "scattermap"
           }
          ],
          "scattermapbox": [
           {
            "marker": {
             "colorbar": {
              "outlinewidth": 0,
              "ticks": ""
             }
            },
            "type": "scattermapbox"
           }
          ],
          "scatterpolar": [
           {
            "marker": {
             "colorbar": {
              "outlinewidth": 0,
              "ticks": ""
             }
            },
            "type": "scatterpolar"
           }
          ],
          "scatterpolargl": [
           {
            "marker": {
             "colorbar": {
              "outlinewidth": 0,
              "ticks": ""
             }
            },
            "type": "scatterpolargl"
           }
          ],
          "scatterternary": [
           {
            "marker": {
             "colorbar": {
              "outlinewidth": 0,
              "ticks": ""
             }
            },
            "type": "scatterternary"
           }
          ],
          "surface": [
           {
            "colorbar": {
             "outlinewidth": 0,
             "ticks": ""
            },
            "colorscale": [
             [
              0,
              "#0d0887"
             ],
             [
              0.1111111111111111,
              "#46039f"
             ],
             [
              0.2222222222222222,
              "#7201a8"
             ],
             [
              0.3333333333333333,
              "#9c179e"
             ],
             [
              0.4444444444444444,
              "#bd3786"
             ],
             [
              0.5555555555555556,
              "#d8576b"
             ],
             [
              0.6666666666666666,
              "#ed7953"
             ],
             [
              0.7777777777777778,
              "#fb9f3a"
             ],
             [
              0.8888888888888888,
              "#fdca26"
             ],
             [
              1,
              "#f0f921"
             ]
            ],
            "type": "surface"
           }
          ],
          "table": [
           {
            "cells": {
             "fill": {
              "color": "#EBF0F8"
             },
             "line": {
              "color": "white"
             }
            },
            "header": {
             "fill": {
              "color": "#C8D4E3"
             },
             "line": {
              "color": "white"
             }
            },
            "type": "table"
           }
          ]
         },
         "layout": {
          "annotationdefaults": {
           "arrowcolor": "#2a3f5f",
           "arrowhead": 0,
           "arrowwidth": 1
          },
          "autotypenumbers": "strict",
          "coloraxis": {
           "colorbar": {
            "outlinewidth": 0,
            "ticks": ""
           }
          },
          "colorscale": {
           "diverging": [
            [
             0,
             "#8e0152"
            ],
            [
             0.1,
             "#c51b7d"
            ],
            [
             0.2,
             "#de77ae"
            ],
            [
             0.3,
             "#f1b6da"
            ],
            [
             0.4,
             "#fde0ef"
            ],
            [
             0.5,
             "#f7f7f7"
            ],
            [
             0.6,
             "#e6f5d0"
            ],
            [
             0.7,
             "#b8e186"
            ],
            [
             0.8,
             "#7fbc41"
            ],
            [
             0.9,
             "#4d9221"
            ],
            [
             1,
             "#276419"
            ]
           ],
           "sequential": [
            [
             0,
             "#0d0887"
            ],
            [
             0.1111111111111111,
             "#46039f"
            ],
            [
             0.2222222222222222,
             "#7201a8"
            ],
            [
             0.3333333333333333,
             "#9c179e"
            ],
            [
             0.4444444444444444,
             "#bd3786"
            ],
            [
             0.5555555555555556,
             "#d8576b"
            ],
            [
             0.6666666666666666,
             "#ed7953"
            ],
            [
             0.7777777777777778,
             "#fb9f3a"
            ],
            [
             0.8888888888888888,
             "#fdca26"
            ],
            [
             1,
             "#f0f921"
            ]
           ],
           "sequentialminus": [
            [
             0,
             "#0d0887"
            ],
            [
             0.1111111111111111,
             "#46039f"
            ],
            [
             0.2222222222222222,
             "#7201a8"
            ],
            [
             0.3333333333333333,
             "#9c179e"
            ],
            [
             0.4444444444444444,
             "#bd3786"
            ],
            [
             0.5555555555555556,
             "#d8576b"
            ],
            [
             0.6666666666666666,
             "#ed7953"
            ],
            [
             0.7777777777777778,
             "#fb9f3a"
            ],
            [
             0.8888888888888888,
             "#fdca26"
            ],
            [
             1,
             "#f0f921"
            ]
           ]
          },
          "colorway": [
           "#636efa",
           "#EF553B",
           "#00cc96",
           "#ab63fa",
           "#FFA15A",
           "#19d3f3",
           "#FF6692",
           "#B6E880",
           "#FF97FF",
           "#FECB52"
          ],
          "font": {
           "color": "#2a3f5f"
          },
          "geo": {
           "bgcolor": "white",
           "lakecolor": "white",
           "landcolor": "#E5ECF6",
           "showlakes": true,
           "showland": true,
           "subunitcolor": "white"
          },
          "hoverlabel": {
           "align": "left"
          },
          "hovermode": "closest",
          "mapbox": {
           "style": "light"
          },
          "paper_bgcolor": "white",
          "plot_bgcolor": "#E5ECF6",
          "polar": {
           "angularaxis": {
            "gridcolor": "white",
            "linecolor": "white",
            "ticks": ""
           },
           "bgcolor": "#E5ECF6",
           "radialaxis": {
            "gridcolor": "white",
            "linecolor": "white",
            "ticks": ""
           }
          },
          "scene": {
           "xaxis": {
            "backgroundcolor": "#E5ECF6",
            "gridcolor": "white",
            "gridwidth": 2,
            "linecolor": "white",
            "showbackground": true,
            "ticks": "",
            "zerolinecolor": "white"
           },
           "yaxis": {
            "backgroundcolor": "#E5ECF6",
            "gridcolor": "white",
            "gridwidth": 2,
            "linecolor": "white",
            "showbackground": true,
            "ticks": "",
            "zerolinecolor": "white"
           },
           "zaxis": {
            "backgroundcolor": "#E5ECF6",
            "gridcolor": "white",
            "gridwidth": 2,
            "linecolor": "white",
            "showbackground": true,
            "ticks": "",
            "zerolinecolor": "white"
           }
          },
          "shapedefaults": {
           "line": {
            "color": "#2a3f5f"
           }
          },
          "ternary": {
           "aaxis": {
            "gridcolor": "white",
            "linecolor": "white",
            "ticks": ""
           },
           "baxis": {
            "gridcolor": "white",
            "linecolor": "white",
            "ticks": ""
           },
           "bgcolor": "#E5ECF6",
           "caxis": {
            "gridcolor": "white",
            "linecolor": "white",
            "ticks": ""
           }
          },
          "title": {
           "x": 0.05
          },
          "xaxis": {
           "automargin": true,
           "gridcolor": "white",
           "linecolor": "white",
           "ticks": "",
           "title": {
            "standoff": 15
           },
           "zerolinecolor": "white",
           "zerolinewidth": 2
          },
          "yaxis": {
           "automargin": true,
           "gridcolor": "white",
           "linecolor": "white",
           "ticks": "",
           "title": {
            "standoff": 15
           },
           "zerolinecolor": "white",
           "zerolinewidth": 2
          }
         }
        },
        "title": {
         "font": {
          "color": "darkred",
          "size": 20
         },
         "text": "🎯 Bowling Performance – 1st Innings"
        },
        "xaxis": {
         "anchor": "y",
         "domain": [
          0,
          1
         ],
         "showgrid": false,
         "title": {
          "text": "Bowler"
         }
        },
        "yaxis": {
         "anchor": "x",
         "domain": [
          0,
          1
         ],
         "gridcolor": "lightgray",
         "showgrid": true,
         "title": {
          "text": "Wickets Taken"
         }
        }
       }
      }
     },
     "metadata": {},
     "output_type": "display_data"
    }
   ],
   "source": [
    "\n",
    "# Bowling summary\n",
    "wickets = df[df[\"wicket\"].notnull()].groupby(\"bowler\").size().reset_index(name=\"wickets\")\n",
    "runs_conceded = df.groupby(\"bowler\")[\"total_runs\"].sum().reset_index()\n",
    "\n",
    "bowling_summary = runs_conceded.merge(wickets, on=\"bowler\", how=\"left\").fillna(0)\n",
    "\n",
    "# Beautiful bowling chart\n",
    "fig_bowl = px.bar(\n",
    "    bowling_summary,\n",
    "    x=\"bowler\",\n",
    "    y=\"wickets\",\n",
    "    text=\"wickets\",\n",
    "    title=\"🎯 Bowling Performance – 1st Innings\",\n",
    "    color=\"wickets\",\n",
    "    color_continuous_scale=px.colors.sequential.Magma\n",
    ")\n",
    "\n",
    "# Style improvements\n",
    "fig_bowl.update_traces(\n",
    "    textposition=\"outside\",\n",
    "    marker=dict(line=dict(width=1, color=\"black\")),\n",
    "    hovertemplate=\"<b>%{x}</b><br>Wickets: %{y}<br>Runs Conceded: %{customdata}<extra></extra>\",\n",
    "    customdata=bowling_summary[[\"total_runs\"]]\n",
    ")\n",
    "\n",
    "fig_bowl.update_layout(\n",
    "    plot_bgcolor=\"white\",\n",
    "    xaxis=dict(title=\"Bowler\", showgrid=False),\n",
    "    yaxis=dict(title=\"Wickets Taken\", showgrid=True, gridcolor=\"lightgray\"),\n",
    "    font=dict(family=\"Arial Black\", size=14),\n",
    "    title_font=dict(size=20, color=\"darkred\"),\n",
    "    bargap=0.35\n",
    ")\n",
    "\n",
    "fig_bowl.show()\n"
   ]
  },
  {
   "cell_type": "code",
   "execution_count": 46,
   "id": "7217c3b1",
   "metadata": {},
   "outputs": [
    {
     "data": {
      "application/vnd.plotly.v1+json": {
       "config": {
        "plotlyServerURL": "https://plot.ly"
       },
       "data": [
        {
         "customdata": {
          "bdata": "FRonHBk=",
          "dtype": "i1",
          "shape": "5, 1"
         },
         "hovertemplate": "<b>Bowler:</b> %{x}<br>Wickets: %{y}<br>Runs Conceded: %{customdata}<extra></extra>",
         "legendgroup": "",
         "line": {
          "color": "darkred",
          "dash": "solid",
          "width": 3
         },
         "marker": {
          "color": "gold",
          "line": {
           "color": "black",
           "width": 2
          },
          "size": 10,
          "symbol": "circle"
         },
         "mode": "lines+markers",
         "name": "",
         "orientation": "v",
         "showlegend": false,
         "type": "scatter",
         "x": [
          "Imad Wasim",
          "JO Holder",
          "Naseem Shah",
          "RP Meredith",
          "Shadab Khan"
         ],
         "xaxis": "x",
         "y": {
          "bdata": "AQQBAQM=",
          "dtype": "i1"
         },
         "yaxis": "y"
        }
       ],
       "layout": {
        "font": {
         "family": "Verdana",
         "size": 13
        },
        "legend": {
         "tracegroupgap": 0
        },
        "plot_bgcolor": "white",
        "template": {
         "data": {
          "bar": [
           {
            "error_x": {
             "color": "#2a3f5f"
            },
            "error_y": {
             "color": "#2a3f5f"
            },
            "marker": {
             "line": {
              "color": "#E5ECF6",
              "width": 0.5
             },
             "pattern": {
              "fillmode": "overlay",
              "size": 10,
              "solidity": 0.2
             }
            },
            "type": "bar"
           }
          ],
          "barpolar": [
           {
            "marker": {
             "line": {
              "color": "#E5ECF6",
              "width": 0.5
             },
             "pattern": {
              "fillmode": "overlay",
              "size": 10,
              "solidity": 0.2
             }
            },
            "type": "barpolar"
           }
          ],
          "carpet": [
           {
            "aaxis": {
             "endlinecolor": "#2a3f5f",
             "gridcolor": "white",
             "linecolor": "white",
             "minorgridcolor": "white",
             "startlinecolor": "#2a3f5f"
            },
            "baxis": {
             "endlinecolor": "#2a3f5f",
             "gridcolor": "white",
             "linecolor": "white",
             "minorgridcolor": "white",
             "startlinecolor": "#2a3f5f"
            },
            "type": "carpet"
           }
          ],
          "choropleth": [
           {
            "colorbar": {
             "outlinewidth": 0,
             "ticks": ""
            },
            "type": "choropleth"
           }
          ],
          "contour": [
           {
            "colorbar": {
             "outlinewidth": 0,
             "ticks": ""
            },
            "colorscale": [
             [
              0,
              "#0d0887"
             ],
             [
              0.1111111111111111,
              "#46039f"
             ],
             [
              0.2222222222222222,
              "#7201a8"
             ],
             [
              0.3333333333333333,
              "#9c179e"
             ],
             [
              0.4444444444444444,
              "#bd3786"
             ],
             [
              0.5555555555555556,
              "#d8576b"
             ],
             [
              0.6666666666666666,
              "#ed7953"
             ],
             [
              0.7777777777777778,
              "#fb9f3a"
             ],
             [
              0.8888888888888888,
              "#fdca26"
             ],
             [
              1,
              "#f0f921"
             ]
            ],
            "type": "contour"
           }
          ],
          "contourcarpet": [
           {
            "colorbar": {
             "outlinewidth": 0,
             "ticks": ""
            },
            "type": "contourcarpet"
           }
          ],
          "heatmap": [
           {
            "colorbar": {
             "outlinewidth": 0,
             "ticks": ""
            },
            "colorscale": [
             [
              0,
              "#0d0887"
             ],
             [
              0.1111111111111111,
              "#46039f"
             ],
             [
              0.2222222222222222,
              "#7201a8"
             ],
             [
              0.3333333333333333,
              "#9c179e"
             ],
             [
              0.4444444444444444,
              "#bd3786"
             ],
             [
              0.5555555555555556,
              "#d8576b"
             ],
             [
              0.6666666666666666,
              "#ed7953"
             ],
             [
              0.7777777777777778,
              "#fb9f3a"
             ],
             [
              0.8888888888888888,
              "#fdca26"
             ],
             [
              1,
              "#f0f921"
             ]
            ],
            "type": "heatmap"
           }
          ],
          "histogram": [
           {
            "marker": {
             "pattern": {
              "fillmode": "overlay",
              "size": 10,
              "solidity": 0.2
             }
            },
            "type": "histogram"
           }
          ],
          "histogram2d": [
           {
            "colorbar": {
             "outlinewidth": 0,
             "ticks": ""
            },
            "colorscale": [
             [
              0,
              "#0d0887"
             ],
             [
              0.1111111111111111,
              "#46039f"
             ],
             [
              0.2222222222222222,
              "#7201a8"
             ],
             [
              0.3333333333333333,
              "#9c179e"
             ],
             [
              0.4444444444444444,
              "#bd3786"
             ],
             [
              0.5555555555555556,
              "#d8576b"
             ],
             [
              0.6666666666666666,
              "#ed7953"
             ],
             [
              0.7777777777777778,
              "#fb9f3a"
             ],
             [
              0.8888888888888888,
              "#fdca26"
             ],
             [
              1,
              "#f0f921"
             ]
            ],
            "type": "histogram2d"
           }
          ],
          "histogram2dcontour": [
           {
            "colorbar": {
             "outlinewidth": 0,
             "ticks": ""
            },
            "colorscale": [
             [
              0,
              "#0d0887"
             ],
             [
              0.1111111111111111,
              "#46039f"
             ],
             [
              0.2222222222222222,
              "#7201a8"
             ],
             [
              0.3333333333333333,
              "#9c179e"
             ],
             [
              0.4444444444444444,
              "#bd3786"
             ],
             [
              0.5555555555555556,
              "#d8576b"
             ],
             [
              0.6666666666666666,
              "#ed7953"
             ],
             [
              0.7777777777777778,
              "#fb9f3a"
             ],
             [
              0.8888888888888888,
              "#fdca26"
             ],
             [
              1,
              "#f0f921"
             ]
            ],
            "type": "histogram2dcontour"
           }
          ],
          "mesh3d": [
           {
            "colorbar": {
             "outlinewidth": 0,
             "ticks": ""
            },
            "type": "mesh3d"
           }
          ],
          "parcoords": [
           {
            "line": {
             "colorbar": {
              "outlinewidth": 0,
              "ticks": ""
             }
            },
            "type": "parcoords"
           }
          ],
          "pie": [
           {
            "automargin": true,
            "type": "pie"
           }
          ],
          "scatter": [
           {
            "fillpattern": {
             "fillmode": "overlay",
             "size": 10,
             "solidity": 0.2
            },
            "type": "scatter"
           }
          ],
          "scatter3d": [
           {
            "line": {
             "colorbar": {
              "outlinewidth": 0,
              "ticks": ""
             }
            },
            "marker": {
             "colorbar": {
              "outlinewidth": 0,
              "ticks": ""
             }
            },
            "type": "scatter3d"
           }
          ],
          "scattercarpet": [
           {
            "marker": {
             "colorbar": {
              "outlinewidth": 0,
              "ticks": ""
             }
            },
            "type": "scattercarpet"
           }
          ],
          "scattergeo": [
           {
            "marker": {
             "colorbar": {
              "outlinewidth": 0,
              "ticks": ""
             }
            },
            "type": "scattergeo"
           }
          ],
          "scattergl": [
           {
            "marker": {
             "colorbar": {
              "outlinewidth": 0,
              "ticks": ""
             }
            },
            "type": "scattergl"
           }
          ],
          "scattermap": [
           {
            "marker": {
             "colorbar": {
              "outlinewidth": 0,
              "ticks": ""
             }
            },
            "type": "scattermap"
           }
          ],
          "scattermapbox": [
           {
            "marker": {
             "colorbar": {
              "outlinewidth": 0,
              "ticks": ""
             }
            },
            "type": "scattermapbox"
           }
          ],
          "scatterpolar": [
           {
            "marker": {
             "colorbar": {
              "outlinewidth": 0,
              "ticks": ""
             }
            },
            "type": "scatterpolar"
           }
          ],
          "scatterpolargl": [
           {
            "marker": {
             "colorbar": {
              "outlinewidth": 0,
              "ticks": ""
             }
            },
            "type": "scatterpolargl"
           }
          ],
          "scatterternary": [
           {
            "marker": {
             "colorbar": {
              "outlinewidth": 0,
              "ticks": ""
             }
            },
            "type": "scatterternary"
           }
          ],
          "surface": [
           {
            "colorbar": {
             "outlinewidth": 0,
             "ticks": ""
            },
            "colorscale": [
             [
              0,
              "#0d0887"
             ],
             [
              0.1111111111111111,
              "#46039f"
             ],
             [
              0.2222222222222222,
              "#7201a8"
             ],
             [
              0.3333333333333333,
              "#9c179e"
             ],
             [
              0.4444444444444444,
              "#bd3786"
             ],
             [
              0.5555555555555556,
              "#d8576b"
             ],
             [
              0.6666666666666666,
              "#ed7953"
             ],
             [
              0.7777777777777778,
              "#fb9f3a"
             ],
             [
              0.8888888888888888,
              "#fdca26"
             ],
             [
              1,
              "#f0f921"
             ]
            ],
            "type": "surface"
           }
          ],
          "table": [
           {
            "cells": {
             "fill": {
              "color": "#EBF0F8"
             },
             "line": {
              "color": "white"
             }
            },
            "header": {
             "fill": {
              "color": "#C8D4E3"
             },
             "line": {
              "color": "white"
             }
            },
            "type": "table"
           }
          ]
         },
         "layout": {
          "annotationdefaults": {
           "arrowcolor": "#2a3f5f",
           "arrowhead": 0,
           "arrowwidth": 1
          },
          "autotypenumbers": "strict",
          "coloraxis": {
           "colorbar": {
            "outlinewidth": 0,
            "ticks": ""
           }
          },
          "colorscale": {
           "diverging": [
            [
             0,
             "#8e0152"
            ],
            [
             0.1,
             "#c51b7d"
            ],
            [
             0.2,
             "#de77ae"
            ],
            [
             0.3,
             "#f1b6da"
            ],
            [
             0.4,
             "#fde0ef"
            ],
            [
             0.5,
             "#f7f7f7"
            ],
            [
             0.6,
             "#e6f5d0"
            ],
            [
             0.7,
             "#b8e186"
            ],
            [
             0.8,
             "#7fbc41"
            ],
            [
             0.9,
             "#4d9221"
            ],
            [
             1,
             "#276419"
            ]
           ],
           "sequential": [
            [
             0,
             "#0d0887"
            ],
            [
             0.1111111111111111,
             "#46039f"
            ],
            [
             0.2222222222222222,
             "#7201a8"
            ],
            [
             0.3333333333333333,
             "#9c179e"
            ],
            [
             0.4444444444444444,
             "#bd3786"
            ],
            [
             0.5555555555555556,
             "#d8576b"
            ],
            [
             0.6666666666666666,
             "#ed7953"
            ],
            [
             0.7777777777777778,
             "#fb9f3a"
            ],
            [
             0.8888888888888888,
             "#fdca26"
            ],
            [
             1,
             "#f0f921"
            ]
           ],
           "sequentialminus": [
            [
             0,
             "#0d0887"
            ],
            [
             0.1111111111111111,
             "#46039f"
            ],
            [
             0.2222222222222222,
             "#7201a8"
            ],
            [
             0.3333333333333333,
             "#9c179e"
            ],
            [
             0.4444444444444444,
             "#bd3786"
            ],
            [
             0.5555555555555556,
             "#d8576b"
            ],
            [
             0.6666666666666666,
             "#ed7953"
            ],
            [
             0.7777777777777778,
             "#fb9f3a"
            ],
            [
             0.8888888888888888,
             "#fdca26"
            ],
            [
             1,
             "#f0f921"
            ]
           ]
          },
          "colorway": [
           "#636efa",
           "#EF553B",
           "#00cc96",
           "#ab63fa",
           "#FFA15A",
           "#19d3f3",
           "#FF6692",
           "#B6E880",
           "#FF97FF",
           "#FECB52"
          ],
          "font": {
           "color": "#2a3f5f"
          },
          "geo": {
           "bgcolor": "white",
           "lakecolor": "white",
           "landcolor": "#E5ECF6",
           "showlakes": true,
           "showland": true,
           "subunitcolor": "white"
          },
          "hoverlabel": {
           "align": "left"
          },
          "hovermode": "closest",
          "mapbox": {
           "style": "light"
          },
          "paper_bgcolor": "white",
          "plot_bgcolor": "#E5ECF6",
          "polar": {
           "angularaxis": {
            "gridcolor": "white",
            "linecolor": "white",
            "ticks": ""
           },
           "bgcolor": "#E5ECF6",
           "radialaxis": {
            "gridcolor": "white",
            "linecolor": "white",
            "ticks": ""
           }
          },
          "scene": {
           "xaxis": {
            "backgroundcolor": "#E5ECF6",
            "gridcolor": "white",
            "gridwidth": 2,
            "linecolor": "white",
            "showbackground": true,
            "ticks": "",
            "zerolinecolor": "white"
           },
           "yaxis": {
            "backgroundcolor": "#E5ECF6",
            "gridcolor": "white",
            "gridwidth": 2,
            "linecolor": "white",
            "showbackground": true,
            "ticks": "",
            "zerolinecolor": "white"
           },
           "zaxis": {
            "backgroundcolor": "#E5ECF6",
            "gridcolor": "white",
            "gridwidth": 2,
            "linecolor": "white",
            "showbackground": true,
            "ticks": "",
            "zerolinecolor": "white"
           }
          },
          "shapedefaults": {
           "line": {
            "color": "#2a3f5f"
           }
          },
          "ternary": {
           "aaxis": {
            "gridcolor": "white",
            "linecolor": "white",
            "ticks": ""
           },
           "baxis": {
            "gridcolor": "white",
            "linecolor": "white",
            "ticks": ""
           },
           "bgcolor": "#E5ECF6",
           "caxis": {
            "gridcolor": "white",
            "linecolor": "white",
            "ticks": ""
           }
          },
          "title": {
           "x": 0.05
          },
          "xaxis": {
           "automargin": true,
           "gridcolor": "white",
           "linecolor": "white",
           "ticks": "",
           "title": {
            "standoff": 15
           },
           "zerolinecolor": "white",
           "zerolinewidth": 2
          },
          "yaxis": {
           "automargin": true,
           "gridcolor": "white",
           "linecolor": "white",
           "ticks": "",
           "title": {
            "standoff": 15
           },
           "zerolinecolor": "white",
           "zerolinewidth": 2
          }
         }
        },
        "title": {
         "font": {
          "color": "darkred",
          "size": 20
         },
         "text": "📉 Bowling Performance – 1st Innings"
        },
        "xaxis": {
         "anchor": "y",
         "domain": [
          0,
          1
         ],
         "showgrid": false,
         "title": {
          "text": "Bowler"
         }
        },
        "yaxis": {
         "anchor": "x",
         "domain": [
          0,
          1
         ],
         "gridcolor": "lightgray",
         "showgrid": true,
         "title": {
          "text": "Wickets Taken"
         }
        }
       }
      }
     },
     "metadata": {},
     "output_type": "display_data"
    }
   ],
   "source": [
    "\n",
    "\n",
    "# Line graph for bowling performance\n",
    "fig_bowl_line = px.line(\n",
    "    bowling_summary,\n",
    "    x=\"bowler\",\n",
    "    y=\"wickets\",\n",
    "    markers=True,  # dots on each bowler\n",
    "    title=\"📉 Bowling Performance – 1st Innings\"\n",
    ")\n",
    "\n",
    "# Style improvements\n",
    "fig_bowl_line.update_traces(\n",
    "    line=dict(color=\"darkred\", width=3),\n",
    "    marker=dict(size=10, color=\"gold\", line=dict(width=2, color=\"black\")),\n",
    "    hovertemplate=\"<b>Bowler:</b> %{x}<br>Wickets: %{y}<br>Runs Conceded: %{customdata}<extra></extra>\",\n",
    "    customdata=bowling_summary[[\"total_runs\"]]\n",
    ")\n",
    "\n",
    "fig_bowl_line.update_layout(\n",
    "    plot_bgcolor=\"white\",\n",
    "    xaxis=dict(title=\"Bowler\", showgrid=False),\n",
    "    yaxis=dict(title=\"Wickets Taken\", showgrid=True, gridcolor=\"lightgray\"),\n",
    "    font=dict(family=\"Verdana\", size=13),\n",
    "    title_font=dict(size=20, color=\"darkred\")\n",
    ")\n",
    "\n",
    "fig_bowl_line.show()\n"
   ]
  },
  {
   "cell_type": "markdown",
   "id": "4d80a583",
   "metadata": {},
   "source": [
    "## Catches"
   ]
  },
  {
   "cell_type": "code",
   "execution_count": 39,
   "id": "6db09704",
   "metadata": {},
   "outputs": [
    {
     "data": {
      "application/vnd.plotly.v1+json": {
       "config": {
        "plotlyServerURL": "https://plot.ly"
       },
       "data": [
        {
         "hovertemplate": "<b>Fielder:</b> %{x}<br>Catches: %{y}<extra></extra>",
         "legendgroup": "",
         "marker": {
          "color": {
           "bdata": "AgEBAQEB",
           "dtype": "i1"
          },
          "coloraxis": "coloraxis",
          "line": {
           "color": "black",
           "width": 1
          },
          "pattern": {
           "shape": ""
          }
         },
         "name": "",
         "orientation": "v",
         "showlegend": false,
         "text": {
          "bdata": "AAAAAAAAAEAAAAAAAADwPwAAAAAAAPA/AAAAAAAA8D8AAAAAAADwPwAAAAAAAPA/",
          "dtype": "f8"
         },
         "textposition": "outside",
         "type": "bar",
         "x": [
          "Azam Khan",
          "Shadab Khan",
          "Agha Salman",
          "Muhammad Shahzad",
          "RP Meredith",
          "C Munro"
         ],
         "xaxis": "x",
         "y": {
          "bdata": "AgEBAQEB",
          "dtype": "i1"
         },
         "yaxis": "y"
        }
       ],
       "layout": {
        "bargap": 0.4,
        "barmode": "relative",
        "coloraxis": {
         "colorbar": {
          "title": {
           "text": "catches"
          }
         },
         "colorscale": [
          [
           0,
           "#0d0887"
          ],
          [
           0.1111111111111111,
           "#46039f"
          ],
          [
           0.2222222222222222,
           "#7201a8"
          ],
          [
           0.3333333333333333,
           "#9c179e"
          ],
          [
           0.4444444444444444,
           "#bd3786"
          ],
          [
           0.5555555555555556,
           "#d8576b"
          ],
          [
           0.6666666666666666,
           "#ed7953"
          ],
          [
           0.7777777777777778,
           "#fb9f3a"
          ],
          [
           0.8888888888888888,
           "#fdca26"
          ],
          [
           1,
           "#f0f921"
          ]
         ]
        },
        "font": {
         "family": "Verdana",
         "size": 13
        },
        "legend": {
         "tracegroupgap": 0
        },
        "plot_bgcolor": "white",
        "template": {
         "data": {
          "bar": [
           {
            "error_x": {
             "color": "#2a3f5f"
            },
            "error_y": {
             "color": "#2a3f5f"
            },
            "marker": {
             "line": {
              "color": "#E5ECF6",
              "width": 0.5
             },
             "pattern": {
              "fillmode": "overlay",
              "size": 10,
              "solidity": 0.2
             }
            },
            "type": "bar"
           }
          ],
          "barpolar": [
           {
            "marker": {
             "line": {
              "color": "#E5ECF6",
              "width": 0.5
             },
             "pattern": {
              "fillmode": "overlay",
              "size": 10,
              "solidity": 0.2
             }
            },
            "type": "barpolar"
           }
          ],
          "carpet": [
           {
            "aaxis": {
             "endlinecolor": "#2a3f5f",
             "gridcolor": "white",
             "linecolor": "white",
             "minorgridcolor": "white",
             "startlinecolor": "#2a3f5f"
            },
            "baxis": {
             "endlinecolor": "#2a3f5f",
             "gridcolor": "white",
             "linecolor": "white",
             "minorgridcolor": "white",
             "startlinecolor": "#2a3f5f"
            },
            "type": "carpet"
           }
          ],
          "choropleth": [
           {
            "colorbar": {
             "outlinewidth": 0,
             "ticks": ""
            },
            "type": "choropleth"
           }
          ],
          "contour": [
           {
            "colorbar": {
             "outlinewidth": 0,
             "ticks": ""
            },
            "colorscale": [
             [
              0,
              "#0d0887"
             ],
             [
              0.1111111111111111,
              "#46039f"
             ],
             [
              0.2222222222222222,
              "#7201a8"
             ],
             [
              0.3333333333333333,
              "#9c179e"
             ],
             [
              0.4444444444444444,
              "#bd3786"
             ],
             [
              0.5555555555555556,
              "#d8576b"
             ],
             [
              0.6666666666666666,
              "#ed7953"
             ],
             [
              0.7777777777777778,
              "#fb9f3a"
             ],
             [
              0.8888888888888888,
              "#fdca26"
             ],
             [
              1,
              "#f0f921"
             ]
            ],
            "type": "contour"
           }
          ],
          "contourcarpet": [
           {
            "colorbar": {
             "outlinewidth": 0,
             "ticks": ""
            },
            "type": "contourcarpet"
           }
          ],
          "heatmap": [
           {
            "colorbar": {
             "outlinewidth": 0,
             "ticks": ""
            },
            "colorscale": [
             [
              0,
              "#0d0887"
             ],
             [
              0.1111111111111111,
              "#46039f"
             ],
             [
              0.2222222222222222,
              "#7201a8"
             ],
             [
              0.3333333333333333,
              "#9c179e"
             ],
             [
              0.4444444444444444,
              "#bd3786"
             ],
             [
              0.5555555555555556,
              "#d8576b"
             ],
             [
              0.6666666666666666,
              "#ed7953"
             ],
             [
              0.7777777777777778,
              "#fb9f3a"
             ],
             [
              0.8888888888888888,
              "#fdca26"
             ],
             [
              1,
              "#f0f921"
             ]
            ],
            "type": "heatmap"
           }
          ],
          "histogram": [
           {
            "marker": {
             "pattern": {
              "fillmode": "overlay",
              "size": 10,
              "solidity": 0.2
             }
            },
            "type": "histogram"
           }
          ],
          "histogram2d": [
           {
            "colorbar": {
             "outlinewidth": 0,
             "ticks": ""
            },
            "colorscale": [
             [
              0,
              "#0d0887"
             ],
             [
              0.1111111111111111,
              "#46039f"
             ],
             [
              0.2222222222222222,
              "#7201a8"
             ],
             [
              0.3333333333333333,
              "#9c179e"
             ],
             [
              0.4444444444444444,
              "#bd3786"
             ],
             [
              0.5555555555555556,
              "#d8576b"
             ],
             [
              0.6666666666666666,
              "#ed7953"
             ],
             [
              0.7777777777777778,
              "#fb9f3a"
             ],
             [
              0.8888888888888888,
              "#fdca26"
             ],
             [
              1,
              "#f0f921"
             ]
            ],
            "type": "histogram2d"
           }
          ],
          "histogram2dcontour": [
           {
            "colorbar": {
             "outlinewidth": 0,
             "ticks": ""
            },
            "colorscale": [
             [
              0,
              "#0d0887"
             ],
             [
              0.1111111111111111,
              "#46039f"
             ],
             [
              0.2222222222222222,
              "#7201a8"
             ],
             [
              0.3333333333333333,
              "#9c179e"
             ],
             [
              0.4444444444444444,
              "#bd3786"
             ],
             [
              0.5555555555555556,
              "#d8576b"
             ],
             [
              0.6666666666666666,
              "#ed7953"
             ],
             [
              0.7777777777777778,
              "#fb9f3a"
             ],
             [
              0.8888888888888888,
              "#fdca26"
             ],
             [
              1,
              "#f0f921"
             ]
            ],
            "type": "histogram2dcontour"
           }
          ],
          "mesh3d": [
           {
            "colorbar": {
             "outlinewidth": 0,
             "ticks": ""
            },
            "type": "mesh3d"
           }
          ],
          "parcoords": [
           {
            "line": {
             "colorbar": {
              "outlinewidth": 0,
              "ticks": ""
             }
            },
            "type": "parcoords"
           }
          ],
          "pie": [
           {
            "automargin": true,
            "type": "pie"
           }
          ],
          "scatter": [
           {
            "fillpattern": {
             "fillmode": "overlay",
             "size": 10,
             "solidity": 0.2
            },
            "type": "scatter"
           }
          ],
          "scatter3d": [
           {
            "line": {
             "colorbar": {
              "outlinewidth": 0,
              "ticks": ""
             }
            },
            "marker": {
             "colorbar": {
              "outlinewidth": 0,
              "ticks": ""
             }
            },
            "type": "scatter3d"
           }
          ],
          "scattercarpet": [
           {
            "marker": {
             "colorbar": {
              "outlinewidth": 0,
              "ticks": ""
             }
            },
            "type": "scattercarpet"
           }
          ],
          "scattergeo": [
           {
            "marker": {
             "colorbar": {
              "outlinewidth": 0,
              "ticks": ""
             }
            },
            "type": "scattergeo"
           }
          ],
          "scattergl": [
           {
            "marker": {
             "colorbar": {
              "outlinewidth": 0,
              "ticks": ""
             }
            },
            "type": "scattergl"
           }
          ],
          "scattermap": [
           {
            "marker": {
             "colorbar": {
              "outlinewidth": 0,
              "ticks": ""
             }
            },
            "type": "scattermap"
           }
          ],
          "scattermapbox": [
           {
            "marker": {
             "colorbar": {
              "outlinewidth": 0,
              "ticks": ""
             }
            },
            "type": "scattermapbox"
           }
          ],
          "scatterpolar": [
           {
            "marker": {
             "colorbar": {
              "outlinewidth": 0,
              "ticks": ""
             }
            },
            "type": "scatterpolar"
           }
          ],
          "scatterpolargl": [
           {
            "marker": {
             "colorbar": {
              "outlinewidth": 0,
              "ticks": ""
             }
            },
            "type": "scatterpolargl"
           }
          ],
          "scatterternary": [
           {
            "marker": {
             "colorbar": {
              "outlinewidth": 0,
              "ticks": ""
             }
            },
            "type": "scatterternary"
           }
          ],
          "surface": [
           {
            "colorbar": {
             "outlinewidth": 0,
             "ticks": ""
            },
            "colorscale": [
             [
              0,
              "#0d0887"
             ],
             [
              0.1111111111111111,
              "#46039f"
             ],
             [
              0.2222222222222222,
              "#7201a8"
             ],
             [
              0.3333333333333333,
              "#9c179e"
             ],
             [
              0.4444444444444444,
              "#bd3786"
             ],
             [
              0.5555555555555556,
              "#d8576b"
             ],
             [
              0.6666666666666666,
              "#ed7953"
             ],
             [
              0.7777777777777778,
              "#fb9f3a"
             ],
             [
              0.8888888888888888,
              "#fdca26"
             ],
             [
              1,
              "#f0f921"
             ]
            ],
            "type": "surface"
           }
          ],
          "table": [
           {
            "cells": {
             "fill": {
              "color": "#EBF0F8"
             },
             "line": {
              "color": "white"
             }
            },
            "header": {
             "fill": {
              "color": "#C8D4E3"
             },
             "line": {
              "color": "white"
             }
            },
            "type": "table"
           }
          ]
         },
         "layout": {
          "annotationdefaults": {
           "arrowcolor": "#2a3f5f",
           "arrowhead": 0,
           "arrowwidth": 1
          },
          "autotypenumbers": "strict",
          "coloraxis": {
           "colorbar": {
            "outlinewidth": 0,
            "ticks": ""
           }
          },
          "colorscale": {
           "diverging": [
            [
             0,
             "#8e0152"
            ],
            [
             0.1,
             "#c51b7d"
            ],
            [
             0.2,
             "#de77ae"
            ],
            [
             0.3,
             "#f1b6da"
            ],
            [
             0.4,
             "#fde0ef"
            ],
            [
             0.5,
             "#f7f7f7"
            ],
            [
             0.6,
             "#e6f5d0"
            ],
            [
             0.7,
             "#b8e186"
            ],
            [
             0.8,
             "#7fbc41"
            ],
            [
             0.9,
             "#4d9221"
            ],
            [
             1,
             "#276419"
            ]
           ],
           "sequential": [
            [
             0,
             "#0d0887"
            ],
            [
             0.1111111111111111,
             "#46039f"
            ],
            [
             0.2222222222222222,
             "#7201a8"
            ],
            [
             0.3333333333333333,
             "#9c179e"
            ],
            [
             0.4444444444444444,
             "#bd3786"
            ],
            [
             0.5555555555555556,
             "#d8576b"
            ],
            [
             0.6666666666666666,
             "#ed7953"
            ],
            [
             0.7777777777777778,
             "#fb9f3a"
            ],
            [
             0.8888888888888888,
             "#fdca26"
            ],
            [
             1,
             "#f0f921"
            ]
           ],
           "sequentialminus": [
            [
             0,
             "#0d0887"
            ],
            [
             0.1111111111111111,
             "#46039f"
            ],
            [
             0.2222222222222222,
             "#7201a8"
            ],
            [
             0.3333333333333333,
             "#9c179e"
            ],
            [
             0.4444444444444444,
             "#bd3786"
            ],
            [
             0.5555555555555556,
             "#d8576b"
            ],
            [
             0.6666666666666666,
             "#ed7953"
            ],
            [
             0.7777777777777778,
             "#fb9f3a"
            ],
            [
             0.8888888888888888,
             "#fdca26"
            ],
            [
             1,
             "#f0f921"
            ]
           ]
          },
          "colorway": [
           "#636efa",
           "#EF553B",
           "#00cc96",
           "#ab63fa",
           "#FFA15A",
           "#19d3f3",
           "#FF6692",
           "#B6E880",
           "#FF97FF",
           "#FECB52"
          ],
          "font": {
           "color": "#2a3f5f"
          },
          "geo": {
           "bgcolor": "white",
           "lakecolor": "white",
           "landcolor": "#E5ECF6",
           "showlakes": true,
           "showland": true,
           "subunitcolor": "white"
          },
          "hoverlabel": {
           "align": "left"
          },
          "hovermode": "closest",
          "mapbox": {
           "style": "light"
          },
          "paper_bgcolor": "white",
          "plot_bgcolor": "#E5ECF6",
          "polar": {
           "angularaxis": {
            "gridcolor": "white",
            "linecolor": "white",
            "ticks": ""
           },
           "bgcolor": "#E5ECF6",
           "radialaxis": {
            "gridcolor": "white",
            "linecolor": "white",
            "ticks": ""
           }
          },
          "scene": {
           "xaxis": {
            "backgroundcolor": "#E5ECF6",
            "gridcolor": "white",
            "gridwidth": 2,
            "linecolor": "white",
            "showbackground": true,
            "ticks": "",
            "zerolinecolor": "white"
           },
           "yaxis": {
            "backgroundcolor": "#E5ECF6",
            "gridcolor": "white",
            "gridwidth": 2,
            "linecolor": "white",
            "showbackground": true,
            "ticks": "",
            "zerolinecolor": "white"
           },
           "zaxis": {
            "backgroundcolor": "#E5ECF6",
            "gridcolor": "white",
            "gridwidth": 2,
            "linecolor": "white",
            "showbackground": true,
            "ticks": "",
            "zerolinecolor": "white"
           }
          },
          "shapedefaults": {
           "line": {
            "color": "#2a3f5f"
           }
          },
          "ternary": {
           "aaxis": {
            "gridcolor": "white",
            "linecolor": "white",
            "ticks": ""
           },
           "baxis": {
            "gridcolor": "white",
            "linecolor": "white",
            "ticks": ""
           },
           "bgcolor": "#E5ECF6",
           "caxis": {
            "gridcolor": "white",
            "linecolor": "white",
            "ticks": ""
           }
          },
          "title": {
           "x": 0.05
          },
          "xaxis": {
           "automargin": true,
           "gridcolor": "white",
           "linecolor": "white",
           "ticks": "",
           "title": {
            "standoff": 15
           },
           "zerolinecolor": "white",
           "zerolinewidth": 2
          },
          "yaxis": {
           "automargin": true,
           "gridcolor": "white",
           "linecolor": "white",
           "ticks": "",
           "title": {
            "standoff": 15
           },
           "zerolinecolor": "white",
           "zerolinewidth": 2
          }
         }
        },
        "title": {
         "font": {
          "color": "darkgreen",
          "size": 20
         },
         "text": "🧤 Fielding Impact – Catches Taken (1st Innings)"
        },
        "xaxis": {
         "anchor": "y",
         "domain": [
          0,
          1
         ],
         "showgrid": false,
         "title": {
          "text": "Fielder"
         }
        },
        "yaxis": {
         "anchor": "x",
         "domain": [
          0,
          1
         ],
         "gridcolor": "lightgray",
         "showgrid": true,
         "title": {
          "text": "Catches"
         }
        }
       }
      }
     },
     "metadata": {},
     "output_type": "display_data"
    }
   ],
   "source": [
    "\n",
    "\n",
    "# Catch summary chart\n",
    "fig_catch = px.bar(\n",
    "    catch_summary,\n",
    "    x=\"fielder\",\n",
    "    y=\"catches\",\n",
    "    text=\"catches\",\n",
    "    title=\"🧤 Fielding Impact – Catches Taken (1st Innings)\",\n",
    "    color=\"catches\",\n",
    "    color_continuous_scale=px.colors.sequential.Plasma\n",
    ")\n",
    "\n",
    "# Style improvements\n",
    "fig_catch.update_traces(\n",
    "    textposition=\"outside\",\n",
    "    marker=dict(line=dict(width=1, color=\"black\")),\n",
    "    hovertemplate=\"<b>Fielder:</b> %{x}<br>Catches: %{y}<extra></extra>\"\n",
    ")\n",
    "\n",
    "fig_catch.update_layout(\n",
    "    plot_bgcolor=\"white\",\n",
    "    xaxis=dict(title=\"Fielder\", showgrid=False),\n",
    "    yaxis=dict(title=\"Catches\", showgrid=True, gridcolor=\"lightgray\"),\n",
    "    font=dict(family=\"Verdana\", size=13),\n",
    "    title_font=dict(size=20, color=\"darkgreen\"),\n",
    "    bargap=0.4\n",
    ")\n",
    "\n",
    "fig_catch.show()\n",
    "\n"
   ]
  },
  {
   "cell_type": "markdown",
   "id": "23c91dd8",
   "metadata": {},
   "source": [
    "## Total_innings1 Score"
   ]
  },
  {
   "cell_type": "code",
   "execution_count": 34,
   "id": "c344a84e",
   "metadata": {},
   "outputs": [
    {
     "name": "stdout",
     "output_type": "stream",
     "text": [
      "First Innings Score: 139\n",
      "Target for 2nd Innings: 140\n"
     ]
    }
   ],
   "source": [
    "# First innings total (Team batting first)\n",
    "total_innings1 = df[\"total_runs\"].sum()\n",
    "\n",
    "# Target for second innings\n",
    "target = total_innings1 + 1\n",
    "\n",
    "# Second innings total (Team chasing)\n",
    "total_innings2 = df2[\"total_runs\"].sum()\n",
    "\n",
    "print(f\"First Innings Score: {total_innings1}\")\n",
    "print(f\"Target for 2nd Innings: {target}\")"
   ]
  },
  {
   "cell_type": "markdown",
   "id": "03505a28",
   "metadata": {},
   "source": [
    "# Extract Second Innings Data"
   ]
  },
  {
   "cell_type": "code",
   "execution_count": 17,
   "id": "a6dd4aa4",
   "metadata": {},
   "outputs": [
    {
     "name": "stdout",
     "output_type": "stream",
     "text": [
      "   ball           batsman               bowler  runs  extras  total_runs  \\\n",
      "0   0.1  Sahibzada Farhan  Shaheen Shah Afridi     0       0           0   \n",
      "1   0.2  Sahibzada Farhan  Shaheen Shah Afridi     0       0           0   \n",
      "2   0.3  Sahibzada Farhan  Shaheen Shah Afridi     0       1           1   \n",
      "3   0.4  Sahibzada Farhan  Shaheen Shah Afridi     0       0           0   \n",
      "4   0.5  Sahibzada Farhan  Shaheen Shah Afridi     1       0           1   \n",
      "\n",
      "  wicket  \n",
      "0   None  \n",
      "1   None  \n",
      "2   None  \n",
      "3   None  \n",
      "4   None  \n"
     ]
    }
   ],
   "source": [
    "import pandas as pd\n",
    "\n",
    "# Access 2nd innings deliveries\n",
    "second_innings = match_data[\"innings\"][1][\"2nd innings\"][\"deliveries\"]\n",
    "\n",
    "balls_2 = []\n",
    "for delivery in second_innings:\n",
    "    for ball, details in delivery.items():\n",
    "        row = {\n",
    "            \"ball\": ball,\n",
    "            \"batsman\": details[\"batsman\"],\n",
    "            \"bowler\": details[\"bowler\"],\n",
    "            \"runs\": details[\"runs\"][\"batsman\"],\n",
    "            \"extras\": details[\"runs\"][\"extras\"],\n",
    "            \"total_runs\": details[\"runs\"][\"total\"],\n",
    "            \"wicket\": details.get(\"wicket\", None)\n",
    "        }\n",
    "        balls_2.append(row)\n",
    "\n",
    "df2 = pd.DataFrame(balls_2)\n",
    "\n",
    "# Preview 2nd innings data\n",
    "print(df2.head())\n"
   ]
  },
  {
   "cell_type": "markdown",
   "id": "66a3c0c2",
   "metadata": {},
   "source": [
    "## Batting Summary"
   ]
  },
  {
   "cell_type": "code",
   "execution_count": 40,
   "id": "382d76d1",
   "metadata": {},
   "outputs": [
    {
     "data": {
      "application/vnd.plotly.v1+json": {
       "config": {
        "plotlyServerURL": "https://plot.ly"
       },
       "data": [
        {
         "hovertemplate": "<b>Batsman:</b> %{x}<br>Runs: %{y}<extra></extra>",
         "legendgroup": "",
         "marker": {
          "color": {
           "bdata": "BCk7GQ==",
           "dtype": "i1"
          },
          "coloraxis": "coloraxis",
          "line": {
           "color": "black",
           "width": 1
          },
          "pattern": {
           "shape": ""
          }
         },
         "name": "",
         "orientation": "v",
         "showlegend": false,
         "text": {
          "bdata": "AAAAAAAAEEAAAAAAAIBEQAAAAAAAgE1AAAAAAAAAOUA=",
          "dtype": "f8"
         },
         "textposition": "outside",
         "type": "bar",
         "x": [
          "AGS Gous",
          "Agha Salman",
          "C Munro",
          "Sahibzada Farhan"
         ],
         "xaxis": "x",
         "y": {
          "bdata": "BCk7GQ==",
          "dtype": "i1"
         },
         "yaxis": "y"
        }
       ],
       "layout": {
        "bargap": 0.35,
        "barmode": "relative",
        "coloraxis": {
         "colorbar": {
          "title": {
           "text": "runs"
          }
         },
         "colorscale": [
          [
           0,
           "#00224e"
          ],
          [
           0.1111111111111111,
           "#123570"
          ],
          [
           0.2222222222222222,
           "#3b496c"
          ],
          [
           0.3333333333333333,
           "#575d6d"
          ],
          [
           0.4444444444444444,
           "#707173"
          ],
          [
           0.5555555555555556,
           "#8a8678"
          ],
          [
           0.6666666666666666,
           "#a59c74"
          ],
          [
           0.7777777777777778,
           "#c3b369"
          ],
          [
           0.8888888888888888,
           "#e1cc55"
          ],
          [
           1,
           "#fee838"
          ]
         ]
        },
        "font": {
         "family": "Verdana",
         "size": 14
        },
        "legend": {
         "tracegroupgap": 0
        },
        "plot_bgcolor": "white",
        "template": {
         "data": {
          "bar": [
           {
            "error_x": {
             "color": "#2a3f5f"
            },
            "error_y": {
             "color": "#2a3f5f"
            },
            "marker": {
             "line": {
              "color": "#E5ECF6",
              "width": 0.5
             },
             "pattern": {
              "fillmode": "overlay",
              "size": 10,
              "solidity": 0.2
             }
            },
            "type": "bar"
           }
          ],
          "barpolar": [
           {
            "marker": {
             "line": {
              "color": "#E5ECF6",
              "width": 0.5
             },
             "pattern": {
              "fillmode": "overlay",
              "size": 10,
              "solidity": 0.2
             }
            },
            "type": "barpolar"
           }
          ],
          "carpet": [
           {
            "aaxis": {
             "endlinecolor": "#2a3f5f",
             "gridcolor": "white",
             "linecolor": "white",
             "minorgridcolor": "white",
             "startlinecolor": "#2a3f5f"
            },
            "baxis": {
             "endlinecolor": "#2a3f5f",
             "gridcolor": "white",
             "linecolor": "white",
             "minorgridcolor": "white",
             "startlinecolor": "#2a3f5f"
            },
            "type": "carpet"
           }
          ],
          "choropleth": [
           {
            "colorbar": {
             "outlinewidth": 0,
             "ticks": ""
            },
            "type": "choropleth"
           }
          ],
          "contour": [
           {
            "colorbar": {
             "outlinewidth": 0,
             "ticks": ""
            },
            "colorscale": [
             [
              0,
              "#0d0887"
             ],
             [
              0.1111111111111111,
              "#46039f"
             ],
             [
              0.2222222222222222,
              "#7201a8"
             ],
             [
              0.3333333333333333,
              "#9c179e"
             ],
             [
              0.4444444444444444,
              "#bd3786"
             ],
             [
              0.5555555555555556,
              "#d8576b"
             ],
             [
              0.6666666666666666,
              "#ed7953"
             ],
             [
              0.7777777777777778,
              "#fb9f3a"
             ],
             [
              0.8888888888888888,
              "#fdca26"
             ],
             [
              1,
              "#f0f921"
             ]
            ],
            "type": "contour"
           }
          ],
          "contourcarpet": [
           {
            "colorbar": {
             "outlinewidth": 0,
             "ticks": ""
            },
            "type": "contourcarpet"
           }
          ],
          "heatmap": [
           {
            "colorbar": {
             "outlinewidth": 0,
             "ticks": ""
            },
            "colorscale": [
             [
              0,
              "#0d0887"
             ],
             [
              0.1111111111111111,
              "#46039f"
             ],
             [
              0.2222222222222222,
              "#7201a8"
             ],
             [
              0.3333333333333333,
              "#9c179e"
             ],
             [
              0.4444444444444444,
              "#bd3786"
             ],
             [
              0.5555555555555556,
              "#d8576b"
             ],
             [
              0.6666666666666666,
              "#ed7953"
             ],
             [
              0.7777777777777778,
              "#fb9f3a"
             ],
             [
              0.8888888888888888,
              "#fdca26"
             ],
             [
              1,
              "#f0f921"
             ]
            ],
            "type": "heatmap"
           }
          ],
          "histogram": [
           {
            "marker": {
             "pattern": {
              "fillmode": "overlay",
              "size": 10,
              "solidity": 0.2
             }
            },
            "type": "histogram"
           }
          ],
          "histogram2d": [
           {
            "colorbar": {
             "outlinewidth": 0,
             "ticks": ""
            },
            "colorscale": [
             [
              0,
              "#0d0887"
             ],
             [
              0.1111111111111111,
              "#46039f"
             ],
             [
              0.2222222222222222,
              "#7201a8"
             ],
             [
              0.3333333333333333,
              "#9c179e"
             ],
             [
              0.4444444444444444,
              "#bd3786"
             ],
             [
              0.5555555555555556,
              "#d8576b"
             ],
             [
              0.6666666666666666,
              "#ed7953"
             ],
             [
              0.7777777777777778,
              "#fb9f3a"
             ],
             [
              0.8888888888888888,
              "#fdca26"
             ],
             [
              1,
              "#f0f921"
             ]
            ],
            "type": "histogram2d"
           }
          ],
          "histogram2dcontour": [
           {
            "colorbar": {
             "outlinewidth": 0,
             "ticks": ""
            },
            "colorscale": [
             [
              0,
              "#0d0887"
             ],
             [
              0.1111111111111111,
              "#46039f"
             ],
             [
              0.2222222222222222,
              "#7201a8"
             ],
             [
              0.3333333333333333,
              "#9c179e"
             ],
             [
              0.4444444444444444,
              "#bd3786"
             ],
             [
              0.5555555555555556,
              "#d8576b"
             ],
             [
              0.6666666666666666,
              "#ed7953"
             ],
             [
              0.7777777777777778,
              "#fb9f3a"
             ],
             [
              0.8888888888888888,
              "#fdca26"
             ],
             [
              1,
              "#f0f921"
             ]
            ],
            "type": "histogram2dcontour"
           }
          ],
          "mesh3d": [
           {
            "colorbar": {
             "outlinewidth": 0,
             "ticks": ""
            },
            "type": "mesh3d"
           }
          ],
          "parcoords": [
           {
            "line": {
             "colorbar": {
              "outlinewidth": 0,
              "ticks": ""
             }
            },
            "type": "parcoords"
           }
          ],
          "pie": [
           {
            "automargin": true,
            "type": "pie"
           }
          ],
          "scatter": [
           {
            "fillpattern": {
             "fillmode": "overlay",
             "size": 10,
             "solidity": 0.2
            },
            "type": "scatter"
           }
          ],
          "scatter3d": [
           {
            "line": {
             "colorbar": {
              "outlinewidth": 0,
              "ticks": ""
             }
            },
            "marker": {
             "colorbar": {
              "outlinewidth": 0,
              "ticks": ""
             }
            },
            "type": "scatter3d"
           }
          ],
          "scattercarpet": [
           {
            "marker": {
             "colorbar": {
              "outlinewidth": 0,
              "ticks": ""
             }
            },
            "type": "scattercarpet"
           }
          ],
          "scattergeo": [
           {
            "marker": {
             "colorbar": {
              "outlinewidth": 0,
              "ticks": ""
             }
            },
            "type": "scattergeo"
           }
          ],
          "scattergl": [
           {
            "marker": {
             "colorbar": {
              "outlinewidth": 0,
              "ticks": ""
             }
            },
            "type": "scattergl"
           }
          ],
          "scattermap": [
           {
            "marker": {
             "colorbar": {
              "outlinewidth": 0,
              "ticks": ""
             }
            },
            "type": "scattermap"
           }
          ],
          "scattermapbox": [
           {
            "marker": {
             "colorbar": {
              "outlinewidth": 0,
              "ticks": ""
             }
            },
            "type": "scattermapbox"
           }
          ],
          "scatterpolar": [
           {
            "marker": {
             "colorbar": {
              "outlinewidth": 0,
              "ticks": ""
             }
            },
            "type": "scatterpolar"
           }
          ],
          "scatterpolargl": [
           {
            "marker": {
             "colorbar": {
              "outlinewidth": 0,
              "ticks": ""
             }
            },
            "type": "scatterpolargl"
           }
          ],
          "scatterternary": [
           {
            "marker": {
             "colorbar": {
              "outlinewidth": 0,
              "ticks": ""
             }
            },
            "type": "scatterternary"
           }
          ],
          "surface": [
           {
            "colorbar": {
             "outlinewidth": 0,
             "ticks": ""
            },
            "colorscale": [
             [
              0,
              "#0d0887"
             ],
             [
              0.1111111111111111,
              "#46039f"
             ],
             [
              0.2222222222222222,
              "#7201a8"
             ],
             [
              0.3333333333333333,
              "#9c179e"
             ],
             [
              0.4444444444444444,
              "#bd3786"
             ],
             [
              0.5555555555555556,
              "#d8576b"
             ],
             [
              0.6666666666666666,
              "#ed7953"
             ],
             [
              0.7777777777777778,
              "#fb9f3a"
             ],
             [
              0.8888888888888888,
              "#fdca26"
             ],
             [
              1,
              "#f0f921"
             ]
            ],
            "type": "surface"
           }
          ],
          "table": [
           {
            "cells": {
             "fill": {
              "color": "#EBF0F8"
             },
             "line": {
              "color": "white"
             }
            },
            "header": {
             "fill": {
              "color": "#C8D4E3"
             },
             "line": {
              "color": "white"
             }
            },
            "type": "table"
           }
          ]
         },
         "layout": {
          "annotationdefaults": {
           "arrowcolor": "#2a3f5f",
           "arrowhead": 0,
           "arrowwidth": 1
          },
          "autotypenumbers": "strict",
          "coloraxis": {
           "colorbar": {
            "outlinewidth": 0,
            "ticks": ""
           }
          },
          "colorscale": {
           "diverging": [
            [
             0,
             "#8e0152"
            ],
            [
             0.1,
             "#c51b7d"
            ],
            [
             0.2,
             "#de77ae"
            ],
            [
             0.3,
             "#f1b6da"
            ],
            [
             0.4,
             "#fde0ef"
            ],
            [
             0.5,
             "#f7f7f7"
            ],
            [
             0.6,
             "#e6f5d0"
            ],
            [
             0.7,
             "#b8e186"
            ],
            [
             0.8,
             "#7fbc41"
            ],
            [
             0.9,
             "#4d9221"
            ],
            [
             1,
             "#276419"
            ]
           ],
           "sequential": [
            [
             0,
             "#0d0887"
            ],
            [
             0.1111111111111111,
             "#46039f"
            ],
            [
             0.2222222222222222,
             "#7201a8"
            ],
            [
             0.3333333333333333,
             "#9c179e"
            ],
            [
             0.4444444444444444,
             "#bd3786"
            ],
            [
             0.5555555555555556,
             "#d8576b"
            ],
            [
             0.6666666666666666,
             "#ed7953"
            ],
            [
             0.7777777777777778,
             "#fb9f3a"
            ],
            [
             0.8888888888888888,
             "#fdca26"
            ],
            [
             1,
             "#f0f921"
            ]
           ],
           "sequentialminus": [
            [
             0,
             "#0d0887"
            ],
            [
             0.1111111111111111,
             "#46039f"
            ],
            [
             0.2222222222222222,
             "#7201a8"
            ],
            [
             0.3333333333333333,
             "#9c179e"
            ],
            [
             0.4444444444444444,
             "#bd3786"
            ],
            [
             0.5555555555555556,
             "#d8576b"
            ],
            [
             0.6666666666666666,
             "#ed7953"
            ],
            [
             0.7777777777777778,
             "#fb9f3a"
            ],
            [
             0.8888888888888888,
             "#fdca26"
            ],
            [
             1,
             "#f0f921"
            ]
           ]
          },
          "colorway": [
           "#636efa",
           "#EF553B",
           "#00cc96",
           "#ab63fa",
           "#FFA15A",
           "#19d3f3",
           "#FF6692",
           "#B6E880",
           "#FF97FF",
           "#FECB52"
          ],
          "font": {
           "color": "#2a3f5f"
          },
          "geo": {
           "bgcolor": "white",
           "lakecolor": "white",
           "landcolor": "#E5ECF6",
           "showlakes": true,
           "showland": true,
           "subunitcolor": "white"
          },
          "hoverlabel": {
           "align": "left"
          },
          "hovermode": "closest",
          "mapbox": {
           "style": "light"
          },
          "paper_bgcolor": "white",
          "plot_bgcolor": "#E5ECF6",
          "polar": {
           "angularaxis": {
            "gridcolor": "white",
            "linecolor": "white",
            "ticks": ""
           },
           "bgcolor": "#E5ECF6",
           "radialaxis": {
            "gridcolor": "white",
            "linecolor": "white",
            "ticks": ""
           }
          },
          "scene": {
           "xaxis": {
            "backgroundcolor": "#E5ECF6",
            "gridcolor": "white",
            "gridwidth": 2,
            "linecolor": "white",
            "showbackground": true,
            "ticks": "",
            "zerolinecolor": "white"
           },
           "yaxis": {
            "backgroundcolor": "#E5ECF6",
            "gridcolor": "white",
            "gridwidth": 2,
            "linecolor": "white",
            "showbackground": true,
            "ticks": "",
            "zerolinecolor": "white"
           },
           "zaxis": {
            "backgroundcolor": "#E5ECF6",
            "gridcolor": "white",
            "gridwidth": 2,
            "linecolor": "white",
            "showbackground": true,
            "ticks": "",
            "zerolinecolor": "white"
           }
          },
          "shapedefaults": {
           "line": {
            "color": "#2a3f5f"
           }
          },
          "ternary": {
           "aaxis": {
            "gridcolor": "white",
            "linecolor": "white",
            "ticks": ""
           },
           "baxis": {
            "gridcolor": "white",
            "linecolor": "white",
            "ticks": ""
           },
           "bgcolor": "#E5ECF6",
           "caxis": {
            "gridcolor": "white",
            "linecolor": "white",
            "ticks": ""
           }
          },
          "title": {
           "x": 0.05
          },
          "xaxis": {
           "automargin": true,
           "gridcolor": "white",
           "linecolor": "white",
           "ticks": "",
           "title": {
            "standoff": 15
           },
           "zerolinecolor": "white",
           "zerolinewidth": 2
          },
          "yaxis": {
           "automargin": true,
           "gridcolor": "white",
           "linecolor": "white",
           "ticks": "",
           "title": {
            "standoff": 15
           },
           "zerolinecolor": "white",
           "zerolinewidth": 2
          }
         }
        },
        "title": {
         "font": {
          "color": "darkblue",
          "size": 22
         },
         "text": "🏏 2nd Innings Batting Performance"
        },
        "xaxis": {
         "anchor": "y",
         "domain": [
          0,
          1
         ],
         "showgrid": false,
         "title": {
          "text": "Batsman"
         }
        },
        "yaxis": {
         "anchor": "x",
         "domain": [
          0,
          1
         ],
         "gridcolor": "lightgray",
         "showgrid": true,
         "title": {
          "text": "Runs Scored"
         }
        }
       }
      }
     },
     "metadata": {},
     "output_type": "display_data"
    }
   ],
   "source": [
    "\n",
    "\n",
    "# Batting summary (2nd innings)\n",
    "batting_summary2 = df2.groupby(\"batsman\")[\"runs\"].sum().reset_index()\n",
    "\n",
    "# Beautiful batting chart\n",
    "fig_bat2 = px.bar(\n",
    "    batting_summary2,\n",
    "    x=\"batsman\",\n",
    "    y=\"runs\",\n",
    "    text=\"runs\",\n",
    "    title=\"🏏 2nd Innings Batting Performance\",\n",
    "    color=\"runs\",\n",
    "    color_continuous_scale=px.colors.sequential.Cividis\n",
    ")\n",
    "\n",
    "# Styling improvements\n",
    "fig_bat2.update_traces(\n",
    "    textposition=\"outside\",\n",
    "    marker=dict(line=dict(width=1, color=\"black\")),\n",
    "    hovertemplate=\"<b>Batsman:</b> %{x}<br>Runs: %{y}<extra></extra>\"\n",
    ")\n",
    "\n",
    "fig_bat2.update_layout(\n",
    "    plot_bgcolor=\"white\",\n",
    "    xaxis=dict(title=\"Batsman\", showgrid=False),\n",
    "    yaxis=dict(title=\"Runs Scored\", showgrid=True, gridcolor=\"lightgray\"),\n",
    "    font=dict(family=\"Verdana\", size=14),\n",
    "    title_font=dict(size=22, color=\"darkblue\"),\n",
    "    bargap=0.35\n",
    ")\n",
    "\n",
    "fig_bat2.show()\n"
   ]
  },
  {
   "cell_type": "code",
   "execution_count": 47,
   "id": "802bdd72",
   "metadata": {},
   "outputs": [
    {
     "data": {
      "application/vnd.plotly.v1+json": {
       "config": {
        "plotlyServerURL": "https://plot.ly"
       },
       "data": [
        {
         "hovertemplate": "<b>Batsman:</b> %{x}<br>Runs: %{y}<extra></extra>",
         "legendgroup": "",
         "line": {
          "color": "darkblue",
          "dash": "solid",
          "width": 3
         },
         "marker": {
          "color": "orange",
          "line": {
           "color": "black",
           "width": 2
          },
          "size": 10,
          "symbol": "circle"
         },
         "mode": "lines+markers",
         "name": "",
         "orientation": "v",
         "showlegend": false,
         "type": "scatter",
         "x": [
          "AGS Gous",
          "Agha Salman",
          "C Munro",
          "Sahibzada Farhan"
         ],
         "xaxis": "x",
         "y": {
          "bdata": "BCk7GQ==",
          "dtype": "i1"
         },
         "yaxis": "y"
        }
       ],
       "layout": {
        "font": {
         "family": "Verdana",
         "size": 14
        },
        "legend": {
         "tracegroupgap": 0
        },
        "plot_bgcolor": "white",
        "template": {
         "data": {
          "bar": [
           {
            "error_x": {
             "color": "#2a3f5f"
            },
            "error_y": {
             "color": "#2a3f5f"
            },
            "marker": {
             "line": {
              "color": "#E5ECF6",
              "width": 0.5
             },
             "pattern": {
              "fillmode": "overlay",
              "size": 10,
              "solidity": 0.2
             }
            },
            "type": "bar"
           }
          ],
          "barpolar": [
           {
            "marker": {
             "line": {
              "color": "#E5ECF6",
              "width": 0.5
             },
             "pattern": {
              "fillmode": "overlay",
              "size": 10,
              "solidity": 0.2
             }
            },
            "type": "barpolar"
           }
          ],
          "carpet": [
           {
            "aaxis": {
             "endlinecolor": "#2a3f5f",
             "gridcolor": "white",
             "linecolor": "white",
             "minorgridcolor": "white",
             "startlinecolor": "#2a3f5f"
            },
            "baxis": {
             "endlinecolor": "#2a3f5f",
             "gridcolor": "white",
             "linecolor": "white",
             "minorgridcolor": "white",
             "startlinecolor": "#2a3f5f"
            },
            "type": "carpet"
           }
          ],
          "choropleth": [
           {
            "colorbar": {
             "outlinewidth": 0,
             "ticks": ""
            },
            "type": "choropleth"
           }
          ],
          "contour": [
           {
            "colorbar": {
             "outlinewidth": 0,
             "ticks": ""
            },
            "colorscale": [
             [
              0,
              "#0d0887"
             ],
             [
              0.1111111111111111,
              "#46039f"
             ],
             [
              0.2222222222222222,
              "#7201a8"
             ],
             [
              0.3333333333333333,
              "#9c179e"
             ],
             [
              0.4444444444444444,
              "#bd3786"
             ],
             [
              0.5555555555555556,
              "#d8576b"
             ],
             [
              0.6666666666666666,
              "#ed7953"
             ],
             [
              0.7777777777777778,
              "#fb9f3a"
             ],
             [
              0.8888888888888888,
              "#fdca26"
             ],
             [
              1,
              "#f0f921"
             ]
            ],
            "type": "contour"
           }
          ],
          "contourcarpet": [
           {
            "colorbar": {
             "outlinewidth": 0,
             "ticks": ""
            },
            "type": "contourcarpet"
           }
          ],
          "heatmap": [
           {
            "colorbar": {
             "outlinewidth": 0,
             "ticks": ""
            },
            "colorscale": [
             [
              0,
              "#0d0887"
             ],
             [
              0.1111111111111111,
              "#46039f"
             ],
             [
              0.2222222222222222,
              "#7201a8"
             ],
             [
              0.3333333333333333,
              "#9c179e"
             ],
             [
              0.4444444444444444,
              "#bd3786"
             ],
             [
              0.5555555555555556,
              "#d8576b"
             ],
             [
              0.6666666666666666,
              "#ed7953"
             ],
             [
              0.7777777777777778,
              "#fb9f3a"
             ],
             [
              0.8888888888888888,
              "#fdca26"
             ],
             [
              1,
              "#f0f921"
             ]
            ],
            "type": "heatmap"
           }
          ],
          "histogram": [
           {
            "marker": {
             "pattern": {
              "fillmode": "overlay",
              "size": 10,
              "solidity": 0.2
             }
            },
            "type": "histogram"
           }
          ],
          "histogram2d": [
           {
            "colorbar": {
             "outlinewidth": 0,
             "ticks": ""
            },
            "colorscale": [
             [
              0,
              "#0d0887"
             ],
             [
              0.1111111111111111,
              "#46039f"
             ],
             [
              0.2222222222222222,
              "#7201a8"
             ],
             [
              0.3333333333333333,
              "#9c179e"
             ],
             [
              0.4444444444444444,
              "#bd3786"
             ],
             [
              0.5555555555555556,
              "#d8576b"
             ],
             [
              0.6666666666666666,
              "#ed7953"
             ],
             [
              0.7777777777777778,
              "#fb9f3a"
             ],
             [
              0.8888888888888888,
              "#fdca26"
             ],
             [
              1,
              "#f0f921"
             ]
            ],
            "type": "histogram2d"
           }
          ],
          "histogram2dcontour": [
           {
            "colorbar": {
             "outlinewidth": 0,
             "ticks": ""
            },
            "colorscale": [
             [
              0,
              "#0d0887"
             ],
             [
              0.1111111111111111,
              "#46039f"
             ],
             [
              0.2222222222222222,
              "#7201a8"
             ],
             [
              0.3333333333333333,
              "#9c179e"
             ],
             [
              0.4444444444444444,
              "#bd3786"
             ],
             [
              0.5555555555555556,
              "#d8576b"
             ],
             [
              0.6666666666666666,
              "#ed7953"
             ],
             [
              0.7777777777777778,
              "#fb9f3a"
             ],
             [
              0.8888888888888888,
              "#fdca26"
             ],
             [
              1,
              "#f0f921"
             ]
            ],
            "type": "histogram2dcontour"
           }
          ],
          "mesh3d": [
           {
            "colorbar": {
             "outlinewidth": 0,
             "ticks": ""
            },
            "type": "mesh3d"
           }
          ],
          "parcoords": [
           {
            "line": {
             "colorbar": {
              "outlinewidth": 0,
              "ticks": ""
             }
            },
            "type": "parcoords"
           }
          ],
          "pie": [
           {
            "automargin": true,
            "type": "pie"
           }
          ],
          "scatter": [
           {
            "fillpattern": {
             "fillmode": "overlay",
             "size": 10,
             "solidity": 0.2
            },
            "type": "scatter"
           }
          ],
          "scatter3d": [
           {
            "line": {
             "colorbar": {
              "outlinewidth": 0,
              "ticks": ""
             }
            },
            "marker": {
             "colorbar": {
              "outlinewidth": 0,
              "ticks": ""
             }
            },
            "type": "scatter3d"
           }
          ],
          "scattercarpet": [
           {
            "marker": {
             "colorbar": {
              "outlinewidth": 0,
              "ticks": ""
             }
            },
            "type": "scattercarpet"
           }
          ],
          "scattergeo": [
           {
            "marker": {
             "colorbar": {
              "outlinewidth": 0,
              "ticks": ""
             }
            },
            "type": "scattergeo"
           }
          ],
          "scattergl": [
           {
            "marker": {
             "colorbar": {
              "outlinewidth": 0,
              "ticks": ""
             }
            },
            "type": "scattergl"
           }
          ],
          "scattermap": [
           {
            "marker": {
             "colorbar": {
              "outlinewidth": 0,
              "ticks": ""
             }
            },
            "type": "scattermap"
           }
          ],
          "scattermapbox": [
           {
            "marker": {
             "colorbar": {
              "outlinewidth": 0,
              "ticks": ""
             }
            },
            "type": "scattermapbox"
           }
          ],
          "scatterpolar": [
           {
            "marker": {
             "colorbar": {
              "outlinewidth": 0,
              "ticks": ""
             }
            },
            "type": "scatterpolar"
           }
          ],
          "scatterpolargl": [
           {
            "marker": {
             "colorbar": {
              "outlinewidth": 0,
              "ticks": ""
             }
            },
            "type": "scatterpolargl"
           }
          ],
          "scatterternary": [
           {
            "marker": {
             "colorbar": {
              "outlinewidth": 0,
              "ticks": ""
             }
            },
            "type": "scatterternary"
           }
          ],
          "surface": [
           {
            "colorbar": {
             "outlinewidth": 0,
             "ticks": ""
            },
            "colorscale": [
             [
              0,
              "#0d0887"
             ],
             [
              0.1111111111111111,
              "#46039f"
             ],
             [
              0.2222222222222222,
              "#7201a8"
             ],
             [
              0.3333333333333333,
              "#9c179e"
             ],
             [
              0.4444444444444444,
              "#bd3786"
             ],
             [
              0.5555555555555556,
              "#d8576b"
             ],
             [
              0.6666666666666666,
              "#ed7953"
             ],
             [
              0.7777777777777778,
              "#fb9f3a"
             ],
             [
              0.8888888888888888,
              "#fdca26"
             ],
             [
              1,
              "#f0f921"
             ]
            ],
            "type": "surface"
           }
          ],
          "table": [
           {
            "cells": {
             "fill": {
              "color": "#EBF0F8"
             },
             "line": {
              "color": "white"
             }
            },
            "header": {
             "fill": {
              "color": "#C8D4E3"
             },
             "line": {
              "color": "white"
             }
            },
            "type": "table"
           }
          ]
         },
         "layout": {
          "annotationdefaults": {
           "arrowcolor": "#2a3f5f",
           "arrowhead": 0,
           "arrowwidth": 1
          },
          "autotypenumbers": "strict",
          "coloraxis": {
           "colorbar": {
            "outlinewidth": 0,
            "ticks": ""
           }
          },
          "colorscale": {
           "diverging": [
            [
             0,
             "#8e0152"
            ],
            [
             0.1,
             "#c51b7d"
            ],
            [
             0.2,
             "#de77ae"
            ],
            [
             0.3,
             "#f1b6da"
            ],
            [
             0.4,
             "#fde0ef"
            ],
            [
             0.5,
             "#f7f7f7"
            ],
            [
             0.6,
             "#e6f5d0"
            ],
            [
             0.7,
             "#b8e186"
            ],
            [
             0.8,
             "#7fbc41"
            ],
            [
             0.9,
             "#4d9221"
            ],
            [
             1,
             "#276419"
            ]
           ],
           "sequential": [
            [
             0,
             "#0d0887"
            ],
            [
             0.1111111111111111,
             "#46039f"
            ],
            [
             0.2222222222222222,
             "#7201a8"
            ],
            [
             0.3333333333333333,
             "#9c179e"
            ],
            [
             0.4444444444444444,
             "#bd3786"
            ],
            [
             0.5555555555555556,
             "#d8576b"
            ],
            [
             0.6666666666666666,
             "#ed7953"
            ],
            [
             0.7777777777777778,
             "#fb9f3a"
            ],
            [
             0.8888888888888888,
             "#fdca26"
            ],
            [
             1,
             "#f0f921"
            ]
           ],
           "sequentialminus": [
            [
             0,
             "#0d0887"
            ],
            [
             0.1111111111111111,
             "#46039f"
            ],
            [
             0.2222222222222222,
             "#7201a8"
            ],
            [
             0.3333333333333333,
             "#9c179e"
            ],
            [
             0.4444444444444444,
             "#bd3786"
            ],
            [
             0.5555555555555556,
             "#d8576b"
            ],
            [
             0.6666666666666666,
             "#ed7953"
            ],
            [
             0.7777777777777778,
             "#fb9f3a"
            ],
            [
             0.8888888888888888,
             "#fdca26"
            ],
            [
             1,
             "#f0f921"
            ]
           ]
          },
          "colorway": [
           "#636efa",
           "#EF553B",
           "#00cc96",
           "#ab63fa",
           "#FFA15A",
           "#19d3f3",
           "#FF6692",
           "#B6E880",
           "#FF97FF",
           "#FECB52"
          ],
          "font": {
           "color": "#2a3f5f"
          },
          "geo": {
           "bgcolor": "white",
           "lakecolor": "white",
           "landcolor": "#E5ECF6",
           "showlakes": true,
           "showland": true,
           "subunitcolor": "white"
          },
          "hoverlabel": {
           "align": "left"
          },
          "hovermode": "closest",
          "mapbox": {
           "style": "light"
          },
          "paper_bgcolor": "white",
          "plot_bgcolor": "#E5ECF6",
          "polar": {
           "angularaxis": {
            "gridcolor": "white",
            "linecolor": "white",
            "ticks": ""
           },
           "bgcolor": "#E5ECF6",
           "radialaxis": {
            "gridcolor": "white",
            "linecolor": "white",
            "ticks": ""
           }
          },
          "scene": {
           "xaxis": {
            "backgroundcolor": "#E5ECF6",
            "gridcolor": "white",
            "gridwidth": 2,
            "linecolor": "white",
            "showbackground": true,
            "ticks": "",
            "zerolinecolor": "white"
           },
           "yaxis": {
            "backgroundcolor": "#E5ECF6",
            "gridcolor": "white",
            "gridwidth": 2,
            "linecolor": "white",
            "showbackground": true,
            "ticks": "",
            "zerolinecolor": "white"
           },
           "zaxis": {
            "backgroundcolor": "#E5ECF6",
            "gridcolor": "white",
            "gridwidth": 2,
            "linecolor": "white",
            "showbackground": true,
            "ticks": "",
            "zerolinecolor": "white"
           }
          },
          "shapedefaults": {
           "line": {
            "color": "#2a3f5f"
           }
          },
          "ternary": {
           "aaxis": {
            "gridcolor": "white",
            "linecolor": "white",
            "ticks": ""
           },
           "baxis": {
            "gridcolor": "white",
            "linecolor": "white",
            "ticks": ""
           },
           "bgcolor": "#E5ECF6",
           "caxis": {
            "gridcolor": "white",
            "linecolor": "white",
            "ticks": ""
           }
          },
          "title": {
           "x": 0.05
          },
          "xaxis": {
           "automargin": true,
           "gridcolor": "white",
           "linecolor": "white",
           "ticks": "",
           "title": {
            "standoff": 15
           },
           "zerolinecolor": "white",
           "zerolinewidth": 2
          },
          "yaxis": {
           "automargin": true,
           "gridcolor": "white",
           "linecolor": "white",
           "ticks": "",
           "title": {
            "standoff": 15
           },
           "zerolinecolor": "white",
           "zerolinewidth": 2
          }
         }
        },
        "title": {
         "font": {
          "color": "darkblue",
          "size": 22
         },
         "text": "📈 2nd Innings Batting Performance"
        },
        "xaxis": {
         "anchor": "y",
         "domain": [
          0,
          1
         ],
         "showgrid": false,
         "title": {
          "text": "Batsman"
         }
        },
        "yaxis": {
         "anchor": "x",
         "domain": [
          0,
          1
         ],
         "gridcolor": "lightgray",
         "showgrid": true,
         "title": {
          "text": "Runs Scored"
         }
        }
       }
      }
     },
     "metadata": {},
     "output_type": "display_data"
    }
   ],
   "source": [
    "\n",
    "\n",
    "# Line graph for 2nd innings batting performance\n",
    "fig_bat2_line = px.line(\n",
    "    batting_summary2,\n",
    "    x=\"batsman\",\n",
    "    y=\"runs\",\n",
    "    markers=True,\n",
    "    title=\"📈 2nd Innings Batting Performance\"\n",
    ")\n",
    "\n",
    "# Style tweaks\n",
    "fig_bat2_line.update_traces(\n",
    "    line=dict(color=\"darkblue\", width=3),\n",
    "    marker=dict(size=10, color=\"orange\", line=dict(width=2, color=\"black\")),\n",
    "    hovertemplate=\"<b>Batsman:</b> %{x}<br>Runs: %{y}<extra></extra>\"\n",
    ")\n",
    "\n",
    "fig_bat2_line.update_layout(\n",
    "    plot_bgcolor=\"white\",\n",
    "    xaxis=dict(title=\"Batsman\", showgrid=False),\n",
    "    yaxis=dict(title=\"Runs Scored\", showgrid=True, gridcolor=\"lightgray\"),\n",
    "    font=dict(family=\"Verdana\", size=14),\n",
    "    title_font=dict(size=22, color=\"darkblue\")\n",
    ")\n",
    "\n",
    "fig_bat2_line.show()\n"
   ]
  },
  {
   "cell_type": "markdown",
   "id": "ce7a8973",
   "metadata": {},
   "source": [
    "\n",
    "## Bowling Summary"
   ]
  },
  {
   "cell_type": "code",
   "execution_count": 41,
   "id": "bcca7b75",
   "metadata": {},
   "outputs": [
    {
     "data": {
      "application/vnd.plotly.v1+json": {
       "config": {
        "plotlyServerURL": "https://plot.ly"
       },
       "data": [
        {
         "customdata": {
          "bdata": "DxEiFyYQ",
          "dtype": "i1",
          "shape": "6, 1"
         },
         "hovertemplate": "<b>Bowler:</b> %{x}<br>Wickets: %{y}<br>Runs Conceded: %{customdata}<extra></extra>",
         "legendgroup": "",
         "marker": {
          "color": {
           "bdata": "AAAAAAAA8D8AAAAAAAAAAAAAAAAAAPA/AAAAAAAAAAAAAAAAAAAAAAAAAAAAAAAA",
           "dtype": "f8"
          },
          "coloraxis": "coloraxis",
          "line": {
           "color": "black",
           "width": 1
          },
          "pattern": {
           "shape": ""
          }
         },
         "name": "",
         "orientation": "v",
         "showlegend": false,
         "text": {
          "bdata": "AAAAAAAA8D8AAAAAAAAAAAAAAAAAAPA/AAAAAAAAAAAAAAAAAAAAAAAAAAAAAAAA",
          "dtype": "f8"
         },
         "textposition": "outside",
         "type": "bar",
         "x": [
          "Asif Afridi",
          "D Wiese",
          "Haris Rauf",
          "Jahandad Khan",
          "Shaheen Shah Afridi",
          "Sikandar Raza"
         ],
         "xaxis": "x",
         "y": {
          "bdata": "AAAAAAAA8D8AAAAAAAAAAAAAAAAAAPA/AAAAAAAAAAAAAAAAAAAAAAAAAAAAAAAA",
          "dtype": "f8"
         },
         "yaxis": "y"
        }
       ],
       "layout": {
        "bargap": 0.35,
        "barmode": "relative",
        "coloraxis": {
         "colorbar": {
          "title": {
           "text": "wickets"
          }
         },
         "colorscale": [
          [
           0,
           "rgb(255,245,240)"
          ],
          [
           0.125,
           "rgb(254,224,210)"
          ],
          [
           0.25,
           "rgb(252,187,161)"
          ],
          [
           0.375,
           "rgb(252,146,114)"
          ],
          [
           0.5,
           "rgb(251,106,74)"
          ],
          [
           0.625,
           "rgb(239,59,44)"
          ],
          [
           0.75,
           "rgb(203,24,29)"
          ],
          [
           0.875,
           "rgb(165,15,21)"
          ],
          [
           1,
           "rgb(103,0,13)"
          ]
         ]
        },
        "font": {
         "family": "Verdana",
         "size": 13
        },
        "legend": {
         "tracegroupgap": 0
        },
        "plot_bgcolor": "white",
        "template": {
         "data": {
          "bar": [
           {
            "error_x": {
             "color": "#2a3f5f"
            },
            "error_y": {
             "color": "#2a3f5f"
            },
            "marker": {
             "line": {
              "color": "#E5ECF6",
              "width": 0.5
             },
             "pattern": {
              "fillmode": "overlay",
              "size": 10,
              "solidity": 0.2
             }
            },
            "type": "bar"
           }
          ],
          "barpolar": [
           {
            "marker": {
             "line": {
              "color": "#E5ECF6",
              "width": 0.5
             },
             "pattern": {
              "fillmode": "overlay",
              "size": 10,
              "solidity": 0.2
             }
            },
            "type": "barpolar"
           }
          ],
          "carpet": [
           {
            "aaxis": {
             "endlinecolor": "#2a3f5f",
             "gridcolor": "white",
             "linecolor": "white",
             "minorgridcolor": "white",
             "startlinecolor": "#2a3f5f"
            },
            "baxis": {
             "endlinecolor": "#2a3f5f",
             "gridcolor": "white",
             "linecolor": "white",
             "minorgridcolor": "white",
             "startlinecolor": "#2a3f5f"
            },
            "type": "carpet"
           }
          ],
          "choropleth": [
           {
            "colorbar": {
             "outlinewidth": 0,
             "ticks": ""
            },
            "type": "choropleth"
           }
          ],
          "contour": [
           {
            "colorbar": {
             "outlinewidth": 0,
             "ticks": ""
            },
            "colorscale": [
             [
              0,
              "#0d0887"
             ],
             [
              0.1111111111111111,
              "#46039f"
             ],
             [
              0.2222222222222222,
              "#7201a8"
             ],
             [
              0.3333333333333333,
              "#9c179e"
             ],
             [
              0.4444444444444444,
              "#bd3786"
             ],
             [
              0.5555555555555556,
              "#d8576b"
             ],
             [
              0.6666666666666666,
              "#ed7953"
             ],
             [
              0.7777777777777778,
              "#fb9f3a"
             ],
             [
              0.8888888888888888,
              "#fdca26"
             ],
             [
              1,
              "#f0f921"
             ]
            ],
            "type": "contour"
           }
          ],
          "contourcarpet": [
           {
            "colorbar": {
             "outlinewidth": 0,
             "ticks": ""
            },
            "type": "contourcarpet"
           }
          ],
          "heatmap": [
           {
            "colorbar": {
             "outlinewidth": 0,
             "ticks": ""
            },
            "colorscale": [
             [
              0,
              "#0d0887"
             ],
             [
              0.1111111111111111,
              "#46039f"
             ],
             [
              0.2222222222222222,
              "#7201a8"
             ],
             [
              0.3333333333333333,
              "#9c179e"
             ],
             [
              0.4444444444444444,
              "#bd3786"
             ],
             [
              0.5555555555555556,
              "#d8576b"
             ],
             [
              0.6666666666666666,
              "#ed7953"
             ],
             [
              0.7777777777777778,
              "#fb9f3a"
             ],
             [
              0.8888888888888888,
              "#fdca26"
             ],
             [
              1,
              "#f0f921"
             ]
            ],
            "type": "heatmap"
           }
          ],
          "histogram": [
           {
            "marker": {
             "pattern": {
              "fillmode": "overlay",
              "size": 10,
              "solidity": 0.2
             }
            },
            "type": "histogram"
           }
          ],
          "histogram2d": [
           {
            "colorbar": {
             "outlinewidth": 0,
             "ticks": ""
            },
            "colorscale": [
             [
              0,
              "#0d0887"
             ],
             [
              0.1111111111111111,
              "#46039f"
             ],
             [
              0.2222222222222222,
              "#7201a8"
             ],
             [
              0.3333333333333333,
              "#9c179e"
             ],
             [
              0.4444444444444444,
              "#bd3786"
             ],
             [
              0.5555555555555556,
              "#d8576b"
             ],
             [
              0.6666666666666666,
              "#ed7953"
             ],
             [
              0.7777777777777778,
              "#fb9f3a"
             ],
             [
              0.8888888888888888,
              "#fdca26"
             ],
             [
              1,
              "#f0f921"
             ]
            ],
            "type": "histogram2d"
           }
          ],
          "histogram2dcontour": [
           {
            "colorbar": {
             "outlinewidth": 0,
             "ticks": ""
            },
            "colorscale": [
             [
              0,
              "#0d0887"
             ],
             [
              0.1111111111111111,
              "#46039f"
             ],
             [
              0.2222222222222222,
              "#7201a8"
             ],
             [
              0.3333333333333333,
              "#9c179e"
             ],
             [
              0.4444444444444444,
              "#bd3786"
             ],
             [
              0.5555555555555556,
              "#d8576b"
             ],
             [
              0.6666666666666666,
              "#ed7953"
             ],
             [
              0.7777777777777778,
              "#fb9f3a"
             ],
             [
              0.8888888888888888,
              "#fdca26"
             ],
             [
              1,
              "#f0f921"
             ]
            ],
            "type": "histogram2dcontour"
           }
          ],
          "mesh3d": [
           {
            "colorbar": {
             "outlinewidth": 0,
             "ticks": ""
            },
            "type": "mesh3d"
           }
          ],
          "parcoords": [
           {
            "line": {
             "colorbar": {
              "outlinewidth": 0,
              "ticks": ""
             }
            },
            "type": "parcoords"
           }
          ],
          "pie": [
           {
            "automargin": true,
            "type": "pie"
           }
          ],
          "scatter": [
           {
            "fillpattern": {
             "fillmode": "overlay",
             "size": 10,
             "solidity": 0.2
            },
            "type": "scatter"
           }
          ],
          "scatter3d": [
           {
            "line": {
             "colorbar": {
              "outlinewidth": 0,
              "ticks": ""
             }
            },
            "marker": {
             "colorbar": {
              "outlinewidth": 0,
              "ticks": ""
             }
            },
            "type": "scatter3d"
           }
          ],
          "scattercarpet": [
           {
            "marker": {
             "colorbar": {
              "outlinewidth": 0,
              "ticks": ""
             }
            },
            "type": "scattercarpet"
           }
          ],
          "scattergeo": [
           {
            "marker": {
             "colorbar": {
              "outlinewidth": 0,
              "ticks": ""
             }
            },
            "type": "scattergeo"
           }
          ],
          "scattergl": [
           {
            "marker": {
             "colorbar": {
              "outlinewidth": 0,
              "ticks": ""
             }
            },
            "type": "scattergl"
           }
          ],
          "scattermap": [
           {
            "marker": {
             "colorbar": {
              "outlinewidth": 0,
              "ticks": ""
             }
            },
            "type": "scattermap"
           }
          ],
          "scattermapbox": [
           {
            "marker": {
             "colorbar": {
              "outlinewidth": 0,
              "ticks": ""
             }
            },
            "type": "scattermapbox"
           }
          ],
          "scatterpolar": [
           {
            "marker": {
             "colorbar": {
              "outlinewidth": 0,
              "ticks": ""
             }
            },
            "type": "scatterpolar"
           }
          ],
          "scatterpolargl": [
           {
            "marker": {
             "colorbar": {
              "outlinewidth": 0,
              "ticks": ""
             }
            },
            "type": "scatterpolargl"
           }
          ],
          "scatterternary": [
           {
            "marker": {
             "colorbar": {
              "outlinewidth": 0,
              "ticks": ""
             }
            },
            "type": "scatterternary"
           }
          ],
          "surface": [
           {
            "colorbar": {
             "outlinewidth": 0,
             "ticks": ""
            },
            "colorscale": [
             [
              0,
              "#0d0887"
             ],
             [
              0.1111111111111111,
              "#46039f"
             ],
             [
              0.2222222222222222,
              "#7201a8"
             ],
             [
              0.3333333333333333,
              "#9c179e"
             ],
             [
              0.4444444444444444,
              "#bd3786"
             ],
             [
              0.5555555555555556,
              "#d8576b"
             ],
             [
              0.6666666666666666,
              "#ed7953"
             ],
             [
              0.7777777777777778,
              "#fb9f3a"
             ],
             [
              0.8888888888888888,
              "#fdca26"
             ],
             [
              1,
              "#f0f921"
             ]
            ],
            "type": "surface"
           }
          ],
          "table": [
           {
            "cells": {
             "fill": {
              "color": "#EBF0F8"
             },
             "line": {
              "color": "white"
             }
            },
            "header": {
             "fill": {
              "color": "#C8D4E3"
             },
             "line": {
              "color": "white"
             }
            },
            "type": "table"
           }
          ]
         },
         "layout": {
          "annotationdefaults": {
           "arrowcolor": "#2a3f5f",
           "arrowhead": 0,
           "arrowwidth": 1
          },
          "autotypenumbers": "strict",
          "coloraxis": {
           "colorbar": {
            "outlinewidth": 0,
            "ticks": ""
           }
          },
          "colorscale": {
           "diverging": [
            [
             0,
             "#8e0152"
            ],
            [
             0.1,
             "#c51b7d"
            ],
            [
             0.2,
             "#de77ae"
            ],
            [
             0.3,
             "#f1b6da"
            ],
            [
             0.4,
             "#fde0ef"
            ],
            [
             0.5,
             "#f7f7f7"
            ],
            [
             0.6,
             "#e6f5d0"
            ],
            [
             0.7,
             "#b8e186"
            ],
            [
             0.8,
             "#7fbc41"
            ],
            [
             0.9,
             "#4d9221"
            ],
            [
             1,
             "#276419"
            ]
           ],
           "sequential": [
            [
             0,
             "#0d0887"
            ],
            [
             0.1111111111111111,
             "#46039f"
            ],
            [
             0.2222222222222222,
             "#7201a8"
            ],
            [
             0.3333333333333333,
             "#9c179e"
            ],
            [
             0.4444444444444444,
             "#bd3786"
            ],
            [
             0.5555555555555556,
             "#d8576b"
            ],
            [
             0.6666666666666666,
             "#ed7953"
            ],
            [
             0.7777777777777778,
             "#fb9f3a"
            ],
            [
             0.8888888888888888,
             "#fdca26"
            ],
            [
             1,
             "#f0f921"
            ]
           ],
           "sequentialminus": [
            [
             0,
             "#0d0887"
            ],
            [
             0.1111111111111111,
             "#46039f"
            ],
            [
             0.2222222222222222,
             "#7201a8"
            ],
            [
             0.3333333333333333,
             "#9c179e"
            ],
            [
             0.4444444444444444,
             "#bd3786"
            ],
            [
             0.5555555555555556,
             "#d8576b"
            ],
            [
             0.6666666666666666,
             "#ed7953"
            ],
            [
             0.7777777777777778,
             "#fb9f3a"
            ],
            [
             0.8888888888888888,
             "#fdca26"
            ],
            [
             1,
             "#f0f921"
            ]
           ]
          },
          "colorway": [
           "#636efa",
           "#EF553B",
           "#00cc96",
           "#ab63fa",
           "#FFA15A",
           "#19d3f3",
           "#FF6692",
           "#B6E880",
           "#FF97FF",
           "#FECB52"
          ],
          "font": {
           "color": "#2a3f5f"
          },
          "geo": {
           "bgcolor": "white",
           "lakecolor": "white",
           "landcolor": "#E5ECF6",
           "showlakes": true,
           "showland": true,
           "subunitcolor": "white"
          },
          "hoverlabel": {
           "align": "left"
          },
          "hovermode": "closest",
          "mapbox": {
           "style": "light"
          },
          "paper_bgcolor": "white",
          "plot_bgcolor": "#E5ECF6",
          "polar": {
           "angularaxis": {
            "gridcolor": "white",
            "linecolor": "white",
            "ticks": ""
           },
           "bgcolor": "#E5ECF6",
           "radialaxis": {
            "gridcolor": "white",
            "linecolor": "white",
            "ticks": ""
           }
          },
          "scene": {
           "xaxis": {
            "backgroundcolor": "#E5ECF6",
            "gridcolor": "white",
            "gridwidth": 2,
            "linecolor": "white",
            "showbackground": true,
            "ticks": "",
            "zerolinecolor": "white"
           },
           "yaxis": {
            "backgroundcolor": "#E5ECF6",
            "gridcolor": "white",
            "gridwidth": 2,
            "linecolor": "white",
            "showbackground": true,
            "ticks": "",
            "zerolinecolor": "white"
           },
           "zaxis": {
            "backgroundcolor": "#E5ECF6",
            "gridcolor": "white",
            "gridwidth": 2,
            "linecolor": "white",
            "showbackground": true,
            "ticks": "",
            "zerolinecolor": "white"
           }
          },
          "shapedefaults": {
           "line": {
            "color": "#2a3f5f"
           }
          },
          "ternary": {
           "aaxis": {
            "gridcolor": "white",
            "linecolor": "white",
            "ticks": ""
           },
           "baxis": {
            "gridcolor": "white",
            "linecolor": "white",
            "ticks": ""
           },
           "bgcolor": "#E5ECF6",
           "caxis": {
            "gridcolor": "white",
            "linecolor": "white",
            "ticks": ""
           }
          },
          "title": {
           "x": 0.05
          },
          "xaxis": {
           "automargin": true,
           "gridcolor": "white",
           "linecolor": "white",
           "ticks": "",
           "title": {
            "standoff": 15
           },
           "zerolinecolor": "white",
           "zerolinewidth": 2
          },
          "yaxis": {
           "automargin": true,
           "gridcolor": "white",
           "linecolor": "white",
           "ticks": "",
           "title": {
            "standoff": 15
           },
           "zerolinecolor": "white",
           "zerolinewidth": 2
          }
         }
        },
        "title": {
         "font": {
          "color": "darkred",
          "size": 22
         },
         "text": "🔥 Bowling Performance – 2nd Innings"
        },
        "xaxis": {
         "anchor": "y",
         "domain": [
          0,
          1
         ],
         "showgrid": false,
         "title": {
          "text": "Bowler"
         }
        },
        "yaxis": {
         "anchor": "x",
         "domain": [
          0,
          1
         ],
         "gridcolor": "lightgray",
         "showgrid": true,
         "title": {
          "text": "Wickets Taken"
         }
        }
       }
      }
     },
     "metadata": {},
     "output_type": "display_data"
    }
   ],
   "source": [
    "\n",
    "\n",
    "# Bowling summary (2nd innings)\n",
    "wickets2 = df2[df2[\"wicket\"].notnull()].groupby(\"bowler\").size().reset_index(name=\"wickets\")\n",
    "runs_conceded2 = df2.groupby(\"bowler\")[\"total_runs\"].sum().reset_index()\n",
    "\n",
    "bowling_summary2 = runs_conceded2.merge(wickets2, on=\"bowler\", how=\"left\").fillna(0)\n",
    "\n",
    "# Beautiful bowling chart\n",
    "fig_bowl2 = px.bar(\n",
    "    bowling_summary2,\n",
    "    x=\"bowler\",\n",
    "    y=\"wickets\",\n",
    "    text=\"wickets\",\n",
    "    title=\"🔥 Bowling Performance – 2nd Innings\",\n",
    "    color=\"wickets\",\n",
    "    color_continuous_scale=px.colors.sequential.Reds\n",
    ")\n",
    "\n",
    "# Styling improvements\n",
    "fig_bowl2.update_traces(\n",
    "    textposition=\"outside\",\n",
    "    marker=dict(line=dict(width=1, color=\"black\")),\n",
    "    hovertemplate=\"<b>Bowler:</b> %{x}<br>Wickets: %{y}<br>Runs Conceded: %{customdata}<extra></extra>\",\n",
    "    customdata=bowling_summary2[[\"total_runs\"]]\n",
    ")\n",
    "\n",
    "fig_bowl2.update_layout(\n",
    "    plot_bgcolor=\"white\",\n",
    "    xaxis=dict(title=\"Bowler\", showgrid=False),\n",
    "    yaxis=dict(title=\"Wickets Taken\", showgrid=True, gridcolor=\"lightgray\"),\n",
    "    font=dict(family=\"Verdana\", size=13),\n",
    "    title_font=dict(size=22, color=\"darkred\"),\n",
    "    bargap=0.35\n",
    ")\n",
    "\n",
    "fig_bowl2.show()\n"
   ]
  },
  {
   "cell_type": "markdown",
   "id": "14182efd",
   "metadata": {},
   "source": [
    "## Catches Summary"
   ]
  },
  {
   "cell_type": "code",
   "execution_count": 42,
   "id": "6aebe532",
   "metadata": {},
   "outputs": [
    {
     "data": {
      "application/vnd.plotly.v1+json": {
       "config": {
        "plotlyServerURL": "https://plot.ly"
       },
       "data": [
        {
         "hovertemplate": "<b>Fielder:</b> %{x}<br>Catches: %{y}<extra></extra>",
         "legendgroup": "",
         "marker": {
          "color": {
           "bdata": "AQ==",
           "dtype": "i1"
          },
          "coloraxis": "coloraxis",
          "line": {
           "color": "black",
           "width": 1
          },
          "pattern": {
           "shape": ""
          }
         },
         "name": "",
         "orientation": "v",
         "showlegend": false,
         "text": {
          "bdata": "AAAAAAAA8D8=",
          "dtype": "f8"
         },
         "textposition": "outside",
         "type": "bar",
         "x": [
          "Sikandar Raza"
         ],
         "xaxis": "x",
         "y": {
          "bdata": "AQ==",
          "dtype": "i1"
         },
         "yaxis": "y"
        }
       ],
       "layout": {
        "bargap": 0.4,
        "barmode": "relative",
        "coloraxis": {
         "colorbar": {
          "title": {
           "text": "catches"
          }
         },
         "colorscale": [
          [
           0,
           "rgb(247,251,255)"
          ],
          [
           0.125,
           "rgb(222,235,247)"
          ],
          [
           0.25,
           "rgb(198,219,239)"
          ],
          [
           0.375,
           "rgb(158,202,225)"
          ],
          [
           0.5,
           "rgb(107,174,214)"
          ],
          [
           0.625,
           "rgb(66,146,198)"
          ],
          [
           0.75,
           "rgb(33,113,181)"
          ],
          [
           0.875,
           "rgb(8,81,156)"
          ],
          [
           1,
           "rgb(8,48,107)"
          ]
         ]
        },
        "font": {
         "family": "Verdana",
         "size": 13
        },
        "legend": {
         "tracegroupgap": 0
        },
        "plot_bgcolor": "white",
        "template": {
         "data": {
          "bar": [
           {
            "error_x": {
             "color": "#2a3f5f"
            },
            "error_y": {
             "color": "#2a3f5f"
            },
            "marker": {
             "line": {
              "color": "#E5ECF6",
              "width": 0.5
             },
             "pattern": {
              "fillmode": "overlay",
              "size": 10,
              "solidity": 0.2
             }
            },
            "type": "bar"
           }
          ],
          "barpolar": [
           {
            "marker": {
             "line": {
              "color": "#E5ECF6",
              "width": 0.5
             },
             "pattern": {
              "fillmode": "overlay",
              "size": 10,
              "solidity": 0.2
             }
            },
            "type": "barpolar"
           }
          ],
          "carpet": [
           {
            "aaxis": {
             "endlinecolor": "#2a3f5f",
             "gridcolor": "white",
             "linecolor": "white",
             "minorgridcolor": "white",
             "startlinecolor": "#2a3f5f"
            },
            "baxis": {
             "endlinecolor": "#2a3f5f",
             "gridcolor": "white",
             "linecolor": "white",
             "minorgridcolor": "white",
             "startlinecolor": "#2a3f5f"
            },
            "type": "carpet"
           }
          ],
          "choropleth": [
           {
            "colorbar": {
             "outlinewidth": 0,
             "ticks": ""
            },
            "type": "choropleth"
           }
          ],
          "contour": [
           {
            "colorbar": {
             "outlinewidth": 0,
             "ticks": ""
            },
            "colorscale": [
             [
              0,
              "#0d0887"
             ],
             [
              0.1111111111111111,
              "#46039f"
             ],
             [
              0.2222222222222222,
              "#7201a8"
             ],
             [
              0.3333333333333333,
              "#9c179e"
             ],
             [
              0.4444444444444444,
              "#bd3786"
             ],
             [
              0.5555555555555556,
              "#d8576b"
             ],
             [
              0.6666666666666666,
              "#ed7953"
             ],
             [
              0.7777777777777778,
              "#fb9f3a"
             ],
             [
              0.8888888888888888,
              "#fdca26"
             ],
             [
              1,
              "#f0f921"
             ]
            ],
            "type": "contour"
           }
          ],
          "contourcarpet": [
           {
            "colorbar": {
             "outlinewidth": 0,
             "ticks": ""
            },
            "type": "contourcarpet"
           }
          ],
          "heatmap": [
           {
            "colorbar": {
             "outlinewidth": 0,
             "ticks": ""
            },
            "colorscale": [
             [
              0,
              "#0d0887"
             ],
             [
              0.1111111111111111,
              "#46039f"
             ],
             [
              0.2222222222222222,
              "#7201a8"
             ],
             [
              0.3333333333333333,
              "#9c179e"
             ],
             [
              0.4444444444444444,
              "#bd3786"
             ],
             [
              0.5555555555555556,
              "#d8576b"
             ],
             [
              0.6666666666666666,
              "#ed7953"
             ],
             [
              0.7777777777777778,
              "#fb9f3a"
             ],
             [
              0.8888888888888888,
              "#fdca26"
             ],
             [
              1,
              "#f0f921"
             ]
            ],
            "type": "heatmap"
           }
          ],
          "histogram": [
           {
            "marker": {
             "pattern": {
              "fillmode": "overlay",
              "size": 10,
              "solidity": 0.2
             }
            },
            "type": "histogram"
           }
          ],
          "histogram2d": [
           {
            "colorbar": {
             "outlinewidth": 0,
             "ticks": ""
            },
            "colorscale": [
             [
              0,
              "#0d0887"
             ],
             [
              0.1111111111111111,
              "#46039f"
             ],
             [
              0.2222222222222222,
              "#7201a8"
             ],
             [
              0.3333333333333333,
              "#9c179e"
             ],
             [
              0.4444444444444444,
              "#bd3786"
             ],
             [
              0.5555555555555556,
              "#d8576b"
             ],
             [
              0.6666666666666666,
              "#ed7953"
             ],
             [
              0.7777777777777778,
              "#fb9f3a"
             ],
             [
              0.8888888888888888,
              "#fdca26"
             ],
             [
              1,
              "#f0f921"
             ]
            ],
            "type": "histogram2d"
           }
          ],
          "histogram2dcontour": [
           {
            "colorbar": {
             "outlinewidth": 0,
             "ticks": ""
            },
            "colorscale": [
             [
              0,
              "#0d0887"
             ],
             [
              0.1111111111111111,
              "#46039f"
             ],
             [
              0.2222222222222222,
              "#7201a8"
             ],
             [
              0.3333333333333333,
              "#9c179e"
             ],
             [
              0.4444444444444444,
              "#bd3786"
             ],
             [
              0.5555555555555556,
              "#d8576b"
             ],
             [
              0.6666666666666666,
              "#ed7953"
             ],
             [
              0.7777777777777778,
              "#fb9f3a"
             ],
             [
              0.8888888888888888,
              "#fdca26"
             ],
             [
              1,
              "#f0f921"
             ]
            ],
            "type": "histogram2dcontour"
           }
          ],
          "mesh3d": [
           {
            "colorbar": {
             "outlinewidth": 0,
             "ticks": ""
            },
            "type": "mesh3d"
           }
          ],
          "parcoords": [
           {
            "line": {
             "colorbar": {
              "outlinewidth": 0,
              "ticks": ""
             }
            },
            "type": "parcoords"
           }
          ],
          "pie": [
           {
            "automargin": true,
            "type": "pie"
           }
          ],
          "scatter": [
           {
            "fillpattern": {
             "fillmode": "overlay",
             "size": 10,
             "solidity": 0.2
            },
            "type": "scatter"
           }
          ],
          "scatter3d": [
           {
            "line": {
             "colorbar": {
              "outlinewidth": 0,
              "ticks": ""
             }
            },
            "marker": {
             "colorbar": {
              "outlinewidth": 0,
              "ticks": ""
             }
            },
            "type": "scatter3d"
           }
          ],
          "scattercarpet": [
           {
            "marker": {
             "colorbar": {
              "outlinewidth": 0,
              "ticks": ""
             }
            },
            "type": "scattercarpet"
           }
          ],
          "scattergeo": [
           {
            "marker": {
             "colorbar": {
              "outlinewidth": 0,
              "ticks": ""
             }
            },
            "type": "scattergeo"
           }
          ],
          "scattergl": [
           {
            "marker": {
             "colorbar": {
              "outlinewidth": 0,
              "ticks": ""
             }
            },
            "type": "scattergl"
           }
          ],
          "scattermap": [
           {
            "marker": {
             "colorbar": {
              "outlinewidth": 0,
              "ticks": ""
             }
            },
            "type": "scattermap"
           }
          ],
          "scattermapbox": [
           {
            "marker": {
             "colorbar": {
              "outlinewidth": 0,
              "ticks": ""
             }
            },
            "type": "scattermapbox"
           }
          ],
          "scatterpolar": [
           {
            "marker": {
             "colorbar": {
              "outlinewidth": 0,
              "ticks": ""
             }
            },
            "type": "scatterpolar"
           }
          ],
          "scatterpolargl": [
           {
            "marker": {
             "colorbar": {
              "outlinewidth": 0,
              "ticks": ""
             }
            },
            "type": "scatterpolargl"
           }
          ],
          "scatterternary": [
           {
            "marker": {
             "colorbar": {
              "outlinewidth": 0,
              "ticks": ""
             }
            },
            "type": "scatterternary"
           }
          ],
          "surface": [
           {
            "colorbar": {
             "outlinewidth": 0,
             "ticks": ""
            },
            "colorscale": [
             [
              0,
              "#0d0887"
             ],
             [
              0.1111111111111111,
              "#46039f"
             ],
             [
              0.2222222222222222,
              "#7201a8"
             ],
             [
              0.3333333333333333,
              "#9c179e"
             ],
             [
              0.4444444444444444,
              "#bd3786"
             ],
             [
              0.5555555555555556,
              "#d8576b"
             ],
             [
              0.6666666666666666,
              "#ed7953"
             ],
             [
              0.7777777777777778,
              "#fb9f3a"
             ],
             [
              0.8888888888888888,
              "#fdca26"
             ],
             [
              1,
              "#f0f921"
             ]
            ],
            "type": "surface"
           }
          ],
          "table": [
           {
            "cells": {
             "fill": {
              "color": "#EBF0F8"
             },
             "line": {
              "color": "white"
             }
            },
            "header": {
             "fill": {
              "color": "#C8D4E3"
             },
             "line": {
              "color": "white"
             }
            },
            "type": "table"
           }
          ]
         },
         "layout": {
          "annotationdefaults": {
           "arrowcolor": "#2a3f5f",
           "arrowhead": 0,
           "arrowwidth": 1
          },
          "autotypenumbers": "strict",
          "coloraxis": {
           "colorbar": {
            "outlinewidth": 0,
            "ticks": ""
           }
          },
          "colorscale": {
           "diverging": [
            [
             0,
             "#8e0152"
            ],
            [
             0.1,
             "#c51b7d"
            ],
            [
             0.2,
             "#de77ae"
            ],
            [
             0.3,
             "#f1b6da"
            ],
            [
             0.4,
             "#fde0ef"
            ],
            [
             0.5,
             "#f7f7f7"
            ],
            [
             0.6,
             "#e6f5d0"
            ],
            [
             0.7,
             "#b8e186"
            ],
            [
             0.8,
             "#7fbc41"
            ],
            [
             0.9,
             "#4d9221"
            ],
            [
             1,
             "#276419"
            ]
           ],
           "sequential": [
            [
             0,
             "#0d0887"
            ],
            [
             0.1111111111111111,
             "#46039f"
            ],
            [
             0.2222222222222222,
             "#7201a8"
            ],
            [
             0.3333333333333333,
             "#9c179e"
            ],
            [
             0.4444444444444444,
             "#bd3786"
            ],
            [
             0.5555555555555556,
             "#d8576b"
            ],
            [
             0.6666666666666666,
             "#ed7953"
            ],
            [
             0.7777777777777778,
             "#fb9f3a"
            ],
            [
             0.8888888888888888,
             "#fdca26"
            ],
            [
             1,
             "#f0f921"
            ]
           ],
           "sequentialminus": [
            [
             0,
             "#0d0887"
            ],
            [
             0.1111111111111111,
             "#46039f"
            ],
            [
             0.2222222222222222,
             "#7201a8"
            ],
            [
             0.3333333333333333,
             "#9c179e"
            ],
            [
             0.4444444444444444,
             "#bd3786"
            ],
            [
             0.5555555555555556,
             "#d8576b"
            ],
            [
             0.6666666666666666,
             "#ed7953"
            ],
            [
             0.7777777777777778,
             "#fb9f3a"
            ],
            [
             0.8888888888888888,
             "#fdca26"
            ],
            [
             1,
             "#f0f921"
            ]
           ]
          },
          "colorway": [
           "#636efa",
           "#EF553B",
           "#00cc96",
           "#ab63fa",
           "#FFA15A",
           "#19d3f3",
           "#FF6692",
           "#B6E880",
           "#FF97FF",
           "#FECB52"
          ],
          "font": {
           "color": "#2a3f5f"
          },
          "geo": {
           "bgcolor": "white",
           "lakecolor": "white",
           "landcolor": "#E5ECF6",
           "showlakes": true,
           "showland": true,
           "subunitcolor": "white"
          },
          "hoverlabel": {
           "align": "left"
          },
          "hovermode": "closest",
          "mapbox": {
           "style": "light"
          },
          "paper_bgcolor": "white",
          "plot_bgcolor": "#E5ECF6",
          "polar": {
           "angularaxis": {
            "gridcolor": "white",
            "linecolor": "white",
            "ticks": ""
           },
           "bgcolor": "#E5ECF6",
           "radialaxis": {
            "gridcolor": "white",
            "linecolor": "white",
            "ticks": ""
           }
          },
          "scene": {
           "xaxis": {
            "backgroundcolor": "#E5ECF6",
            "gridcolor": "white",
            "gridwidth": 2,
            "linecolor": "white",
            "showbackground": true,
            "ticks": "",
            "zerolinecolor": "white"
           },
           "yaxis": {
            "backgroundcolor": "#E5ECF6",
            "gridcolor": "white",
            "gridwidth": 2,
            "linecolor": "white",
            "showbackground": true,
            "ticks": "",
            "zerolinecolor": "white"
           },
           "zaxis": {
            "backgroundcolor": "#E5ECF6",
            "gridcolor": "white",
            "gridwidth": 2,
            "linecolor": "white",
            "showbackground": true,
            "ticks": "",
            "zerolinecolor": "white"
           }
          },
          "shapedefaults": {
           "line": {
            "color": "#2a3f5f"
           }
          },
          "ternary": {
           "aaxis": {
            "gridcolor": "white",
            "linecolor": "white",
            "ticks": ""
           },
           "baxis": {
            "gridcolor": "white",
            "linecolor": "white",
            "ticks": ""
           },
           "bgcolor": "#E5ECF6",
           "caxis": {
            "gridcolor": "white",
            "linecolor": "white",
            "ticks": ""
           }
          },
          "title": {
           "x": 0.05
          },
          "xaxis": {
           "automargin": true,
           "gridcolor": "white",
           "linecolor": "white",
           "ticks": "",
           "title": {
            "standoff": 15
           },
           "zerolinecolor": "white",
           "zerolinewidth": 2
          },
          "yaxis": {
           "automargin": true,
           "gridcolor": "white",
           "linecolor": "white",
           "ticks": "",
           "title": {
            "standoff": 15
           },
           "zerolinecolor": "white",
           "zerolinewidth": 2
          }
         }
        },
        "title": {
         "font": {
          "color": "darkblue",
          "size": 22
         },
         "text": "🧤 Fielding Impact – Catches Taken (2nd Innings)"
        },
        "xaxis": {
         "anchor": "y",
         "domain": [
          0,
          1
         ],
         "showgrid": false,
         "title": {
          "text": "Fielder"
         }
        },
        "yaxis": {
         "anchor": "x",
         "domain": [
          0,
          1
         ],
         "gridcolor": "lightgray",
         "showgrid": true,
         "title": {
          "text": "Catches Taken"
         }
        }
       }
      }
     },
     "metadata": {},
     "output_type": "display_data"
    }
   ],
   "source": [
    "\n",
    "\n",
    "if catch_data2:  # only plot if catches exist\n",
    "    catch_summary2 = pd.Series(catch_data2).value_counts().reset_index()\n",
    "    catch_summary2.columns = [\"fielder\",\"catches\"]\n",
    "\n",
    "    # Beautiful fielding chart\n",
    "    fig_catch2 = px.bar(\n",
    "        catch_summary2,\n",
    "        x=\"fielder\",\n",
    "        y=\"catches\",\n",
    "        text=\"catches\",\n",
    "        title=\"🧤 Fielding Impact – Catches Taken (2nd Innings)\",\n",
    "        color=\"catches\",\n",
    "        color_continuous_scale=px.colors.sequential.Blues\n",
    "    )\n",
    "\n",
    "    # Styling upgrades\n",
    "    fig_catch2.update_traces(\n",
    "        textposition=\"outside\",\n",
    "        marker=dict(line=dict(width=1, color=\"black\")),\n",
    "        hovertemplate=\"<b>Fielder:</b> %{x}<br>Catches: %{y}<extra></extra>\"\n",
    "    )\n",
    "\n",
    "    fig_catch2.update_layout(\n",
    "        plot_bgcolor=\"white\",\n",
    "        xaxis=dict(title=\"Fielder\", showgrid=False),\n",
    "        yaxis=dict(title=\"Catches Taken\", showgrid=True, gridcolor=\"lightgray\"),\n",
    "        font=dict(family=\"Verdana\", size=13),\n",
    "        title_font=dict(size=22, color=\"darkblue\"),\n",
    "        bargap=0.4\n",
    "    )\n",
    "\n",
    "    fig_catch2.show()\n"
   ]
  },
  {
   "cell_type": "markdown",
   "id": "2ba52e36",
   "metadata": {},
   "source": [
    "## Total_innings2 Score"
   ]
  },
  {
   "cell_type": "code",
   "execution_count": 35,
   "id": "1b57cd70",
   "metadata": {},
   "outputs": [
    {
     "name": "stdout",
     "output_type": "stream",
     "text": [
      "Target for 2nd Innings: 140\n",
      "Second Innings Score: 143\n"
     ]
    }
   ],
   "source": [
    "# First innings total (Team batting first)\n",
    "total_innings1 = df[\"total_runs\"].sum()\n",
    "\n",
    "\n",
    "\n",
    "# Second innings total (Team chasing)\n",
    "total_innings2 = df2[\"total_runs\"].sum()\n",
    "\n",
    "\n",
    "print(f\"Target for 2nd Innings: {target}\")\n",
    "print(f\"Second Innings Score: {total_innings2}\")"
   ]
  },
  {
   "cell_type": "markdown",
   "id": "1d737cbd",
   "metadata": {},
   "source": [
    "## Extract Winner\n"
   ]
  },
  {
   "cell_type": "code",
   "execution_count": 24,
   "id": "6ee1b2d3",
   "metadata": {},
   "outputs": [
    {
     "name": "stdout",
     "output_type": "stream",
     "text": [
      "🏆 Islamabad United won the match by 8 wickets\n"
     ]
    }
   ],
   "source": [
    "# Get match outcome\n",
    "outcome = match_data[\"info\"][\"outcome\"]\n",
    "\n",
    "if \"winner\" in outcome:\n",
    "    winner = outcome[\"winner\"]\n",
    "    if \"by\" in outcome:\n",
    "        win_type = list(outcome[\"by\"].keys())[0]   # runs / wickets\n",
    "        margin = outcome[\"by\"][win_type]\n",
    "        print(f\"🏆 {winner} won the match by {margin} {win_type}\")\n",
    "    else:\n",
    "        print(f\"🏆 {winner} won the match\")\n",
    "else:\n",
    "    print(\"The match ended in a tie or no result\")\n"
   ]
  },
  {
   "cell_type": "markdown",
   "id": "fa66405e",
   "metadata": {},
   "source": [
    "## Bar Chart of Match Outcome"
   ]
  },
  {
   "cell_type": "code",
   "execution_count": 44,
   "id": "afa21e1c",
   "metadata": {},
   "outputs": [
    {
     "data": {
      "image/png": "[encoded data removed]",
      "text/plain": [
       "<Figure size 640x480 with 1 Axes>"
      ]
     },
     "metadata": {},
     "output_type": "display_data"
    }
   ],
   "source": [
    "\n",
    "\n",
    "if \"winner\" in outcome and \"by\" in outcome:\n",
    "    winner = outcome[\"winner\"]\n",
    "    win_type = list(outcome[\"by\"].keys())[0]\n",
    "    margin = outcome[\"by\"][win_type]\n",
    "\n",
    "    plt.pie([margin, 1], labels=[f\"{winner} ({margin} {win_type})\", \"Opponent\"],\n",
    "            autopct='%1.1f%%', colors=[\"green\", \"red\"])\n",
    "    plt.title(f\"Match Result: {winner}\")\n",
    "    plt.show()\n"
   ]
  },
  {
   "cell_type": "code",
   "execution_count": 36,
   "id": "58e08603",
   "metadata": {},
   "outputs": [
    {
     "name": "stdout",
     "output_type": "stream",
     "text": [
      "First Innings Score: 139\n",
      "Target for 2nd Innings: 140\n",
      "Second Innings Score: 143\n"
     ]
    }
   ],
   "source": [
    "# First innings total (Team batting first)\n",
    "total_innings1 = df[\"total_runs\"].sum()\n",
    "\n",
    "# Target for second innings\n",
    "target = total_innings1 + 1\n",
    "\n",
    "# Second innings total (Team chasing)\n",
    "total_innings2 = df2[\"total_runs\"].sum()\n",
    "\n",
    "print(f\"First Innings Score: {total_innings1}\")\n",
    "print(f\"Target for 2nd Innings: {target}\")\n",
    "\n",
    "print(f\"Second Innings Score: {total_innings2}\")"
   ]
  },
  {
   "cell_type": "markdown",
   "id": "8dca8465",
   "metadata": {},
   "source": [
    " ## 🏏 Match Summary – Lahore Qalandars vs Islamabad United\n",
    "\n",
    "Teams: Lahore Qalandars 🆚 Islamabad United\n",
    "\n",
    "Format: T20 (PSL)\n",
    "\n",
    "Venue: (from YAML: match_data[\"info\"][\"venue\"])\n",
    "\n",
    "📊 First Innings (Lahore Qalandars)\n",
    "\n",
    "Total Runs: 139\n",
    "\n",
    "Top Scorer: Player A – Abdullah shafique(66)\n",
    "\n",
    "Best Bowler (opponent): Player B – Z wickets Asif afridi \n",
    "\n",
    "📊 Second Innings (Islamabad United)\n",
    "\n",
    "Total Runs: 143*\n",
    "\n",
    "Top Scorer: Player C – C Munro \n",
    "\n",
    "Best Bowler (opponent): Player D – Jo Holder(4w)\n",
    "\n",
    "🏆 Match Result\n",
    "\n",
    "**Winner:**`  Islamabad United`\n",
    "\n"
   ]
  }
 ],
 "metadata": {
  "kernelspec": {
   "display_name": "streamlit_env",
   "language": "python",
   "name": "python3"
  },
  "language_info": {
   "codemirror_mode": {
    "name": "ipython",
    "version": 3
   },
   "file_extension": ".py",
   "mimetype": "text/x-python",
   "name": "python",
   "nbconvert_exporter": "python",
   "pygments_lexer": "ipython3",
   "version": "3.13.7"
  }
 },
 "nbformat": 4,
 "nbformat_minor": 5
}
